{
 "cells": [
  {
   "cell_type": "markdown",
   "metadata": {},
   "source": [
    "# get gene coverage for all the TARA runs"
   ]
  },
  {
   "cell_type": "code",
   "execution_count": 4,
   "metadata": {
    "collapsed": true
   },
   "outputs": [],
   "source": [
    "import pandas as pd"
   ]
  },
  {
   "cell_type": "code",
   "execution_count": 9,
   "metadata": {
    "collapsed": false
   },
   "outputs": [
    {
     "name": "stdout",
     "output_type": "stream",
     "text": [
      "243\n"
     ]
    },
    {
     "data": {
      "text/html": [
       "<div>\n",
       "<style scoped>\n",
       "    .dataframe tbody tr th:only-of-type {\n",
       "        vertical-align: middle;\n",
       "    }\n",
       "\n",
       "    .dataframe tbody tr th {\n",
       "        vertical-align: top;\n",
       "    }\n",
       "\n",
       "    .dataframe thead th {\n",
       "        text-align: right;\n",
       "    }\n",
       "</style>\n",
       "<table border=\"1\" class=\"dataframe\">\n",
       "  <thead>\n",
       "    <tr style=\"text-align: right;\">\n",
       "      <th></th>\n",
       "      <th>run_id</th>\n",
       "      <th>tara_label</th>\n",
       "    </tr>\n",
       "  </thead>\n",
       "  <tbody>\n",
       "    <tr>\n",
       "      <th>0</th>\n",
       "      <td>ERR599095</td>\n",
       "      <td>TARA_004_DCM_0.22-1.6</td>\n",
       "    </tr>\n",
       "    <tr>\n",
       "      <th>1</th>\n",
       "      <td>ERR598955</td>\n",
       "      <td>TARA_004_SRF_0.22-1.6</td>\n",
       "    </tr>\n",
       "    <tr>\n",
       "      <th>2</th>\n",
       "      <td>ERR315856</td>\n",
       "      <td>TARA_007_DCM_0.22-1.6</td>\n",
       "    </tr>\n",
       "    <tr>\n",
       "      <th>3</th>\n",
       "      <td>ERR315857</td>\n",
       "      <td>TARA_007_SRF_0.22-1.6</td>\n",
       "    </tr>\n",
       "    <tr>\n",
       "      <th>4</th>\n",
       "      <td>ERR594329</td>\n",
       "      <td>TARA_009_DCM_0.22-1.6</td>\n",
       "    </tr>\n",
       "  </tbody>\n",
       "</table>\n",
       "</div>"
      ],
      "text/plain": [
       "      run_id             tara_label\n",
       "0  ERR599095  TARA_004_DCM_0.22-1.6\n",
       "1  ERR598955  TARA_004_SRF_0.22-1.6\n",
       "2  ERR315856  TARA_007_DCM_0.22-1.6\n",
       "3  ERR315857  TARA_007_SRF_0.22-1.6\n",
       "4  ERR594329  TARA_009_DCM_0.22-1.6"
      ]
     },
     "execution_count": 9,
     "metadata": {},
     "output_type": "execute_result"
    }
   ],
   "source": [
    "#list run ids\n",
    "run_keys = pd.read_csv(\"runs_samples_keys.csv\")\n",
    "print(len(run_keys))\n",
    "run_keys.head()"
   ]
  },
  {
   "cell_type": "code",
   "execution_count": 22,
   "metadata": {
    "collapsed": false
   },
   "outputs": [
    {
     "name": "stdout",
     "output_type": "stream",
     "text": [
      "processing run ERR599095 ...\n",
      "processing run ERR598955 ...\n",
      "processing run ERR315856 ...\n",
      "processing run ERR315857 ...\n",
      "processing run ERR594329 ...\n",
      "processing run ERR594288 ...\n",
      "processing run ERR599092 ...\n",
      "processing run ERR594352 ...\n",
      "file ERR594352 ; TARA_018_DCM_<-0.22 not found, skipping\n",
      "processing run ERR598993 ...\n",
      "processing run ERR594358 ...\n",
      "file ERR594358 ; TARA_018_SRF_<-0.22 not found, skipping\n",
      "processing run ERR594378 ...\n",
      "file ERR594378 ; TARA_022_SRF_<-0.22 not found, skipping\n",
      "processing run ERR315859 ...\n",
      "processing run ERR594408 ...\n",
      "file ERR594408 ; TARA_023_DCM_<-0.22 not found, skipping\n",
      "processing run ERR315858 ...\n",
      "processing run ERR599094 ...\n",
      "processing run ERR594375 ...\n",
      "file ERR594375 ; TARA_025_DCM_<-0.22 not found, skipping\n",
      "processing run ERR599043 ...\n",
      "processing run ERR594396 ...\n",
      "file ERR594396 ; TARA_025_SRF_<-0.22 not found, skipping\n",
      "processing run ERR318620 ...\n",
      "processing run ERR594405 ...\n",
      "file ERR594405 ; TARA_030_DCM_<-0.22 not found, skipping\n",
      "processing run ERR315862 ...\n",
      "processing run ERR599106 ...\n",
      "processing run ERR594410 ...\n",
      "file ERR594410 ; TARA_031_SRF_<-0.22 not found, skipping\n",
      "processing run ERR599097 ...\n",
      "processing run ERR594360 ...\n",
      "file ERR594360 ; TARA_032_DCM_<-0.22 not found, skipping\n",
      "processing run ERR599116 ...\n",
      "processing run ERR594393 ...\n",
      "file ERR594393 ; TARA_032_SRF_<-0.22 not found, skipping\n",
      "processing run ERR599049 ...\n",
      "processing run ERR599111 ...\n",
      "processing run ERR594390 ...\n",
      "file ERR594390 ; TARA_034_DCM_<-0.22 not found, skipping\n",
      "processing run ERR594328 ...\n",
      "processing run ERR598991 ...\n",
      "processing run ERR594370 ...\n",
      "file ERR594370 ; TARA_034_SRF_<-0.22 not found, skipping\n",
      "processing run ERR599028 ...\n",
      "processing run ERR594402 ...\n",
      "file ERR594402 ; TARA_036_DCM_<-0.22 not found, skipping\n",
      "processing run ERR594334 ...\n",
      "processing run ERR599143 ...\n",
      "processing run ERR594369 ...\n",
      "file ERR594369 ; TARA_036_SRF_<-0.22 not found, skipping\n",
      "processing run ERR594345 ...\n",
      "processing run ERR599062 ...\n",
      "processing run ERR599082 ...\n",
      "processing run ERR594399 ...\n",
      "file ERR594399 ; TARA_038_DCM_<-0.22 not found, skipping\n",
      "processing run ERR594312 ...\n",
      "processing run ERR599167 ...\n",
      "processing run ERR594330 ...\n",
      "processing run ERR599102 ...\n",
      "processing run ERR594374 ...\n",
      "file ERR594374 ; TARA_038_SRF_<-0.22 not found, skipping\n",
      "processing run ERR599145 ...\n",
      "processing run ERR594397 ...\n",
      "file ERR594397 ; TARA_039_DCM_<-0.22 not found, skipping\n",
      "processing run ERR594346 ...\n",
      "processing run ERR599037 ...\n",
      "processing run ERR594327 ...\n",
      "processing run ERR594365 ...\n",
      "file ERR594365 ; TARA_039_SRF_<-0.22 not found, skipping\n",
      "processing run ERR599053 ...\n",
      "processing run ERR594367 ...\n",
      "file ERR594367 ; TARA_041_DCM_<-0.22 not found, skipping\n",
      "processing run ERR594295 ...\n",
      "processing run ERR599074 ...\n",
      "processing run ERR594384 ...\n",
      "file ERR594384 ; TARA_041_SRF_<-0.22 not found, skipping\n",
      "processing run ERR599130 ...\n",
      "processing run ERR594413 ...\n",
      "file ERR594413 ; TARA_042_DCM_<-0.22 not found, skipping\n",
      "processing run ERR599075 ...\n",
      "processing run ERR594398 ...\n",
      "file ERR594398 ; TARA_042_SRF_<-0.22 not found, skipping\n",
      "processing run ERR599054 ...\n",
      "processing run ERR594376 ...\n",
      "file ERR594376 ; TARA_046_SRF_<-0.22 not found, skipping\n",
      "processing run ERR594314 ...\n",
      "processing run ERR599138 ...\n",
      "processing run ERR599002 ...\n",
      "processing run ERR594394 ...\n",
      "file ERR594394 ; TARA_052_DCM_<-0.22 not found, skipping\n",
      "processing run ERR599139 ...\n",
      "processing run ERR599112 ...\n",
      "processing run ERR599057 ...\n",
      "processing run ERR599058 ...\n",
      "processing run ERR599026 ...\n",
      "processing run ERR599012 ...\n",
      "processing run ERR594324 ...\n",
      "processing run ERR599023 ...\n",
      "processing run ERR594385 ...\n",
      "file ERR594385 ; TARA_064_DCM_<-0.22 not found, skipping\n",
      "processing run ERR599164 ...\n",
      "processing run ERR599150 ...\n",
      "processing run ERR594392 ...\n",
      "file ERR594392 ; TARA_064_SRF_<-0.22 not found, skipping\n",
      "processing run ERR594291 ...\n",
      "processing run ERR599110 ...\n",
      "processing run ERR594382 ...\n",
      "file ERR594382 ; TARA_065_DCM_<-0.22 not found, skipping\n",
      "processing run ERR598960 ...\n",
      "processing run ERR594320 ...\n",
      "processing run ERR599146 ...\n",
      "processing run ERR594359 ...\n",
      "file ERR594359 ; TARA_065_SRF_<-0.22 not found, skipping\n",
      "processing run ERR598982 ...\n",
      "processing run ERR594389 ...\n",
      "file ERR594389 ; TARA_066_DCM_<-0.22 not found, skipping\n",
      "processing run ERR599173 ...\n",
      "processing run ERR594362 ...\n",
      "file ERR594362 ; TARA_066_SRF_<-0.22 not found, skipping\n",
      "processing run ERR599144 ...\n",
      "processing run ERR594313 ...\n",
      "processing run ERR594325 ...\n",
      "processing run ERR594404 ...\n",
      "file ERR594404 ; TARA_067_SRF_<-0.22 not found, skipping\n",
      "processing run ERR599017 ...\n",
      "processing run ERR594294 ...\n",
      "processing run ERR594348 ...\n",
      "processing run ERR594415 ...\n",
      "file ERR594415 ; TARA_068_DCM_<-0.22 not found, skipping\n",
      "processing run ERR598947 ...\n",
      "processing run ERR594302 ...\n",
      "processing run ERR599174 ...\n",
      "processing run ERR594318 ...\n",
      "processing run ERR594297 ...\n",
      "processing run ERR594391 ...\n",
      "file ERR594391 ; TARA_068_SRF_<-0.22 not found, skipping\n",
      "processing run ERR599044 ...\n",
      "processing run ERR594308 ...\n",
      "processing run ERR594331 ...\n",
      "processing run ERR594407 ...\n",
      "file ERR594407 ; TARA_070_MES_<-0.22 not found, skipping\n",
      "processing run ERR599165 ...\n",
      "processing run ERR594349 ...\n",
      "processing run ERR594335 ...\n",
      "processing run ERR594353 ...\n",
      "file ERR594353 ; TARA_070_SRF_<-0.22 not found, skipping\n",
      "processing run ERR599133 ...\n",
      "processing run ERR594379 ...\n",
      "file ERR594379 ; TARA_072_DCM_<-0.22 not found, skipping\n",
      "processing run ERR599005 ...\n",
      "processing run ERR594388 ...\n",
      "file ERR594388 ; TARA_072_MES_<-0.22 not found, skipping\n",
      "processing run ERR598984 ...\n",
      "processing run ERR594364 ...\n",
      "file ERR594364 ; TARA_072_SRF_<-0.22 not found, skipping\n",
      "processing run ERR599148 ...\n",
      "processing run ERR594321 ...\n",
      "processing run ERR594298 ...\n",
      "processing run ERR594355 ...\n",
      "file ERR594355 ; TARA_076_DCM_<-0.22 not found, skipping\n",
      "processing run ERR599000 ...\n",
      "processing run ERR594333 ...\n",
      "processing run ERR599126 ...\n",
      "processing run ERR594310 ...\n",
      "processing run ERR594286 ...\n",
      "processing run ERR594354 ...\n",
      "file ERR594354 ; TARA_076_SRF_<-0.22 not found, skipping\n",
      "processing run ERR599101 ...\n",
      "processing run ERR594336 ...\n",
      "processing run ERR594303 ...\n",
      "processing run ERR599159 ...\n",
      "processing run ERR594289 ...\n",
      "processing run ERR599006 ...\n",
      "processing run ERR594340 ...\n",
      "processing run ERR594332 ...\n",
      "processing run ERR594411 ...\n",
      "file ERR594411 ; TARA_078_SRF_<-0.22 not found, skipping\n",
      "processing run ERR599122 ...\n",
      "processing run ERR594409 ...\n",
      "file ERR594409 ; TARA_082_DCM_<-0.22 not found, skipping\n",
      "processing run ERR599009 ...\n",
      "processing run ERR599059 ...\n",
      "processing run ERR599121 ...\n",
      "processing run ERR594377 ...\n",
      "file ERR594377 ; TARA_085_DCM_<-0.22 not found, skipping\n",
      "processing run ERR599008 ...\n",
      "processing run ERR599090 ...\n",
      "processing run ERR598965 ...\n",
      "processing run ERR599064 ...\n",
      "processing run ERR599050 ...\n",
      "processing run ERR598967 ...\n",
      "processing run ERR599079 ...\n",
      "processing run ERR599071 ...\n",
      "processing run ERR599093 ...\n",
      "processing run ERR599024 ...\n",
      "processing run ERR599081 ...\n",
      "processing run ERR598946 ...\n",
      "processing run ERR599163 ...\n",
      "processing run ERR599007 ...\n",
      "processing run ERR599132 ...\n",
      "processing run ERR598978 ...\n",
      "processing run ERR599065 ...\n",
      "processing run ERR594357 ...\n",
      "file ERR594357 ; TARA_109_DCM_<-0.22 not found, skipping\n",
      "processing run ERR598971 ...\n",
      "processing run ERR599118 ...\n",
      "processing run ERR594412 ...\n",
      "file ERR594412 ; TARA_109_SRF_<-0.22 not found, skipping\n",
      "processing run ERR599014 ...\n",
      "processing run ERR599020 ...\n",
      "processing run ERR599039 ...\n",
      "processing run ERR598961 ...\n",
      "processing run ERR599086 ...\n",
      "processing run ERR599077 ...\n",
      "processing run ERR598957 ...\n",
      "processing run ERR599072 ...\n",
      "processing run ERR598954 ...\n",
      "processing run ERR594284 ...\n",
      "processing run ERR598948 ...\n",
      "processing run ERR594304 ...\n",
      "processing run ERR594301 ...\n",
      "processing run ERR594309 ...\n",
      "processing run ERR599083 ...\n",
      "processing run ERR594305 ...\n",
      "processing run ERR594322 ...\n",
      "processing run ERR594292 ...\n",
      "processing run ERR598992 ...\n",
      "processing run ERR594307 ...\n",
      "processing run ERR594306 ...\n",
      "processing run ERR594293 ...\n",
      "processing run ERR598956 ...\n",
      "processing run ERR594337 ...\n",
      "processing run ERR594319 ...\n",
      "processing run ERR599160 ...\n",
      "processing run ERR594326 ...\n",
      "processing run ERR594347 ...\n",
      "processing run ERR594285 ...\n",
      "processing run ERR599084 ...\n",
      "processing run ERR594343 ...\n",
      "processing run ERR594338 ...\n",
      "processing run ERR594287 ...\n",
      "processing run ERR599069 ...\n",
      "processing run ERR594311 ...\n",
      "processing run ERR594296 ...\n",
      "processing run ERR594341 ...\n",
      "processing run ERR599156 ...\n",
      "processing run ERR594342 ...\n",
      "processing run ERR594300 ...\n",
      "processing run ERR594344 ...\n",
      "processing run ERR599119 ...\n",
      "processing run ERR594339 ...\n",
      "processing run ERR594323 ...\n",
      "processing run ERR599032 ...\n",
      "processing run ERR599038 ...\n",
      "processing run ERR598995 ...\n",
      "processing run ERR598980 ...\n",
      "processing run ERR599142 ...\n",
      "processing run ERR598942 ...\n",
      "processing run ERR599115 ...\n",
      "processing run ERR599052 ...\n",
      "processing run ERR599099 ...\n",
      "processing run ERR599127 ...\n",
      "processing run ERR598989 ...\n",
      "processing run ERR599087 ...\n",
      "processing run ERR599051 ...\n",
      "processing run ERR599030 ...\n",
      "processing run ERR599162 ...\n",
      "processing run ERR599029 ...\n",
      "processing run ERR599100 ...\n",
      "processing run ERR598985 ...\n",
      "processing run ERR599136 ...\n",
      "processing run ERR599166 ...\n",
      "processing run ERR598983 ...\n",
      "processing run ERR599047 ...\n",
      "processing run ERR598968 ...\n",
      "processing run ERR599123 ...\n",
      "processing run ERR598958 ...\n",
      "processing run ERR598964 ...\n",
      "processing run ERR598963 ...\n",
      "processing run ERR598996 ...\n",
      "processing run ERR599170 ...\n",
      "processing run ERR598986 ...\n",
      "processing run ERR598976 ...\n",
      "processing run ERR598944 ...\n",
      "processing run ERR599001 ...\n",
      "processing run ERR599078 ...\n",
      "(198, 51711)\n"
     ]
    },
    {
     "data": {
      "text/html": [
       "<div>\n",
       "<style scoped>\n",
       "    .dataframe tbody tr th:only-of-type {\n",
       "        vertical-align: middle;\n",
       "    }\n",
       "\n",
       "    .dataframe tbody tr th {\n",
       "        vertical-align: top;\n",
       "    }\n",
       "\n",
       "    .dataframe thead th {\n",
       "        text-align: right;\n",
       "    }\n",
       "</style>\n",
       "<table border=\"1\" class=\"dataframe\">\n",
       "  <thead>\n",
       "    <tr style=\"text-align: right;\">\n",
       "      <th>gene_id</th>\n",
       "      <th>fig|1123864.3.peg.102|VBISARClu237429_0102|</th>\n",
       "      <th>fig|1123864.3.peg.103|VBISARClu237429_0103|</th>\n",
       "      <th>fig|1123864.3.peg.105|VBISARClu237429_0105|</th>\n",
       "      <th>fig|1123864.3.peg.106|VBISARClu237429_0106|</th>\n",
       "      <th>fig|1123864.3.peg.108|VBISARClu237429_0108|</th>\n",
       "      <th>fig|1123864.3.peg.109|VBISARClu237429_0109|</th>\n",
       "      <th>fig|1123864.3.peg.111|VBISARClu237429_0111|</th>\n",
       "      <th>fig|1123864.3.peg.112|VBISARClu237429_0112|</th>\n",
       "      <th>fig|1123864.3.peg.115|VBISARClu237429_0115|</th>\n",
       "      <th>fig|1123864.3.peg.116|VBISARClu237429_0116|</th>\n",
       "      <th>...</th>\n",
       "      <th>scf7180009409913_26157_27140_26</th>\n",
       "      <th>scf7180009409913_27144_28913_27</th>\n",
       "      <th>scf7180009409913_28976_30082_28</th>\n",
       "      <th>scf7180009409913_30060_31295_29</th>\n",
       "      <th>scf7180009409913_31282_32319_30</th>\n",
       "      <th>scf7180009409913_32383_33123_31</th>\n",
       "      <th>scf7180009409913_33125_33334_32</th>\n",
       "      <th>scf7180009409913_4750_2468_4</th>\n",
       "      <th>scf7180009409913_5274_4753_5</th>\n",
       "      <th>scf7180009409913_5681_8779_6</th>\n",
       "    </tr>\n",
       "    <tr>\n",
       "      <th>index</th>\n",
       "      <th></th>\n",
       "      <th></th>\n",
       "      <th></th>\n",
       "      <th></th>\n",
       "      <th></th>\n",
       "      <th></th>\n",
       "      <th></th>\n",
       "      <th></th>\n",
       "      <th></th>\n",
       "      <th></th>\n",
       "      <th></th>\n",
       "      <th></th>\n",
       "      <th></th>\n",
       "      <th></th>\n",
       "      <th></th>\n",
       "      <th></th>\n",
       "      <th></th>\n",
       "      <th></th>\n",
       "      <th></th>\n",
       "      <th></th>\n",
       "      <th></th>\n",
       "    </tr>\n",
       "  </thead>\n",
       "  <tbody>\n",
       "    <tr>\n",
       "      <th>ERR599095</th>\n",
       "      <td>0.0</td>\n",
       "      <td>0.23962</td>\n",
       "      <td>0.0</td>\n",
       "      <td>0.000000</td>\n",
       "      <td>0.0</td>\n",
       "      <td>0.0</td>\n",
       "      <td>0.0</td>\n",
       "      <td>0.0</td>\n",
       "      <td>0.000000</td>\n",
       "      <td>0.0</td>\n",
       "      <td>...</td>\n",
       "      <td>14.436992</td>\n",
       "      <td>8.337288</td>\n",
       "      <td>14.961156</td>\n",
       "      <td>20.581715</td>\n",
       "      <td>13.420039</td>\n",
       "      <td>13.893387</td>\n",
       "      <td>0.295238</td>\n",
       "      <td>1.608410</td>\n",
       "      <td>2.340996</td>\n",
       "      <td>0.539206</td>\n",
       "    </tr>\n",
       "    <tr>\n",
       "      <th>ERR598955</th>\n",
       "      <td>0.0</td>\n",
       "      <td>0.00000</td>\n",
       "      <td>0.0</td>\n",
       "      <td>0.000000</td>\n",
       "      <td>0.0</td>\n",
       "      <td>0.0</td>\n",
       "      <td>0.0</td>\n",
       "      <td>0.0</td>\n",
       "      <td>0.000000</td>\n",
       "      <td>0.0</td>\n",
       "      <td>...</td>\n",
       "      <td>2.073171</td>\n",
       "      <td>1.816384</td>\n",
       "      <td>2.308943</td>\n",
       "      <td>2.024272</td>\n",
       "      <td>0.972062</td>\n",
       "      <td>2.631579</td>\n",
       "      <td>0.000000</td>\n",
       "      <td>0.395094</td>\n",
       "      <td>0.000000</td>\n",
       "      <td>0.000000</td>\n",
       "    </tr>\n",
       "    <tr>\n",
       "      <th>ERR315856</th>\n",
       "      <td>0.0</td>\n",
       "      <td>0.00000</td>\n",
       "      <td>0.0</td>\n",
       "      <td>0.000000</td>\n",
       "      <td>0.0</td>\n",
       "      <td>0.0</td>\n",
       "      <td>0.0</td>\n",
       "      <td>0.0</td>\n",
       "      <td>0.000000</td>\n",
       "      <td>0.0</td>\n",
       "      <td>...</td>\n",
       "      <td>3.954268</td>\n",
       "      <td>6.020339</td>\n",
       "      <td>4.606143</td>\n",
       "      <td>3.810680</td>\n",
       "      <td>4.191715</td>\n",
       "      <td>3.398111</td>\n",
       "      <td>0.380952</td>\n",
       "      <td>1.406045</td>\n",
       "      <td>1.591954</td>\n",
       "      <td>0.200065</td>\n",
       "    </tr>\n",
       "    <tr>\n",
       "      <th>ERR315857</th>\n",
       "      <td>0.0</td>\n",
       "      <td>0.00000</td>\n",
       "      <td>0.0</td>\n",
       "      <td>0.000000</td>\n",
       "      <td>0.0</td>\n",
       "      <td>0.0</td>\n",
       "      <td>0.0</td>\n",
       "      <td>0.0</td>\n",
       "      <td>0.000000</td>\n",
       "      <td>0.0</td>\n",
       "      <td>...</td>\n",
       "      <td>1.669715</td>\n",
       "      <td>1.261017</td>\n",
       "      <td>1.095754</td>\n",
       "      <td>1.891586</td>\n",
       "      <td>1.292871</td>\n",
       "      <td>0.516869</td>\n",
       "      <td>0.000000</td>\n",
       "      <td>0.317565</td>\n",
       "      <td>0.000000</td>\n",
       "      <td>0.000000</td>\n",
       "    </tr>\n",
       "    <tr>\n",
       "      <th>ERR594329</th>\n",
       "      <td>0.0</td>\n",
       "      <td>0.00000</td>\n",
       "      <td>0.0</td>\n",
       "      <td>0.071038</td>\n",
       "      <td>0.0</td>\n",
       "      <td>0.0</td>\n",
       "      <td>0.0</td>\n",
       "      <td>0.0</td>\n",
       "      <td>0.429224</td>\n",
       "      <td>0.0</td>\n",
       "      <td>...</td>\n",
       "      <td>17.965447</td>\n",
       "      <td>12.602825</td>\n",
       "      <td>10.420958</td>\n",
       "      <td>15.623786</td>\n",
       "      <td>14.215800</td>\n",
       "      <td>15.604588</td>\n",
       "      <td>0.000000</td>\n",
       "      <td>2.887429</td>\n",
       "      <td>4.340996</td>\n",
       "      <td>0.312036</td>\n",
       "    </tr>\n",
       "  </tbody>\n",
       "</table>\n",
       "<p>5 rows × 51711 columns</p>\n",
       "</div>"
      ],
      "text/plain": [
       "gene_id    fig|1123864.3.peg.102|VBISARClu237429_0102|  \\\n",
       "index                                                    \n",
       "ERR599095                                          0.0   \n",
       "ERR598955                                          0.0   \n",
       "ERR315856                                          0.0   \n",
       "ERR315857                                          0.0   \n",
       "ERR594329                                          0.0   \n",
       "\n",
       "gene_id    fig|1123864.3.peg.103|VBISARClu237429_0103|  \\\n",
       "index                                                    \n",
       "ERR599095                                      0.23962   \n",
       "ERR598955                                      0.00000   \n",
       "ERR315856                                      0.00000   \n",
       "ERR315857                                      0.00000   \n",
       "ERR594329                                      0.00000   \n",
       "\n",
       "gene_id    fig|1123864.3.peg.105|VBISARClu237429_0105|  \\\n",
       "index                                                    \n",
       "ERR599095                                          0.0   \n",
       "ERR598955                                          0.0   \n",
       "ERR315856                                          0.0   \n",
       "ERR315857                                          0.0   \n",
       "ERR594329                                          0.0   \n",
       "\n",
       "gene_id    fig|1123864.3.peg.106|VBISARClu237429_0106|  \\\n",
       "index                                                    \n",
       "ERR599095                                     0.000000   \n",
       "ERR598955                                     0.000000   \n",
       "ERR315856                                     0.000000   \n",
       "ERR315857                                     0.000000   \n",
       "ERR594329                                     0.071038   \n",
       "\n",
       "gene_id    fig|1123864.3.peg.108|VBISARClu237429_0108|  \\\n",
       "index                                                    \n",
       "ERR599095                                          0.0   \n",
       "ERR598955                                          0.0   \n",
       "ERR315856                                          0.0   \n",
       "ERR315857                                          0.0   \n",
       "ERR594329                                          0.0   \n",
       "\n",
       "gene_id    fig|1123864.3.peg.109|VBISARClu237429_0109|  \\\n",
       "index                                                    \n",
       "ERR599095                                          0.0   \n",
       "ERR598955                                          0.0   \n",
       "ERR315856                                          0.0   \n",
       "ERR315857                                          0.0   \n",
       "ERR594329                                          0.0   \n",
       "\n",
       "gene_id    fig|1123864.3.peg.111|VBISARClu237429_0111|  \\\n",
       "index                                                    \n",
       "ERR599095                                          0.0   \n",
       "ERR598955                                          0.0   \n",
       "ERR315856                                          0.0   \n",
       "ERR315857                                          0.0   \n",
       "ERR594329                                          0.0   \n",
       "\n",
       "gene_id    fig|1123864.3.peg.112|VBISARClu237429_0112|  \\\n",
       "index                                                    \n",
       "ERR599095                                          0.0   \n",
       "ERR598955                                          0.0   \n",
       "ERR315856                                          0.0   \n",
       "ERR315857                                          0.0   \n",
       "ERR594329                                          0.0   \n",
       "\n",
       "gene_id    fig|1123864.3.peg.115|VBISARClu237429_0115|  \\\n",
       "index                                                    \n",
       "ERR599095                                     0.000000   \n",
       "ERR598955                                     0.000000   \n",
       "ERR315856                                     0.000000   \n",
       "ERR315857                                     0.000000   \n",
       "ERR594329                                     0.429224   \n",
       "\n",
       "gene_id    fig|1123864.3.peg.116|VBISARClu237429_0116|  \\\n",
       "index                                                    \n",
       "ERR599095                                          0.0   \n",
       "ERR598955                                          0.0   \n",
       "ERR315856                                          0.0   \n",
       "ERR315857                                          0.0   \n",
       "ERR594329                                          0.0   \n",
       "\n",
       "gene_id                ...               scf7180009409913_26157_27140_26  \\\n",
       "index                  ...                                                 \n",
       "ERR599095              ...                                     14.436992   \n",
       "ERR598955              ...                                      2.073171   \n",
       "ERR315856              ...                                      3.954268   \n",
       "ERR315857              ...                                      1.669715   \n",
       "ERR594329              ...                                     17.965447   \n",
       "\n",
       "gene_id    scf7180009409913_27144_28913_27  scf7180009409913_28976_30082_28  \\\n",
       "index                                                                         \n",
       "ERR599095                         8.337288                        14.961156   \n",
       "ERR598955                         1.816384                         2.308943   \n",
       "ERR315856                         6.020339                         4.606143   \n",
       "ERR315857                         1.261017                         1.095754   \n",
       "ERR594329                        12.602825                        10.420958   \n",
       "\n",
       "gene_id    scf7180009409913_30060_31295_29  scf7180009409913_31282_32319_30  \\\n",
       "index                                                                         \n",
       "ERR599095                        20.581715                        13.420039   \n",
       "ERR598955                         2.024272                         0.972062   \n",
       "ERR315856                         3.810680                         4.191715   \n",
       "ERR315857                         1.891586                         1.292871   \n",
       "ERR594329                        15.623786                        14.215800   \n",
       "\n",
       "gene_id    scf7180009409913_32383_33123_31  scf7180009409913_33125_33334_32  \\\n",
       "index                                                                         \n",
       "ERR599095                        13.893387                         0.295238   \n",
       "ERR598955                         2.631579                         0.000000   \n",
       "ERR315856                         3.398111                         0.380952   \n",
       "ERR315857                         0.516869                         0.000000   \n",
       "ERR594329                        15.604588                         0.000000   \n",
       "\n",
       "gene_id    scf7180009409913_4750_2468_4  scf7180009409913_5274_4753_5  \\\n",
       "index                                                                   \n",
       "ERR599095                      1.608410                      2.340996   \n",
       "ERR598955                      0.395094                      0.000000   \n",
       "ERR315856                      1.406045                      1.591954   \n",
       "ERR315857                      0.317565                      0.000000   \n",
       "ERR594329                      2.887429                      4.340996   \n",
       "\n",
       "gene_id    scf7180009409913_5681_8779_6  \n",
       "index                                    \n",
       "ERR599095                      0.539206  \n",
       "ERR598955                      0.000000  \n",
       "ERR315856                      0.200065  \n",
       "ERR315857                      0.000000  \n",
       "ERR594329                      0.312036  \n",
       "\n",
       "[5 rows x 51711 columns]"
      ]
     },
     "execution_count": 22,
     "metadata": {},
     "output_type": "execute_result"
    }
   ],
   "source": [
    "coverage = pd.DataFrame()\n",
    "\n",
    "for run_id in run_keys['run_id']:\n",
    "    print(\"processing run\", run_id, \"...\")\n",
    "    #read in genes file\n",
    "    genes_path = '~/Projects/SAR86/satellite_models/get_gene_data/sar86_genes/'\n",
    "    file_name = run_id+'.SAR86.genes'\n",
    "    try:\n",
    "        cnv = pd.read_csv(genes_path+file_name,delimiter='\\t')\n",
    "        #drop copy_number column \n",
    "        cnv = cnv.drop('copy_number', axis=1)\n",
    "        #pivot dataframe\n",
    "        cnv['index'] = run_id \n",
    "        pivoted = cnv.pivot(index='index',columns='gene_id',values='coverage')\n",
    "        #append to copy_number dataframe\n",
    "        if len(coverage)==0:\n",
    "            coverage = pivoted\n",
    "        else:\n",
    "            coverage = coverage.append(pivoted)\n",
    "    except FileNotFoundError:\n",
    "        print(\"file\",run_id,\";\",run_keys[run_keys['run_id']==run_id]['tara_label'].to_string(index=False),\"not found, skipping\")\n",
    "\n",
    "print(coverage.shape)\n",
    "coverage.head()"
   ]
  },
  {
   "cell_type": "code",
   "execution_count": 24,
   "metadata": {
    "collapsed": false
   },
   "outputs": [
    {
     "data": {
      "text/plain": [
       "(198, 51711)"
      ]
     },
     "execution_count": 24,
     "metadata": {},
     "output_type": "execute_result"
    }
   ],
   "source": [
    "coverage.shape"
   ]
  },
  {
   "cell_type": "code",
   "execution_count": 11,
   "metadata": {
    "collapsed": true
   },
   "outputs": [],
   "source": [
    "coverage.to_csv('GeneCoverageMatrix.csv',index_label=\"run_id\")"
   ]
  },
  {
   "cell_type": "markdown",
   "metadata": {},
   "source": [
    "# normalize coverage to scale to 1 for each TARA site\n",
    "\n",
    "(divide each row by the row's mean)"
   ]
  },
  {
   "cell_type": "code",
   "execution_count": 25,
   "metadata": {
    "collapsed": false
   },
   "outputs": [],
   "source": [
    "def scale_rows_to_one(df):\n",
    "    #mean of each row if axis is 1, mean of each column if axis is 0\n",
    "    rowmeans = df.mean(axis=1, skipna=True)\n",
    "    #divide each row by its mean\n",
    "    norm = df.div(rowmeans, axis=0)\n",
    "    return norm"
   ]
  },
  {
   "cell_type": "code",
   "execution_count": 26,
   "metadata": {
    "collapsed": false
   },
   "outputs": [
    {
     "data": {
      "text/html": [
       "<div>\n",
       "<style scoped>\n",
       "    .dataframe tbody tr th:only-of-type {\n",
       "        vertical-align: middle;\n",
       "    }\n",
       "\n",
       "    .dataframe tbody tr th {\n",
       "        vertical-align: top;\n",
       "    }\n",
       "\n",
       "    .dataframe thead th {\n",
       "        text-align: right;\n",
       "    }\n",
       "</style>\n",
       "<table border=\"1\" class=\"dataframe\">\n",
       "  <thead>\n",
       "    <tr style=\"text-align: right;\">\n",
       "      <th>gene_id</th>\n",
       "      <th>fig|1123864.3.peg.102|VBISARClu237429_0102|</th>\n",
       "      <th>fig|1123864.3.peg.103|VBISARClu237429_0103|</th>\n",
       "      <th>fig|1123864.3.peg.105|VBISARClu237429_0105|</th>\n",
       "      <th>fig|1123864.3.peg.106|VBISARClu237429_0106|</th>\n",
       "      <th>fig|1123864.3.peg.108|VBISARClu237429_0108|</th>\n",
       "      <th>fig|1123864.3.peg.109|VBISARClu237429_0109|</th>\n",
       "      <th>fig|1123864.3.peg.111|VBISARClu237429_0111|</th>\n",
       "      <th>fig|1123864.3.peg.112|VBISARClu237429_0112|</th>\n",
       "      <th>fig|1123864.3.peg.115|VBISARClu237429_0115|</th>\n",
       "      <th>fig|1123864.3.peg.116|VBISARClu237429_0116|</th>\n",
       "      <th>...</th>\n",
       "      <th>scf7180009409913_26157_27140_26</th>\n",
       "      <th>scf7180009409913_27144_28913_27</th>\n",
       "      <th>scf7180009409913_28976_30082_28</th>\n",
       "      <th>scf7180009409913_30060_31295_29</th>\n",
       "      <th>scf7180009409913_31282_32319_30</th>\n",
       "      <th>scf7180009409913_32383_33123_31</th>\n",
       "      <th>scf7180009409913_33125_33334_32</th>\n",
       "      <th>scf7180009409913_4750_2468_4</th>\n",
       "      <th>scf7180009409913_5274_4753_5</th>\n",
       "      <th>scf7180009409913_5681_8779_6</th>\n",
       "    </tr>\n",
       "    <tr>\n",
       "      <th>index</th>\n",
       "      <th></th>\n",
       "      <th></th>\n",
       "      <th></th>\n",
       "      <th></th>\n",
       "      <th></th>\n",
       "      <th></th>\n",
       "      <th></th>\n",
       "      <th></th>\n",
       "      <th></th>\n",
       "      <th></th>\n",
       "      <th></th>\n",
       "      <th></th>\n",
       "      <th></th>\n",
       "      <th></th>\n",
       "      <th></th>\n",
       "      <th></th>\n",
       "      <th></th>\n",
       "      <th></th>\n",
       "      <th></th>\n",
       "      <th></th>\n",
       "      <th></th>\n",
       "    </tr>\n",
       "  </thead>\n",
       "  <tbody>\n",
       "    <tr>\n",
       "      <th>ERR599095</th>\n",
       "      <td>0.0</td>\n",
       "      <td>0.020067</td>\n",
       "      <td>0.0</td>\n",
       "      <td>0.000000</td>\n",
       "      <td>0.0</td>\n",
       "      <td>0.0</td>\n",
       "      <td>0.0</td>\n",
       "      <td>0.0</td>\n",
       "      <td>0.000000</td>\n",
       "      <td>0.0</td>\n",
       "      <td>...</td>\n",
       "      <td>1.209019</td>\n",
       "      <td>0.698202</td>\n",
       "      <td>1.252915</td>\n",
       "      <td>1.723606</td>\n",
       "      <td>1.123855</td>\n",
       "      <td>1.163495</td>\n",
       "      <td>0.024725</td>\n",
       "      <td>0.134696</td>\n",
       "      <td>0.196046</td>\n",
       "      <td>0.045156</td>\n",
       "    </tr>\n",
       "    <tr>\n",
       "      <th>ERR598955</th>\n",
       "      <td>0.0</td>\n",
       "      <td>0.000000</td>\n",
       "      <td>0.0</td>\n",
       "      <td>0.000000</td>\n",
       "      <td>0.0</td>\n",
       "      <td>0.0</td>\n",
       "      <td>0.0</td>\n",
       "      <td>0.0</td>\n",
       "      <td>0.000000</td>\n",
       "      <td>0.0</td>\n",
       "      <td>...</td>\n",
       "      <td>0.189152</td>\n",
       "      <td>0.165724</td>\n",
       "      <td>0.210664</td>\n",
       "      <td>0.184691</td>\n",
       "      <td>0.088689</td>\n",
       "      <td>0.240100</td>\n",
       "      <td>0.000000</td>\n",
       "      <td>0.036048</td>\n",
       "      <td>0.000000</td>\n",
       "      <td>0.000000</td>\n",
       "    </tr>\n",
       "    <tr>\n",
       "      <th>ERR315856</th>\n",
       "      <td>0.0</td>\n",
       "      <td>0.000000</td>\n",
       "      <td>0.0</td>\n",
       "      <td>0.000000</td>\n",
       "      <td>0.0</td>\n",
       "      <td>0.0</td>\n",
       "      <td>0.0</td>\n",
       "      <td>0.0</td>\n",
       "      <td>0.000000</td>\n",
       "      <td>0.0</td>\n",
       "      <td>...</td>\n",
       "      <td>0.894844</td>\n",
       "      <td>1.362393</td>\n",
       "      <td>1.042362</td>\n",
       "      <td>0.862350</td>\n",
       "      <td>0.948578</td>\n",
       "      <td>0.768987</td>\n",
       "      <td>0.086209</td>\n",
       "      <td>0.318186</td>\n",
       "      <td>0.360257</td>\n",
       "      <td>0.045274</td>\n",
       "    </tr>\n",
       "    <tr>\n",
       "      <th>ERR315857</th>\n",
       "      <td>0.0</td>\n",
       "      <td>0.000000</td>\n",
       "      <td>0.0</td>\n",
       "      <td>0.000000</td>\n",
       "      <td>0.0</td>\n",
       "      <td>0.0</td>\n",
       "      <td>0.0</td>\n",
       "      <td>0.0</td>\n",
       "      <td>0.000000</td>\n",
       "      <td>0.0</td>\n",
       "      <td>...</td>\n",
       "      <td>0.113213</td>\n",
       "      <td>0.085502</td>\n",
       "      <td>0.074296</td>\n",
       "      <td>0.128256</td>\n",
       "      <td>0.087661</td>\n",
       "      <td>0.035046</td>\n",
       "      <td>0.000000</td>\n",
       "      <td>0.021532</td>\n",
       "      <td>0.000000</td>\n",
       "      <td>0.000000</td>\n",
       "    </tr>\n",
       "    <tr>\n",
       "      <th>ERR594329</th>\n",
       "      <td>0.0</td>\n",
       "      <td>0.000000</td>\n",
       "      <td>0.0</td>\n",
       "      <td>0.008171</td>\n",
       "      <td>0.0</td>\n",
       "      <td>0.0</td>\n",
       "      <td>0.0</td>\n",
       "      <td>0.0</td>\n",
       "      <td>0.049371</td>\n",
       "      <td>0.0</td>\n",
       "      <td>...</td>\n",
       "      <td>2.066458</td>\n",
       "      <td>1.449628</td>\n",
       "      <td>1.198661</td>\n",
       "      <td>1.797111</td>\n",
       "      <td>1.635159</td>\n",
       "      <td>1.794903</td>\n",
       "      <td>0.000000</td>\n",
       "      <td>0.332124</td>\n",
       "      <td>0.499319</td>\n",
       "      <td>0.035892</td>\n",
       "    </tr>\n",
       "  </tbody>\n",
       "</table>\n",
       "<p>5 rows × 51711 columns</p>\n",
       "</div>"
      ],
      "text/plain": [
       "gene_id    fig|1123864.3.peg.102|VBISARClu237429_0102|  \\\n",
       "index                                                    \n",
       "ERR599095                                          0.0   \n",
       "ERR598955                                          0.0   \n",
       "ERR315856                                          0.0   \n",
       "ERR315857                                          0.0   \n",
       "ERR594329                                          0.0   \n",
       "\n",
       "gene_id    fig|1123864.3.peg.103|VBISARClu237429_0103|  \\\n",
       "index                                                    \n",
       "ERR599095                                     0.020067   \n",
       "ERR598955                                     0.000000   \n",
       "ERR315856                                     0.000000   \n",
       "ERR315857                                     0.000000   \n",
       "ERR594329                                     0.000000   \n",
       "\n",
       "gene_id    fig|1123864.3.peg.105|VBISARClu237429_0105|  \\\n",
       "index                                                    \n",
       "ERR599095                                          0.0   \n",
       "ERR598955                                          0.0   \n",
       "ERR315856                                          0.0   \n",
       "ERR315857                                          0.0   \n",
       "ERR594329                                          0.0   \n",
       "\n",
       "gene_id    fig|1123864.3.peg.106|VBISARClu237429_0106|  \\\n",
       "index                                                    \n",
       "ERR599095                                     0.000000   \n",
       "ERR598955                                     0.000000   \n",
       "ERR315856                                     0.000000   \n",
       "ERR315857                                     0.000000   \n",
       "ERR594329                                     0.008171   \n",
       "\n",
       "gene_id    fig|1123864.3.peg.108|VBISARClu237429_0108|  \\\n",
       "index                                                    \n",
       "ERR599095                                          0.0   \n",
       "ERR598955                                          0.0   \n",
       "ERR315856                                          0.0   \n",
       "ERR315857                                          0.0   \n",
       "ERR594329                                          0.0   \n",
       "\n",
       "gene_id    fig|1123864.3.peg.109|VBISARClu237429_0109|  \\\n",
       "index                                                    \n",
       "ERR599095                                          0.0   \n",
       "ERR598955                                          0.0   \n",
       "ERR315856                                          0.0   \n",
       "ERR315857                                          0.0   \n",
       "ERR594329                                          0.0   \n",
       "\n",
       "gene_id    fig|1123864.3.peg.111|VBISARClu237429_0111|  \\\n",
       "index                                                    \n",
       "ERR599095                                          0.0   \n",
       "ERR598955                                          0.0   \n",
       "ERR315856                                          0.0   \n",
       "ERR315857                                          0.0   \n",
       "ERR594329                                          0.0   \n",
       "\n",
       "gene_id    fig|1123864.3.peg.112|VBISARClu237429_0112|  \\\n",
       "index                                                    \n",
       "ERR599095                                          0.0   \n",
       "ERR598955                                          0.0   \n",
       "ERR315856                                          0.0   \n",
       "ERR315857                                          0.0   \n",
       "ERR594329                                          0.0   \n",
       "\n",
       "gene_id    fig|1123864.3.peg.115|VBISARClu237429_0115|  \\\n",
       "index                                                    \n",
       "ERR599095                                     0.000000   \n",
       "ERR598955                                     0.000000   \n",
       "ERR315856                                     0.000000   \n",
       "ERR315857                                     0.000000   \n",
       "ERR594329                                     0.049371   \n",
       "\n",
       "gene_id    fig|1123864.3.peg.116|VBISARClu237429_0116|  \\\n",
       "index                                                    \n",
       "ERR599095                                          0.0   \n",
       "ERR598955                                          0.0   \n",
       "ERR315856                                          0.0   \n",
       "ERR315857                                          0.0   \n",
       "ERR594329                                          0.0   \n",
       "\n",
       "gene_id                ...               scf7180009409913_26157_27140_26  \\\n",
       "index                  ...                                                 \n",
       "ERR599095              ...                                      1.209019   \n",
       "ERR598955              ...                                      0.189152   \n",
       "ERR315856              ...                                      0.894844   \n",
       "ERR315857              ...                                      0.113213   \n",
       "ERR594329              ...                                      2.066458   \n",
       "\n",
       "gene_id    scf7180009409913_27144_28913_27  scf7180009409913_28976_30082_28  \\\n",
       "index                                                                         \n",
       "ERR599095                         0.698202                         1.252915   \n",
       "ERR598955                         0.165724                         0.210664   \n",
       "ERR315856                         1.362393                         1.042362   \n",
       "ERR315857                         0.085502                         0.074296   \n",
       "ERR594329                         1.449628                         1.198661   \n",
       "\n",
       "gene_id    scf7180009409913_30060_31295_29  scf7180009409913_31282_32319_30  \\\n",
       "index                                                                         \n",
       "ERR599095                         1.723606                         1.123855   \n",
       "ERR598955                         0.184691                         0.088689   \n",
       "ERR315856                         0.862350                         0.948578   \n",
       "ERR315857                         0.128256                         0.087661   \n",
       "ERR594329                         1.797111                         1.635159   \n",
       "\n",
       "gene_id    scf7180009409913_32383_33123_31  scf7180009409913_33125_33334_32  \\\n",
       "index                                                                         \n",
       "ERR599095                         1.163495                         0.024725   \n",
       "ERR598955                         0.240100                         0.000000   \n",
       "ERR315856                         0.768987                         0.086209   \n",
       "ERR315857                         0.035046                         0.000000   \n",
       "ERR594329                         1.794903                         0.000000   \n",
       "\n",
       "gene_id    scf7180009409913_4750_2468_4  scf7180009409913_5274_4753_5  \\\n",
       "index                                                                   \n",
       "ERR599095                      0.134696                      0.196046   \n",
       "ERR598955                      0.036048                      0.000000   \n",
       "ERR315856                      0.318186                      0.360257   \n",
       "ERR315857                      0.021532                      0.000000   \n",
       "ERR594329                      0.332124                      0.499319   \n",
       "\n",
       "gene_id    scf7180009409913_5681_8779_6  \n",
       "index                                    \n",
       "ERR599095                      0.045156  \n",
       "ERR598955                      0.000000  \n",
       "ERR315856                      0.045274  \n",
       "ERR315857                      0.000000  \n",
       "ERR594329                      0.035892  \n",
       "\n",
       "[5 rows x 51711 columns]"
      ]
     },
     "execution_count": 26,
     "metadata": {},
     "output_type": "execute_result"
    }
   ],
   "source": [
    "normalized = scale_rows_to_one(df=coverage)\n",
    "normalized.head()"
   ]
  },
  {
   "cell_type": "code",
   "execution_count": 27,
   "metadata": {
    "collapsed": false
   },
   "outputs": [
    {
     "data": {
      "text/plain": [
       "(198, 51711)"
      ]
     },
     "execution_count": 27,
     "metadata": {},
     "output_type": "execute_result"
    }
   ],
   "source": [
    "normalized.shape"
   ]
  },
  {
   "cell_type": "code",
   "execution_count": 28,
   "metadata": {
    "collapsed": true
   },
   "outputs": [],
   "source": [
    "normalized.to_csv(\"GeneCoverageMatrix_Normalized.csv\")"
   ]
  },
  {
   "cell_type": "markdown",
   "metadata": {},
   "source": [
    "### make some histograms of per-sample gene depth"
   ]
  },
  {
   "cell_type": "code",
   "execution_count": 29,
   "metadata": {
    "collapsed": true
   },
   "outputs": [],
   "source": [
    "import matplotlib.pyplot as plt\n",
    "%matplotlib inline"
   ]
  },
  {
   "cell_type": "code",
   "execution_count": 30,
   "metadata": {
    "collapsed": false
   },
   "outputs": [
    {
     "data": {
      "text/plain": [
       "(array([526., 506., 460., 408., 401., 511., 478., 403., 206., 145., 152.,\n",
       "        107.,  90.,  79.,  95.,  68.,  89.,  98., 106., 120., 147., 151.,\n",
       "        167., 199., 216., 221., 193., 186., 156., 104.,  80.,  59.,  47.,\n",
       "         37.,  39.,  26.,  19.,  27.,  15.,  14.,  14.,   5.,   7.,   5.,\n",
       "          6.,   4.,   1.,   2.,   1.,   5.]),\n",
       " array([ 1.5 ,  1.87,  2.24,  2.61,  2.98,  3.35,  3.72,  4.09,  4.46,\n",
       "         4.83,  5.2 ,  5.57,  5.94,  6.31,  6.68,  7.05,  7.42,  7.79,\n",
       "         8.16,  8.53,  8.9 ,  9.27,  9.64, 10.01, 10.38, 10.75, 11.12,\n",
       "        11.49, 11.86, 12.23, 12.6 , 12.97, 13.34, 13.71, 14.08, 14.45,\n",
       "        14.82, 15.19, 15.56, 15.93, 16.3 , 16.67, 17.04, 17.41, 17.78,\n",
       "        18.15, 18.52, 18.89, 19.26, 19.63, 20.  ]),\n",
       " <a list of 50 Patch objects>)"
      ]
     },
     "execution_count": 30,
     "metadata": {},
     "output_type": "execute_result"
    },
    {
     "data": {
      "image/png": "[encoded data removed]",
      "text/plain": [
       "<matplotlib.figure.Figure at 0x11fd6b710>"
      ]
     },
     "metadata": {},
     "output_type": "display_data"
    }
   ],
   "source": [
    "plt.hist(normalized.loc['ERR598993',:], bins=50, range=(1.5,20))"
   ]
  },
  {
   "cell_type": "code",
   "execution_count": 32,
   "metadata": {
    "collapsed": false
   },
   "outputs": [
    {
     "data": {
      "text/html": [
       "<div>\n",
       "<style scoped>\n",
       "    .dataframe tbody tr th:only-of-type {\n",
       "        vertical-align: middle;\n",
       "    }\n",
       "\n",
       "    .dataframe tbody tr th {\n",
       "        vertical-align: top;\n",
       "    }\n",
       "\n",
       "    .dataframe thead th {\n",
       "        text-align: right;\n",
       "    }\n",
       "</style>\n",
       "<table border=\"1\" class=\"dataframe\">\n",
       "  <thead>\n",
       "    <tr style=\"text-align: right;\">\n",
       "      <th></th>\n",
       "      <th>run_id</th>\n",
       "      <th>tara_label</th>\n",
       "    </tr>\n",
       "  </thead>\n",
       "  <tbody>\n",
       "    <tr>\n",
       "      <th>8</th>\n",
       "      <td>ERR598993</td>\n",
       "      <td>TARA_018_SRF_0.22-1.6</td>\n",
       "    </tr>\n",
       "  </tbody>\n",
       "</table>\n",
       "</div>"
      ],
      "text/plain": [
       "      run_id             tara_label\n",
       "8  ERR598993  TARA_018_SRF_0.22-1.6"
      ]
     },
     "execution_count": 32,
     "metadata": {},
     "output_type": "execute_result"
    }
   ],
   "source": [
    "run_keys[run_keys['run_id']=='ERR598993']"
   ]
  },
  {
   "cell_type": "code",
   "execution_count": 33,
   "metadata": {
    "collapsed": false
   },
   "outputs": [
    {
     "data": {
      "text/plain": [
       "(array([905., 603., 530., 461., 453., 405., 497., 510., 417., 233., 152.,\n",
       "        159., 109.,  92.,  82.,  98.,  73.,  89., 102., 111., 126., 143.,\n",
       "        180., 185., 190., 230., 207., 220., 158., 138., 108.,  73.,  44.,\n",
       "         46.,  44.,  26.,  22.,  21.,  20.,  14.,  17.,   7.,   7.,   6.,\n",
       "          6.,   3.,   2.,   2.,   1.,   5.]),\n",
       " array([ 1.  ,  1.38,  1.76,  2.14,  2.52,  2.9 ,  3.28,  3.66,  4.04,\n",
       "         4.42,  4.8 ,  5.18,  5.56,  5.94,  6.32,  6.7 ,  7.08,  7.46,\n",
       "         7.84,  8.22,  8.6 ,  8.98,  9.36,  9.74, 10.12, 10.5 , 10.88,\n",
       "        11.26, 11.64, 12.02, 12.4 , 12.78, 13.16, 13.54, 13.92, 14.3 ,\n",
       "        14.68, 15.06, 15.44, 15.82, 16.2 , 16.58, 16.96, 17.34, 17.72,\n",
       "        18.1 , 18.48, 18.86, 19.24, 19.62, 20.  ]),\n",
       " <a list of 50 Patch objects>)"
      ]
     },
     "execution_count": 33,
     "metadata": {},
     "output_type": "execute_result"
    },
    {
     "data": {
      "image/png": "[encoded data removed]",
      "text/plain": [
       "<matplotlib.figure.Figure at 0x11fd45550>"
      ]
     },
     "metadata": {},
     "output_type": "display_data"
    }
   ],
   "source": [
    "plt.hist(normalized.loc['ERR598993',:], bins=50, range=(1,20))"
   ]
  },
  {
   "cell_type": "code",
   "execution_count": 34,
   "metadata": {
    "collapsed": false
   },
   "outputs": [
    {
     "data": {
      "text/plain": [
       "(array([500., 434., 391., 405., 373., 346., 377., 376., 394., 371., 420.,\n",
       "        369., 312., 262., 228., 147., 126., 104.,  87.,  78.,  78.,  61.,\n",
       "         67.,  67.,  68.,  41.,  48.,  52.,  55.,  46.,  49.,  35.,  42.,\n",
       "         48.,  41.,  48.,  36.,  43.,  28.,  35.,  29.,  30.,  25.,  17.,\n",
       "         14.,  15.,  11.,   8.,   4.,   5.]),\n",
       " array([ 2.  ,  2.36,  2.72,  3.08,  3.44,  3.8 ,  4.16,  4.52,  4.88,\n",
       "         5.24,  5.6 ,  5.96,  6.32,  6.68,  7.04,  7.4 ,  7.76,  8.12,\n",
       "         8.48,  8.84,  9.2 ,  9.56,  9.92, 10.28, 10.64, 11.  , 11.36,\n",
       "        11.72, 12.08, 12.44, 12.8 , 13.16, 13.52, 13.88, 14.24, 14.6 ,\n",
       "        14.96, 15.32, 15.68, 16.04, 16.4 , 16.76, 17.12, 17.48, 17.84,\n",
       "        18.2 , 18.56, 18.92, 19.28, 19.64, 20.  ]),\n",
       " <a list of 50 Patch objects>)"
      ]
     },
     "execution_count": 34,
     "metadata": {},
     "output_type": "execute_result"
    },
    {
     "data": {
      "image/png": "[encoded data removed]",
      "text/plain": [
       "<matplotlib.figure.Figure at 0x121794518>"
      ]
     },
     "metadata": {},
     "output_type": "display_data"
    }
   ],
   "source": [
    "plt.hist(normalized.loc['ERR315859',:], bins=50, range=(2,20))"
   ]
  },
  {
   "cell_type": "code",
   "execution_count": 36,
   "metadata": {
    "collapsed": false
   },
   "outputs": [
    {
     "data": {
      "text/plain": [
       "(array([1037.,  859.,  655.,  500.,  430.,  408.,  431.,  363.,  385.,\n",
       "         396.,  415.,  394.,  436.,  387.,  337.,  264.,  225.,  165.,\n",
       "         116.,  109.,   83.,   83.,   68.,   72.,   74.,   68.,   47.,\n",
       "          50.,   57.,   51.,   54.,   53.,   37.,   47.,   48.,   40.,\n",
       "          54.,   37.,   38.,   33.,   37.,   28.,   33.,   21.,   15.,\n",
       "          14.,   15.,    8.,    4.,    5.]),\n",
       " array([ 1.  ,  1.38,  1.76,  2.14,  2.52,  2.9 ,  3.28,  3.66,  4.04,\n",
       "         4.42,  4.8 ,  5.18,  5.56,  5.94,  6.32,  6.7 ,  7.08,  7.46,\n",
       "         7.84,  8.22,  8.6 ,  8.98,  9.36,  9.74, 10.12, 10.5 , 10.88,\n",
       "        11.26, 11.64, 12.02, 12.4 , 12.78, 13.16, 13.54, 13.92, 14.3 ,\n",
       "        14.68, 15.06, 15.44, 15.82, 16.2 , 16.58, 16.96, 17.34, 17.72,\n",
       "        18.1 , 18.48, 18.86, 19.24, 19.62, 20.  ]),\n",
       " <a list of 50 Patch objects>)"
      ]
     },
     "execution_count": 36,
     "metadata": {},
     "output_type": "execute_result"
    },
    {
     "data": {
      "image/png": "[encoded data removed]",
      "text/plain": [
       "<matplotlib.figure.Figure at 0x11fd40cc0>"
      ]
     },
     "metadata": {},
     "output_type": "display_data"
    }
   ],
   "source": [
    "plt.hist(normalized.loc['ERR315859',:], bins=50, range=(1,20))"
   ]
  },
  {
   "cell_type": "code",
   "execution_count": 37,
   "metadata": {
    "collapsed": false
   },
   "outputs": [
    {
     "data": {
      "text/plain": [
       "(array([597., 559., 502., 465., 417., 408., 358., 336., 313., 270., 275.,\n",
       "        262., 219., 217., 171., 143., 129., 143., 110.,  95., 104.,  82.,\n",
       "         77.,  62.,  60.,  44.,  36.,  49.,  57.,  49.,  59.,  46.,  42.,\n",
       "         46.,  35.,  32.,  37.,  54.,  42.,  40.,  38.,  33.,  33.,  25.,\n",
       "         19.,  23.,  14.,  12.,   9.,  15.]),\n",
       " array([ 2.  ,  2.36,  2.72,  3.08,  3.44,  3.8 ,  4.16,  4.52,  4.88,\n",
       "         5.24,  5.6 ,  5.96,  6.32,  6.68,  7.04,  7.4 ,  7.76,  8.12,\n",
       "         8.48,  8.84,  9.2 ,  9.56,  9.92, 10.28, 10.64, 11.  , 11.36,\n",
       "        11.72, 12.08, 12.44, 12.8 , 13.16, 13.52, 13.88, 14.24, 14.6 ,\n",
       "        14.96, 15.32, 15.68, 16.04, 16.4 , 16.76, 17.12, 17.48, 17.84,\n",
       "        18.2 , 18.56, 18.92, 19.28, 19.64, 20.  ]),\n",
       " <a list of 50 Patch objects>)"
      ]
     },
     "execution_count": 37,
     "metadata": {},
     "output_type": "execute_result"
    },
    {
     "data": {
      "image/png": "[encoded data removed]",
      "text/plain": [
       "<matplotlib.figure.Figure at 0x11520d828>"
      ]
     },
     "metadata": {},
     "output_type": "display_data"
    }
   ],
   "source": [
    "plt.hist(normalized.loc['ERR315858',:], bins=50, range=(2,20))"
   ]
  },
  {
   "cell_type": "code",
   "execution_count": 38,
   "metadata": {
    "collapsed": false
   },
   "outputs": [
    {
     "data": {
      "text/plain": [
       "0      ERR599095\n",
       "1      ERR598955\n",
       "2      ERR315856\n",
       "3      ERR315857\n",
       "4      ERR594329\n",
       "5      ERR594288\n",
       "6      ERR599092\n",
       "7      ERR594352\n",
       "8      ERR598993\n",
       "9      ERR594358\n",
       "10     ERR594378\n",
       "11     ERR315859\n",
       "12     ERR594408\n",
       "13     ERR315858\n",
       "14     ERR599094\n",
       "15     ERR594375\n",
       "16     ERR599043\n",
       "17     ERR594396\n",
       "18     ERR318620\n",
       "19     ERR594405\n",
       "20     ERR315862\n",
       "21     ERR599106\n",
       "22     ERR594410\n",
       "23     ERR599097\n",
       "24     ERR594360\n",
       "25     ERR599116\n",
       "26     ERR594393\n",
       "27     ERR599049\n",
       "28     ERR599111\n",
       "29     ERR594390\n",
       "         ...    \n",
       "213    ERR599142\n",
       "214    ERR598942\n",
       "215    ERR599115\n",
       "216    ERR599052\n",
       "217    ERR599099\n",
       "218    ERR599127\n",
       "219    ERR598989\n",
       "220    ERR599087\n",
       "221    ERR599051\n",
       "222    ERR599030\n",
       "223    ERR599162\n",
       "224    ERR599029\n",
       "225    ERR599100\n",
       "226    ERR598985\n",
       "227    ERR599136\n",
       "228    ERR599166\n",
       "229    ERR598983\n",
       "230    ERR599047\n",
       "231    ERR598968\n",
       "232    ERR599123\n",
       "233    ERR598958\n",
       "234    ERR598964\n",
       "235    ERR598963\n",
       "236    ERR598996\n",
       "237    ERR599170\n",
       "238    ERR598986\n",
       "239    ERR598976\n",
       "240    ERR598944\n",
       "241    ERR599001\n",
       "242    ERR599078\n",
       "Name: run_id, Length: 243, dtype: object"
      ]
     },
     "execution_count": 38,
     "metadata": {},
     "output_type": "execute_result"
    }
   ],
   "source": [
    "run_keys['run_id']"
   ]
  },
  {
   "cell_type": "code",
   "execution_count": 39,
   "metadata": {
    "collapsed": false
   },
   "outputs": [
    {
     "ename": "KeyError",
     "evalue": "'the label [ERR315861] is not in the [index]'",
     "output_type": "error",
     "traceback": [
      "\u001b[0;31m---------------------------------------------------------------------------\u001b[0m",
      "\u001b[0;31mKeyError\u001b[0m                                  Traceback (most recent call last)",
      "\u001b[0;32m~/anaconda/envs/nb/lib/python3.4/site-packages/pandas/core/indexing.py\u001b[0m in \u001b[0;36m_has_valid_type\u001b[0;34m(self, key, axis)\u001b[0m\n\u001b[1;32m   1505\u001b[0m                 \u001b[0;32mif\u001b[0m \u001b[0;32mnot\u001b[0m \u001b[0max\u001b[0m\u001b[0;34m.\u001b[0m\u001b[0mcontains\u001b[0m\u001b[0;34m(\u001b[0m\u001b[0mkey\u001b[0m\u001b[0;34m)\u001b[0m\u001b[0;34m:\u001b[0m\u001b[0;34m\u001b[0m\u001b[0m\n\u001b[0;32m-> 1506\u001b[0;31m                     \u001b[0merror\u001b[0m\u001b[0;34m(\u001b[0m\u001b[0;34m)\u001b[0m\u001b[0;34m\u001b[0m\u001b[0m\n\u001b[0m\u001b[1;32m   1507\u001b[0m             \u001b[0;32mexcept\u001b[0m \u001b[0mTypeError\u001b[0m \u001b[0;32mas\u001b[0m \u001b[0me\u001b[0m\u001b[0;34m:\u001b[0m\u001b[0;34m\u001b[0m\u001b[0m\n",
      "\u001b[0;32m~/anaconda/envs/nb/lib/python3.4/site-packages/pandas/core/indexing.py\u001b[0m in \u001b[0;36merror\u001b[0;34m()\u001b[0m\n\u001b[1;32m   1500\u001b[0m                                .format(key=key,\n\u001b[0;32m-> 1501\u001b[0;31m                                        axis=self.obj._get_axis_name(axis)))\n\u001b[0m\u001b[1;32m   1502\u001b[0m \u001b[0;34m\u001b[0m\u001b[0m\n",
      "\u001b[0;31mKeyError\u001b[0m: 'the label [ERR315861] is not in the [index]'",
      "\nDuring handling of the above exception, another exception occurred:\n",
      "\u001b[0;31mKeyError\u001b[0m                                  Traceback (most recent call last)",
      "\u001b[0;32m<ipython-input-39-eecaa98a8fac>\u001b[0m in \u001b[0;36m<module>\u001b[0;34m()\u001b[0m\n\u001b[0;32m----> 1\u001b[0;31m \u001b[0mplt\u001b[0m\u001b[0;34m.\u001b[0m\u001b[0mhist\u001b[0m\u001b[0;34m(\u001b[0m\u001b[0mnormalized\u001b[0m\u001b[0;34m.\u001b[0m\u001b[0mloc\u001b[0m\u001b[0;34m[\u001b[0m\u001b[0;34m'ERR315861'\u001b[0m\u001b[0;34m,\u001b[0m\u001b[0;34m:\u001b[0m\u001b[0;34m]\u001b[0m\u001b[0;34m,\u001b[0m \u001b[0mbins\u001b[0m\u001b[0;34m=\u001b[0m\u001b[0;36m50\u001b[0m\u001b[0;34m,\u001b[0m \u001b[0mrange\u001b[0m\u001b[0;34m=\u001b[0m\u001b[0;34m(\u001b[0m\u001b[0;36m1\u001b[0m\u001b[0;34m,\u001b[0m\u001b[0;36m20\u001b[0m\u001b[0;34m)\u001b[0m\u001b[0;34m)\u001b[0m\u001b[0;34m\u001b[0m\u001b[0m\n\u001b[0m",
      "\u001b[0;32m~/anaconda/envs/nb/lib/python3.4/site-packages/pandas/core/indexing.py\u001b[0m in \u001b[0;36m__getitem__\u001b[0;34m(self, key)\u001b[0m\n\u001b[1;32m   1365\u001b[0m             \u001b[0;32mexcept\u001b[0m \u001b[0;34m(\u001b[0m\u001b[0mKeyError\u001b[0m\u001b[0;34m,\u001b[0m \u001b[0mIndexError\u001b[0m\u001b[0;34m)\u001b[0m\u001b[0;34m:\u001b[0m\u001b[0;34m\u001b[0m\u001b[0m\n\u001b[1;32m   1366\u001b[0m                 \u001b[0;32mpass\u001b[0m\u001b[0;34m\u001b[0m\u001b[0m\n\u001b[0;32m-> 1367\u001b[0;31m             \u001b[0;32mreturn\u001b[0m \u001b[0mself\u001b[0m\u001b[0;34m.\u001b[0m\u001b[0m_getitem_tuple\u001b[0m\u001b[0;34m(\u001b[0m\u001b[0mkey\u001b[0m\u001b[0;34m)\u001b[0m\u001b[0;34m\u001b[0m\u001b[0m\n\u001b[0m\u001b[1;32m   1368\u001b[0m         \u001b[0;32melse\u001b[0m\u001b[0;34m:\u001b[0m\u001b[0;34m\u001b[0m\u001b[0m\n\u001b[1;32m   1369\u001b[0m             \u001b[0;31m# we by definition only have the 0th axis\u001b[0m\u001b[0;34m\u001b[0m\u001b[0;34m\u001b[0m\u001b[0m\n",
      "\u001b[0;32m~/anaconda/envs/nb/lib/python3.4/site-packages/pandas/core/indexing.py\u001b[0m in \u001b[0;36m_getitem_tuple\u001b[0;34m(self, tup)\u001b[0m\n\u001b[1;32m    856\u001b[0m     \u001b[0;32mdef\u001b[0m \u001b[0m_getitem_tuple\u001b[0m\u001b[0;34m(\u001b[0m\u001b[0mself\u001b[0m\u001b[0;34m,\u001b[0m \u001b[0mtup\u001b[0m\u001b[0;34m)\u001b[0m\u001b[0;34m:\u001b[0m\u001b[0;34m\u001b[0m\u001b[0m\n\u001b[1;32m    857\u001b[0m         \u001b[0;32mtry\u001b[0m\u001b[0;34m:\u001b[0m\u001b[0;34m\u001b[0m\u001b[0m\n\u001b[0;32m--> 858\u001b[0;31m             \u001b[0;32mreturn\u001b[0m \u001b[0mself\u001b[0m\u001b[0;34m.\u001b[0m\u001b[0m_getitem_lowerdim\u001b[0m\u001b[0;34m(\u001b[0m\u001b[0mtup\u001b[0m\u001b[0;34m)\u001b[0m\u001b[0;34m\u001b[0m\u001b[0m\n\u001b[0m\u001b[1;32m    859\u001b[0m         \u001b[0;32mexcept\u001b[0m \u001b[0mIndexingError\u001b[0m\u001b[0;34m:\u001b[0m\u001b[0;34m\u001b[0m\u001b[0m\n\u001b[1;32m    860\u001b[0m             \u001b[0;32mpass\u001b[0m\u001b[0;34m\u001b[0m\u001b[0m\n",
      "\u001b[0;32m~/anaconda/envs/nb/lib/python3.4/site-packages/pandas/core/indexing.py\u001b[0m in \u001b[0;36m_getitem_lowerdim\u001b[0;34m(self, tup)\u001b[0m\n\u001b[1;32m    989\u001b[0m         \u001b[0;32mfor\u001b[0m \u001b[0mi\u001b[0m\u001b[0;34m,\u001b[0m \u001b[0mkey\u001b[0m \u001b[0;32min\u001b[0m \u001b[0menumerate\u001b[0m\u001b[0;34m(\u001b[0m\u001b[0mtup\u001b[0m\u001b[0;34m)\u001b[0m\u001b[0;34m:\u001b[0m\u001b[0;34m\u001b[0m\u001b[0m\n\u001b[1;32m    990\u001b[0m             \u001b[0;32mif\u001b[0m \u001b[0mis_label_like\u001b[0m\u001b[0;34m(\u001b[0m\u001b[0mkey\u001b[0m\u001b[0;34m)\u001b[0m \u001b[0;32mor\u001b[0m \u001b[0misinstance\u001b[0m\u001b[0;34m(\u001b[0m\u001b[0mkey\u001b[0m\u001b[0;34m,\u001b[0m \u001b[0mtuple\u001b[0m\u001b[0;34m)\u001b[0m\u001b[0;34m:\u001b[0m\u001b[0;34m\u001b[0m\u001b[0m\n\u001b[0;32m--> 991\u001b[0;31m                 \u001b[0msection\u001b[0m \u001b[0;34m=\u001b[0m \u001b[0mself\u001b[0m\u001b[0;34m.\u001b[0m\u001b[0m_getitem_axis\u001b[0m\u001b[0;34m(\u001b[0m\u001b[0mkey\u001b[0m\u001b[0;34m,\u001b[0m \u001b[0maxis\u001b[0m\u001b[0;34m=\u001b[0m\u001b[0mi\u001b[0m\u001b[0;34m)\u001b[0m\u001b[0;34m\u001b[0m\u001b[0m\n\u001b[0m\u001b[1;32m    992\u001b[0m \u001b[0;34m\u001b[0m\u001b[0m\n\u001b[1;32m    993\u001b[0m                 \u001b[0;31m# we have yielded a scalar ?\u001b[0m\u001b[0;34m\u001b[0m\u001b[0;34m\u001b[0m\u001b[0m\n",
      "\u001b[0;32m~/anaconda/envs/nb/lib/python3.4/site-packages/pandas/core/indexing.py\u001b[0m in \u001b[0;36m_getitem_axis\u001b[0;34m(self, key, axis)\u001b[0m\n\u001b[1;32m   1624\u001b[0m \u001b[0;34m\u001b[0m\u001b[0m\n\u001b[1;32m   1625\u001b[0m         \u001b[0;31m# fall thru to straight lookup\u001b[0m\u001b[0;34m\u001b[0m\u001b[0;34m\u001b[0m\u001b[0m\n\u001b[0;32m-> 1626\u001b[0;31m         \u001b[0mself\u001b[0m\u001b[0;34m.\u001b[0m\u001b[0m_has_valid_type\u001b[0m\u001b[0;34m(\u001b[0m\u001b[0mkey\u001b[0m\u001b[0;34m,\u001b[0m \u001b[0maxis\u001b[0m\u001b[0;34m)\u001b[0m\u001b[0;34m\u001b[0m\u001b[0m\n\u001b[0m\u001b[1;32m   1627\u001b[0m         \u001b[0;32mreturn\u001b[0m \u001b[0mself\u001b[0m\u001b[0;34m.\u001b[0m\u001b[0m_get_label\u001b[0m\u001b[0;34m(\u001b[0m\u001b[0mkey\u001b[0m\u001b[0;34m,\u001b[0m \u001b[0maxis\u001b[0m\u001b[0;34m=\u001b[0m\u001b[0maxis\u001b[0m\u001b[0;34m)\u001b[0m\u001b[0;34m\u001b[0m\u001b[0m\n\u001b[1;32m   1628\u001b[0m \u001b[0;34m\u001b[0m\u001b[0m\n",
      "\u001b[0;32m~/anaconda/envs/nb/lib/python3.4/site-packages/pandas/core/indexing.py\u001b[0m in \u001b[0;36m_has_valid_type\u001b[0;34m(self, key, axis)\u001b[0m\n\u001b[1;32m   1512\u001b[0m                 \u001b[0;32mraise\u001b[0m\u001b[0;34m\u001b[0m\u001b[0m\n\u001b[1;32m   1513\u001b[0m             \u001b[0;32mexcept\u001b[0m\u001b[0;34m:\u001b[0m\u001b[0;34m\u001b[0m\u001b[0m\n\u001b[0;32m-> 1514\u001b[0;31m                 \u001b[0merror\u001b[0m\u001b[0;34m(\u001b[0m\u001b[0;34m)\u001b[0m\u001b[0;34m\u001b[0m\u001b[0m\n\u001b[0m\u001b[1;32m   1515\u001b[0m \u001b[0;34m\u001b[0m\u001b[0m\n\u001b[1;32m   1516\u001b[0m         \u001b[0;32mreturn\u001b[0m \u001b[0;32mTrue\u001b[0m\u001b[0;34m\u001b[0m\u001b[0m\n",
      "\u001b[0;32m~/anaconda/envs/nb/lib/python3.4/site-packages/pandas/core/indexing.py\u001b[0m in \u001b[0;36merror\u001b[0;34m()\u001b[0m\n\u001b[1;32m   1499\u001b[0m                 raise KeyError(u\"the label [{key}] is not in the [{axis}]\"\n\u001b[1;32m   1500\u001b[0m                                .format(key=key,\n\u001b[0;32m-> 1501\u001b[0;31m                                        axis=self.obj._get_axis_name(axis)))\n\u001b[0m\u001b[1;32m   1502\u001b[0m \u001b[0;34m\u001b[0m\u001b[0m\n\u001b[1;32m   1503\u001b[0m             \u001b[0;32mtry\u001b[0m\u001b[0;34m:\u001b[0m\u001b[0;34m\u001b[0m\u001b[0m\n",
      "\u001b[0;31mKeyError\u001b[0m: 'the label [ERR315861] is not in the [index]'"
     ]
    }
   ],
   "source": [
    "plt.hist(normalized.loc['ERR315861',:], bins=50, range=(1,20))"
   ]
  },
  {
   "cell_type": "code",
   "execution_count": 128,
   "metadata": {
    "collapsed": false
   },
   "outputs": [
    {
     "data": {
      "text/plain": [
       "(array([ 760.,  650.,  571.,  472.,  403.,  406.,  429.,  440.,  425.,\n",
       "         414.,  395.,  344.,  294.,  272.,  227.,  216.,  213.,  180.,\n",
       "         165.,  129.,  110.,  115.,  102.,   74.,   61.,   57.,   50.,\n",
       "          61.,   69.,   67.,   70.,   83.,   80.,   76.,   54.,   60.,\n",
       "          55.,   54.,   42.,   35.,   33.,   28.,   21.,   21.,   14.,\n",
       "          17.,   10.,    7.,   10.,    5.]),\n",
       " array([  1.  ,   1.38,   1.76,   2.14,   2.52,   2.9 ,   3.28,   3.66,\n",
       "          4.04,   4.42,   4.8 ,   5.18,   5.56,   5.94,   6.32,   6.7 ,\n",
       "          7.08,   7.46,   7.84,   8.22,   8.6 ,   8.98,   9.36,   9.74,\n",
       "         10.12,  10.5 ,  10.88,  11.26,  11.64,  12.02,  12.4 ,  12.78,\n",
       "         13.16,  13.54,  13.92,  14.3 ,  14.68,  15.06,  15.44,  15.82,\n",
       "         16.2 ,  16.58,  16.96,  17.34,  17.72,  18.1 ,  18.48,  18.86,\n",
       "         19.24,  19.62,  20.  ]),\n",
       " <a list of 50 Patch objects>)"
      ]
     },
     "execution_count": 128,
     "metadata": {},
     "output_type": "execute_result"
    },
    {
     "data": {
      "image/png": "[encoded data removed]",
      "text/plain": [
       "<matplotlib.figure.Figure at 0x155530bd0>"
      ]
     },
     "metadata": {},
     "output_type": "display_data"
    }
   ],
   "source": [
    "plt.hist(normalized.loc['ERR598951',:], bins=50, range=(1,20))"
   ]
  },
  {
   "cell_type": "code",
   "execution_count": 40,
   "metadata": {
    "collapsed": false
   },
   "outputs": [
    {
     "data": {
      "text/plain": [
       "(array([1144.,  755.,  774.,  620.,  381.,  349.,  368.,  430.,  491.,\n",
       "         448.,  483.,  376.,  374.,  300.,  287.,  216.,  208.,  184.,\n",
       "         204.,  163.,  168.,  124.,   71.,   56.,   51.,   57.,   75.,\n",
       "          61.,   71.,   69.,   78.,   72.,   80.,   74.,   72.,   79.,\n",
       "          84.,   58.,   47.,   32.,   16.,   20.,   21.,   18.,   10.,\n",
       "           7.,    8.,   14.,    4.,    3.]),\n",
       " array([ 0.6  ,  0.988,  1.376,  1.764,  2.152,  2.54 ,  2.928,  3.316,\n",
       "         3.704,  4.092,  4.48 ,  4.868,  5.256,  5.644,  6.032,  6.42 ,\n",
       "         6.808,  7.196,  7.584,  7.972,  8.36 ,  8.748,  9.136,  9.524,\n",
       "         9.912, 10.3  , 10.688, 11.076, 11.464, 11.852, 12.24 , 12.628,\n",
       "        13.016, 13.404, 13.792, 14.18 , 14.568, 14.956, 15.344, 15.732,\n",
       "        16.12 , 16.508, 16.896, 17.284, 17.672, 18.06 , 18.448, 18.836,\n",
       "        19.224, 19.612, 20.   ]),\n",
       " <a list of 50 Patch objects>)"
      ]
     },
     "execution_count": 40,
     "metadata": {},
     "output_type": "execute_result"
    },
    {
     "data": {
      "image/png": "[encoded data removed]",
      "text/plain": [
       "<matplotlib.figure.Figure at 0x116a11e10>"
      ]
     },
     "metadata": {},
     "output_type": "display_data"
    }
   ],
   "source": [
    "plt.hist(normalized.loc['ERR599043',:], bins=50, range=(0.6,20))"
   ]
  },
  {
   "cell_type": "code",
   "execution_count": 42,
   "metadata": {
    "collapsed": false
   },
   "outputs": [
    {
     "data": {
      "text/html": [
       "<div>\n",
       "<style scoped>\n",
       "    .dataframe tbody tr th:only-of-type {\n",
       "        vertical-align: middle;\n",
       "    }\n",
       "\n",
       "    .dataframe tbody tr th {\n",
       "        vertical-align: top;\n",
       "    }\n",
       "\n",
       "    .dataframe thead th {\n",
       "        text-align: right;\n",
       "    }\n",
       "</style>\n",
       "<table border=\"1\" class=\"dataframe\">\n",
       "  <thead>\n",
       "    <tr style=\"text-align: right;\">\n",
       "      <th></th>\n",
       "      <th>run_id</th>\n",
       "      <th>tara_label</th>\n",
       "    </tr>\n",
       "  </thead>\n",
       "  <tbody>\n",
       "    <tr>\n",
       "      <th>18</th>\n",
       "      <td>ERR318620</td>\n",
       "      <td>TARA_030_DCM_0.22-1.6</td>\n",
       "    </tr>\n",
       "  </tbody>\n",
       "</table>\n",
       "</div>"
      ],
      "text/plain": [
       "       run_id             tara_label\n",
       "18  ERR318620  TARA_030_DCM_0.22-1.6"
      ]
     },
     "execution_count": 42,
     "metadata": {},
     "output_type": "execute_result"
    }
   ],
   "source": [
    "run_keys[run_keys['tara_label']=='TARA_030_DCM_0.22-1.6']"
   ]
  },
  {
   "cell_type": "code",
   "execution_count": 43,
   "metadata": {
    "collapsed": false
   },
   "outputs": [
    {
     "data": {
      "text/plain": [
       "(array([854., 766., 816., 715., 590., 464., 390., 438., 467., 550., 580.,\n",
       "        536., 426., 408., 322., 283., 229., 236., 227., 214., 223., 204.,\n",
       "        204., 168., 110.,  61.,  35.,  15.,   6.,   9.,   1.,   1.,   1.,\n",
       "          0.,   1.,   0.,   2.,   1.,   1.,   2.,   0.,   0.,   0.,   0.,\n",
       "          0.,   1.,   1.,   1.,   1.,   0.]),\n",
       " array([ 1.  ,  1.38,  1.76,  2.14,  2.52,  2.9 ,  3.28,  3.66,  4.04,\n",
       "         4.42,  4.8 ,  5.18,  5.56,  5.94,  6.32,  6.7 ,  7.08,  7.46,\n",
       "         7.84,  8.22,  8.6 ,  8.98,  9.36,  9.74, 10.12, 10.5 , 10.88,\n",
       "        11.26, 11.64, 12.02, 12.4 , 12.78, 13.16, 13.54, 13.92, 14.3 ,\n",
       "        14.68, 15.06, 15.44, 15.82, 16.2 , 16.58, 16.96, 17.34, 17.72,\n",
       "        18.1 , 18.48, 18.86, 19.24, 19.62, 20.  ]),\n",
       " <a list of 50 Patch objects>)"
      ]
     },
     "execution_count": 43,
     "metadata": {},
     "output_type": "execute_result"
    },
    {
     "data": {
      "image/png": "[encoded data removed]",
      "text/plain": [
       "<matplotlib.figure.Figure at 0x11a7b17b8>"
      ]
     },
     "metadata": {},
     "output_type": "display_data"
    }
   ],
   "source": [
    "plt.hist(normalized.loc['ERR318620',:], bins=50, range=(1,20))"
   ]
  },
  {
   "cell_type": "code",
   "execution_count": 46,
   "metadata": {
    "collapsed": false
   },
   "outputs": [
    {
     "data": {
      "text/plain": [
       "(array([1.971e+03, 1.020e+03, 8.050e+02, 8.240e+02, 8.250e+02, 6.460e+02,\n",
       "        5.350e+02, 4.290e+02, 4.260e+02, 4.780e+02, 5.240e+02, 5.990e+02,\n",
       "        5.740e+02, 4.730e+02, 4.230e+02, 3.440e+02, 2.920e+02, 2.430e+02,\n",
       "        2.410e+02, 2.350e+02, 2.200e+02, 2.300e+02, 2.200e+02, 1.970e+02,\n",
       "        1.650e+02, 1.030e+02, 6.300e+01, 2.500e+01, 1.400e+01, 5.000e+00,\n",
       "        6.000e+00, 1.000e+00, 2.000e+00, 0.000e+00, 1.000e+00, 0.000e+00,\n",
       "        1.000e+00, 2.000e+00, 0.000e+00, 3.000e+00, 0.000e+00, 0.000e+00,\n",
       "        0.000e+00, 0.000e+00, 0.000e+00, 1.000e+00, 1.000e+00, 1.000e+00,\n",
       "        1.000e+00, 0.000e+00]),\n",
       " array([ 0.37  ,  0.7626,  1.1552,  1.5478,  1.9404,  2.333 ,  2.7256,\n",
       "         3.1182,  3.5108,  3.9034,  4.296 ,  4.6886,  5.0812,  5.4738,\n",
       "         5.8664,  6.259 ,  6.6516,  7.0442,  7.4368,  7.8294,  8.222 ,\n",
       "         8.6146,  9.0072,  9.3998,  9.7924, 10.185 , 10.5776, 10.9702,\n",
       "        11.3628, 11.7554, 12.148 , 12.5406, 12.9332, 13.3258, 13.7184,\n",
       "        14.111 , 14.5036, 14.8962, 15.2888, 15.6814, 16.074 , 16.4666,\n",
       "        16.8592, 17.2518, 17.6444, 18.037 , 18.4296, 18.8222, 19.2148,\n",
       "        19.6074, 20.    ]),\n",
       " <a list of 50 Patch objects>)"
      ]
     },
     "execution_count": 46,
     "metadata": {},
     "output_type": "execute_result"
    },
    {
     "data": {
      "image/png": "[encoded data removed]",
      "text/plain": [
       "<matplotlib.figure.Figure at 0x1187a6940>"
      ]
     },
     "metadata": {},
     "output_type": "display_data"
    }
   ],
   "source": [
    "plt.hist(normalized.loc['ERR318620',:], bins=50, range=(0.37,20))"
   ]
  },
  {
   "cell_type": "code",
   "execution_count": 47,
   "metadata": {
    "collapsed": false
   },
   "outputs": [
    {
     "data": {
      "text/plain": [
       "(array([1751., 1184.,  900.,  835.,  677.,  595.,  524.,  459.,  398.,\n",
       "         377.,  317.,  298.,  272.,  279.,  231.,  184.,  196.,  199.,\n",
       "         173.,  142.,  139.,  129.,  113.,   99.,  108.,   91.,   79.,\n",
       "          67.,   66.,   63.,   54.,   54.,   51.,   42.,   36.,   34.,\n",
       "          37.,   32.,   22.,   17.,   10.,   18.,   14.,   18.,   23.,\n",
       "          17.,   16.,   12.,   16.,    6.]),\n",
       " array([ 0.37  ,  0.7626,  1.1552,  1.5478,  1.9404,  2.333 ,  2.7256,\n",
       "         3.1182,  3.5108,  3.9034,  4.296 ,  4.6886,  5.0812,  5.4738,\n",
       "         5.8664,  6.259 ,  6.6516,  7.0442,  7.4368,  7.8294,  8.222 ,\n",
       "         8.6146,  9.0072,  9.3998,  9.7924, 10.185 , 10.5776, 10.9702,\n",
       "        11.3628, 11.7554, 12.148 , 12.5406, 12.9332, 13.3258, 13.7184,\n",
       "        14.111 , 14.5036, 14.8962, 15.2888, 15.6814, 16.074 , 16.4666,\n",
       "        16.8592, 17.2518, 17.6444, 18.037 , 18.4296, 18.8222, 19.2148,\n",
       "        19.6074, 20.    ]),\n",
       " <a list of 50 Patch objects>)"
      ]
     },
     "execution_count": 47,
     "metadata": {},
     "output_type": "execute_result"
    },
    {
     "data": {
      "image/png": "[encoded data removed]",
      "text/plain": [
       "<matplotlib.figure.Figure at 0x11410dc88>"
      ]
     },
     "metadata": {},
     "output_type": "display_data"
    }
   ],
   "source": [
    "plt.hist(normalized.loc['ERR315862',:], bins=50, range=(0.37,20))"
   ]
  },
  {
   "cell_type": "code",
   "execution_count": 49,
   "metadata": {
    "collapsed": false
   },
   "outputs": [
    {
     "data": {
      "text/plain": [
       "(array([967., 854., 729., 600., 568., 463., 439., 369., 336., 299., 279.,\n",
       "        271., 262., 212., 178., 189., 198., 164., 138., 133., 127., 115.,\n",
       "         97.,  94.,  92.,  80.,  70.,  68.,  55.,  57.,  54.,  51.,  45.,\n",
       "         32.,  40.,  29.,  35.,  27.,  18.,  17.,  14.,  13.,  19.,  16.,\n",
       "         22.,  16.,  14.,  12.,  15.,   6.]),\n",
       " array([ 1.  ,  1.38,  1.76,  2.14,  2.52,  2.9 ,  3.28,  3.66,  4.04,\n",
       "         4.42,  4.8 ,  5.18,  5.56,  5.94,  6.32,  6.7 ,  7.08,  7.46,\n",
       "         7.84,  8.22,  8.6 ,  8.98,  9.36,  9.74, 10.12, 10.5 , 10.88,\n",
       "        11.26, 11.64, 12.02, 12.4 , 12.78, 13.16, 13.54, 13.92, 14.3 ,\n",
       "        14.68, 15.06, 15.44, 15.82, 16.2 , 16.58, 16.96, 17.34, 17.72,\n",
       "        18.1 , 18.48, 18.86, 19.24, 19.62, 20.  ]),\n",
       " <a list of 50 Patch objects>)"
      ]
     },
     "execution_count": 49,
     "metadata": {},
     "output_type": "execute_result"
    },
    {
     "data": {
      "image/png": "[encoded data removed]",
      "text/plain": [
       "<matplotlib.figure.Figure at 0x11c70fb00>"
      ]
     },
     "metadata": {},
     "output_type": "display_data"
    }
   ],
   "source": [
    "plt.hist(normalized.loc['ERR315862',:], bins=50, range=(1,20))"
   ]
  },
  {
   "cell_type": "code",
   "execution_count": 50,
   "metadata": {
    "collapsed": true
   },
   "outputs": [],
   "source": [
    "import numpy as np"
   ]
  },
  {
   "cell_type": "code",
   "execution_count": 51,
   "metadata": {
    "collapsed": false
   },
   "outputs": [
    {
     "data": {
      "text/plain": [
       "(array([0.000e+00, 0.000e+00, 0.000e+00, 0.000e+00, 0.000e+00, 6.000e+00,\n",
       "        2.400e+01, 9.500e+01, 2.410e+02, 4.290e+02, 6.050e+02, 8.170e+02,\n",
       "        8.760e+02, 1.024e+03, 1.025e+03, 1.077e+03, 1.001e+03, 8.890e+02,\n",
       "        9.460e+02, 8.750e+02, 8.800e+02, 9.240e+02, 9.490e+02, 9.690e+02,\n",
       "        1.027e+03, 1.241e+03, 1.452e+03, 1.533e+03, 1.517e+03, 1.432e+03,\n",
       "        1.107e+03, 5.760e+02, 2.160e+02, 7.200e+01, 1.200e+01, 2.000e+00,\n",
       "        0.000e+00, 0.000e+00, 0.000e+00, 0.000e+00, 0.000e+00, 0.000e+00,\n",
       "        0.000e+00, 1.000e+00, 0.000e+00, 0.000e+00, 0.000e+00, 0.000e+00,\n",
       "        0.000e+00, 0.000e+00]),\n",
       " array([-10. ,  -9.6,  -9.2,  -8.8,  -8.4,  -8. ,  -7.6,  -7.2,  -6.8,\n",
       "         -6.4,  -6. ,  -5.6,  -5.2,  -4.8,  -4.4,  -4. ,  -3.6,  -3.2,\n",
       "         -2.8,  -2.4,  -2. ,  -1.6,  -1.2,  -0.8,  -0.4,   0. ,   0.4,\n",
       "          0.8,   1.2,   1.6,   2. ,   2.4,   2.8,   3.2,   3.6,   4. ,\n",
       "          4.4,   4.8,   5.2,   5.6,   6. ,   6.4,   6.8,   7.2,   7.6,\n",
       "          8. ,   8.4,   8.8,   9.2,   9.6,  10. ]),\n",
       " <a list of 50 Patch objects>)"
      ]
     },
     "execution_count": 51,
     "metadata": {},
     "output_type": "execute_result"
    },
    {
     "data": {
      "image/png": "[encoded data removed]",
      "text/plain": [
       "<matplotlib.figure.Figure at 0x11c6e4400>"
      ]
     },
     "metadata": {},
     "output_type": "display_data"
    }
   ],
   "source": [
    "plt.hist(np.log(normalized.loc['ERR315862',:]+0.00000000000001), bins=50, range=(-10,10))"
   ]
  },
  {
   "cell_type": "code",
   "execution_count": 148,
   "metadata": {
    "collapsed": false
   },
   "outputs": [
    {
     "data": {
      "text/plain": [
       "(array([  0.00000000e+00,   0.00000000e+00,   0.00000000e+00,\n",
       "          0.00000000e+00,   0.00000000e+00,   6.00000000e+00,\n",
       "          2.40000000e+01,   9.50000000e+01,   2.41000000e+02,\n",
       "          4.29000000e+02,   6.05000000e+02,   8.17000000e+02,\n",
       "          8.76000000e+02,   1.02400000e+03,   1.02500000e+03,\n",
       "          1.07700000e+03,   1.00100000e+03,   8.89000000e+02,\n",
       "          9.46000000e+02,   8.75000000e+02,   8.80000000e+02,\n",
       "          9.24000000e+02,   9.49000000e+02,   9.69000000e+02,\n",
       "          1.02700000e+03,   1.24100000e+03,   1.45200000e+03,\n",
       "          1.53300000e+03,   1.51700000e+03,   1.43200000e+03,\n",
       "          1.10700000e+03,   5.76000000e+02,   2.16000000e+02,\n",
       "          7.20000000e+01,   1.20000000e+01,   2.00000000e+00,\n",
       "          0.00000000e+00,   0.00000000e+00,   0.00000000e+00,\n",
       "          0.00000000e+00,   0.00000000e+00,   0.00000000e+00,\n",
       "          0.00000000e+00,   1.00000000e+00,   0.00000000e+00,\n",
       "          0.00000000e+00,   0.00000000e+00,   0.00000000e+00,\n",
       "          0.00000000e+00,   0.00000000e+00]),\n",
       " array([-10. ,  -9.6,  -9.2,  -8.8,  -8.4,  -8. ,  -7.6,  -7.2,  -6.8,\n",
       "         -6.4,  -6. ,  -5.6,  -5.2,  -4.8,  -4.4,  -4. ,  -3.6,  -3.2,\n",
       "         -2.8,  -2.4,  -2. ,  -1.6,  -1.2,  -0.8,  -0.4,   0. ,   0.4,\n",
       "          0.8,   1.2,   1.6,   2. ,   2.4,   2.8,   3.2,   3.6,   4. ,\n",
       "          4.4,   4.8,   5.2,   5.6,   6. ,   6.4,   6.8,   7.2,   7.6,\n",
       "          8. ,   8.4,   8.8,   9.2,   9.6,  10. ]),\n",
       " <a list of 50 Patch objects>)"
      ]
     },
     "execution_count": 148,
     "metadata": {},
     "output_type": "execute_result"
    },
    {
     "data": {
      "image/png": "[encoded data removed]",
      "text/plain": [
       "<matplotlib.figure.Figure at 0x159bfb550>"
      ]
     },
     "metadata": {},
     "output_type": "display_data"
    }
   ],
   "source": [
    "plt.hist(np.log(normalized.loc['ERR315862',:]+0.00000000000001), bins=50, range=(-10,10))"
   ]
  },
  {
   "cell_type": "code",
   "execution_count": 52,
   "metadata": {
    "collapsed": false
   },
   "outputs": [
    {
     "data": {
      "text/plain": [
       "(array([ 480.,  495.,  602.,  693.,  647.,  718.,  733.,  787.,  749.,\n",
       "         719.,  755.,  756.,  783.,  725.,  676.,  597.,  596.,  571.,\n",
       "         630.,  689.,  677.,  558.,  530.,  422.,  449.,  449.,  517.,\n",
       "         654.,  602.,  428.,  589.,  860., 1067.,  984.,  795.,  713.,\n",
       "         330.,  451.,  451.,  108.,    7.,    5.,    0.,    2.,    0.,\n",
       "           0.,    0.,    0.,    0.,    0.]),\n",
       " array([-5. , -4.8, -4.6, -4.4, -4.2, -4. , -3.8, -3.6, -3.4, -3.2, -3. ,\n",
       "        -2.8, -2.6, -2.4, -2.2, -2. , -1.8, -1.6, -1.4, -1.2, -1. , -0.8,\n",
       "        -0.6, -0.4, -0.2,  0. ,  0.2,  0.4,  0.6,  0.8,  1. ,  1.2,  1.4,\n",
       "         1.6,  1.8,  2. ,  2.2,  2.4,  2.6,  2.8,  3. ,  3.2,  3.4,  3.6,\n",
       "         3.8,  4. ,  4.2,  4.4,  4.6,  4.8,  5. ]),\n",
       " <a list of 50 Patch objects>)"
      ]
     },
     "execution_count": 52,
     "metadata": {},
     "output_type": "execute_result"
    },
    {
     "data": {
      "image/png": "[encoded data removed]",
      "text/plain": [
       "<matplotlib.figure.Figure at 0x114106a58>"
      ]
     },
     "metadata": {},
     "output_type": "display_data"
    }
   ],
   "source": [
    "plt.hist(np.log(normalized.loc['ERR599043',:]+0.00000000000001), bins=50, range=(-5,5))"
   ]
  },
  {
   "cell_type": "markdown",
   "metadata": {},
   "source": [
    "### okay so the cut off is not obvious\n",
    "\n",
    "It looks to me like particularly where there's a really clear modal/bimodal/(trimodal?) distribution, a cutoff of e^-1 looks pretty good, like it more or less bisects the peak in the very small numbers (e^-3, e^-4...) and the definitely-signal peak in the higher numbers. But, sometimes it looks like it's closer to e^0, or could be a smaller number...\n",
    "\n",
    "I'm going to go with a cutoff of e^-1 (=0.37)."
   ]
  },
  {
   "cell_type": "code",
   "execution_count": 55,
   "metadata": {
    "collapsed": false
   },
   "outputs": [
    {
     "data": {
      "text/plain": [
       "(array([ 24.,  58., 111.,  93.,  95., 117.,  94.,  82.,  73.,  54.,  40.,\n",
       "         35.,  35.,  29.,  26.,  22.,  10.,  18.,  10.,  12.,   8.,   7.,\n",
       "          1.,   4.,   3.,   3.,   0.,   2.,   2.,   4.,   2.,   0.,   1.,\n",
       "          1.,   1.,   1.,   1.,   2.,   3.,   1.,   0.,   2.,   0.,   0.,\n",
       "          0.,   1.,   0.,   1.,   0.,   0.]),\n",
       " array([ 0.37  ,  0.7626,  1.1552,  1.5478,  1.9404,  2.333 ,  2.7256,\n",
       "         3.1182,  3.5108,  3.9034,  4.296 ,  4.6886,  5.0812,  5.4738,\n",
       "         5.8664,  6.259 ,  6.6516,  7.0442,  7.4368,  7.8294,  8.222 ,\n",
       "         8.6146,  9.0072,  9.3998,  9.7924, 10.185 , 10.5776, 10.9702,\n",
       "        11.3628, 11.7554, 12.148 , 12.5406, 12.9332, 13.3258, 13.7184,\n",
       "        14.111 , 14.5036, 14.8962, 15.2888, 15.6814, 16.074 , 16.4666,\n",
       "        16.8592, 17.2518, 17.6444, 18.037 , 18.4296, 18.8222, 19.2148,\n",
       "        19.6074, 20.    ]),\n",
       " <a list of 50 Patch objects>)"
      ]
     },
     "execution_count": 55,
     "metadata": {},
     "output_type": "execute_result"
    },
    {
     "data": {
      "image/png": "[encoded data removed]",
      "text/plain": [
       "<matplotlib.figure.Figure at 0x1136f6fd0>"
      ]
     },
     "metadata": {},
     "output_type": "display_data"
    }
   ],
   "source": [
    "plt.hist(normalized.loc['ERR594312',:], bins=50, range=(0.37,20))"
   ]
  },
  {
   "cell_type": "code",
   "execution_count": 56,
   "metadata": {
    "collapsed": false
   },
   "outputs": [
    {
     "data": {
      "text/plain": [
       "(array([6.678e+03, 4.288e+03, 2.779e+03, 1.973e+03, 1.392e+03, 8.870e+02,\n",
       "        7.390e+02, 5.750e+02, 4.870e+02, 4.030e+02, 3.500e+02, 3.370e+02,\n",
       "        2.990e+02, 3.040e+02, 2.830e+02, 2.740e+02, 2.430e+02, 2.240e+02,\n",
       "        1.920e+02, 1.940e+02, 1.420e+02, 1.130e+02, 7.300e+01, 5.000e+01,\n",
       "        4.000e+01, 2.700e+01, 1.700e+01, 1.000e+01, 1.200e+01, 7.000e+00,\n",
       "        3.000e+00, 8.000e+00, 5.000e+00, 6.000e+00, 5.000e+00, 5.000e+00,\n",
       "        4.000e+00, 2.000e+00, 3.000e+00, 2.000e+00, 2.000e+00, 1.000e+00,\n",
       "        0.000e+00, 1.000e+00, 1.000e+00, 2.000e+00, 1.000e+00, 1.000e+00,\n",
       "        0.000e+00, 3.000e+00]),\n",
       " array([ 0.37  ,  0.7626,  1.1552,  1.5478,  1.9404,  2.333 ,  2.7256,\n",
       "         3.1182,  3.5108,  3.9034,  4.296 ,  4.6886,  5.0812,  5.4738,\n",
       "         5.8664,  6.259 ,  6.6516,  7.0442,  7.4368,  7.8294,  8.222 ,\n",
       "         8.6146,  9.0072,  9.3998,  9.7924, 10.185 , 10.5776, 10.9702,\n",
       "        11.3628, 11.7554, 12.148 , 12.5406, 12.9332, 13.3258, 13.7184,\n",
       "        14.111 , 14.5036, 14.8962, 15.2888, 15.6814, 16.074 , 16.4666,\n",
       "        16.8592, 17.2518, 17.6444, 18.037 , 18.4296, 18.8222, 19.2148,\n",
       "        19.6074, 20.    ]),\n",
       " <a list of 50 Patch objects>)"
      ]
     },
     "execution_count": 56,
     "metadata": {},
     "output_type": "execute_result"
    },
    {
     "data": {
      "image/png": "[encoded data removed]",
      "text/plain": [
       "<matplotlib.figure.Figure at 0x1134f5a20>"
      ]
     },
     "metadata": {},
     "output_type": "display_data"
    }
   ],
   "source": [
    "plt.hist(normalized.loc['ERR598982',:], bins=50, range=(0.37,20))"
   ]
  },
  {
   "cell_type": "markdown",
   "metadata": {},
   "source": [
    "## convert to presence/absence\n",
    "\n",
    "use 0.37 as cutoff at least initially (which is e^-1)"
   ]
  },
  {
   "cell_type": "code",
   "execution_count": 57,
   "metadata": {
    "collapsed": false
   },
   "outputs": [
    {
     "data": {
      "text/html": [
       "<div>\n",
       "<style scoped>\n",
       "    .dataframe tbody tr th:only-of-type {\n",
       "        vertical-align: middle;\n",
       "    }\n",
       "\n",
       "    .dataframe tbody tr th {\n",
       "        vertical-align: top;\n",
       "    }\n",
       "\n",
       "    .dataframe thead th {\n",
       "        text-align: right;\n",
       "    }\n",
       "</style>\n",
       "<table border=\"1\" class=\"dataframe\">\n",
       "  <thead>\n",
       "    <tr style=\"text-align: right;\">\n",
       "      <th>gene_id</th>\n",
       "      <th>fig|1123864.3.peg.102|VBISARClu237429_0102|</th>\n",
       "      <th>fig|1123864.3.peg.103|VBISARClu237429_0103|</th>\n",
       "      <th>fig|1123864.3.peg.105|VBISARClu237429_0105|</th>\n",
       "      <th>fig|1123864.3.peg.106|VBISARClu237429_0106|</th>\n",
       "      <th>fig|1123864.3.peg.108|VBISARClu237429_0108|</th>\n",
       "      <th>fig|1123864.3.peg.109|VBISARClu237429_0109|</th>\n",
       "      <th>fig|1123864.3.peg.111|VBISARClu237429_0111|</th>\n",
       "      <th>fig|1123864.3.peg.112|VBISARClu237429_0112|</th>\n",
       "      <th>fig|1123864.3.peg.115|VBISARClu237429_0115|</th>\n",
       "      <th>fig|1123864.3.peg.116|VBISARClu237429_0116|</th>\n",
       "      <th>...</th>\n",
       "      <th>scf7180009409913_26157_27140_26</th>\n",
       "      <th>scf7180009409913_27144_28913_27</th>\n",
       "      <th>scf7180009409913_28976_30082_28</th>\n",
       "      <th>scf7180009409913_30060_31295_29</th>\n",
       "      <th>scf7180009409913_31282_32319_30</th>\n",
       "      <th>scf7180009409913_32383_33123_31</th>\n",
       "      <th>scf7180009409913_33125_33334_32</th>\n",
       "      <th>scf7180009409913_4750_2468_4</th>\n",
       "      <th>scf7180009409913_5274_4753_5</th>\n",
       "      <th>scf7180009409913_5681_8779_6</th>\n",
       "    </tr>\n",
       "    <tr>\n",
       "      <th>index</th>\n",
       "      <th></th>\n",
       "      <th></th>\n",
       "      <th></th>\n",
       "      <th></th>\n",
       "      <th></th>\n",
       "      <th></th>\n",
       "      <th></th>\n",
       "      <th></th>\n",
       "      <th></th>\n",
       "      <th></th>\n",
       "      <th></th>\n",
       "      <th></th>\n",
       "      <th></th>\n",
       "      <th></th>\n",
       "      <th></th>\n",
       "      <th></th>\n",
       "      <th></th>\n",
       "      <th></th>\n",
       "      <th></th>\n",
       "      <th></th>\n",
       "      <th></th>\n",
       "    </tr>\n",
       "  </thead>\n",
       "  <tbody>\n",
       "    <tr>\n",
       "      <th>ERR599095</th>\n",
       "      <td>0.0</td>\n",
       "      <td>0.0</td>\n",
       "      <td>0.0</td>\n",
       "      <td>0.0</td>\n",
       "      <td>0.0</td>\n",
       "      <td>0.0</td>\n",
       "      <td>0.0</td>\n",
       "      <td>0.0</td>\n",
       "      <td>0.0</td>\n",
       "      <td>0.0</td>\n",
       "      <td>...</td>\n",
       "      <td>1.0</td>\n",
       "      <td>1.0</td>\n",
       "      <td>1.0</td>\n",
       "      <td>1.0</td>\n",
       "      <td>1.0</td>\n",
       "      <td>1.0</td>\n",
       "      <td>0.0</td>\n",
       "      <td>0.0</td>\n",
       "      <td>0.0</td>\n",
       "      <td>0.0</td>\n",
       "    </tr>\n",
       "    <tr>\n",
       "      <th>ERR598955</th>\n",
       "      <td>0.0</td>\n",
       "      <td>0.0</td>\n",
       "      <td>0.0</td>\n",
       "      <td>0.0</td>\n",
       "      <td>0.0</td>\n",
       "      <td>0.0</td>\n",
       "      <td>0.0</td>\n",
       "      <td>0.0</td>\n",
       "      <td>0.0</td>\n",
       "      <td>0.0</td>\n",
       "      <td>...</td>\n",
       "      <td>0.0</td>\n",
       "      <td>0.0</td>\n",
       "      <td>0.0</td>\n",
       "      <td>0.0</td>\n",
       "      <td>0.0</td>\n",
       "      <td>0.0</td>\n",
       "      <td>0.0</td>\n",
       "      <td>0.0</td>\n",
       "      <td>0.0</td>\n",
       "      <td>0.0</td>\n",
       "    </tr>\n",
       "    <tr>\n",
       "      <th>ERR315856</th>\n",
       "      <td>0.0</td>\n",
       "      <td>0.0</td>\n",
       "      <td>0.0</td>\n",
       "      <td>0.0</td>\n",
       "      <td>0.0</td>\n",
       "      <td>0.0</td>\n",
       "      <td>0.0</td>\n",
       "      <td>0.0</td>\n",
       "      <td>0.0</td>\n",
       "      <td>0.0</td>\n",
       "      <td>...</td>\n",
       "      <td>1.0</td>\n",
       "      <td>1.0</td>\n",
       "      <td>1.0</td>\n",
       "      <td>1.0</td>\n",
       "      <td>1.0</td>\n",
       "      <td>1.0</td>\n",
       "      <td>0.0</td>\n",
       "      <td>0.0</td>\n",
       "      <td>0.0</td>\n",
       "      <td>0.0</td>\n",
       "    </tr>\n",
       "    <tr>\n",
       "      <th>ERR315857</th>\n",
       "      <td>0.0</td>\n",
       "      <td>0.0</td>\n",
       "      <td>0.0</td>\n",
       "      <td>0.0</td>\n",
       "      <td>0.0</td>\n",
       "      <td>0.0</td>\n",
       "      <td>0.0</td>\n",
       "      <td>0.0</td>\n",
       "      <td>0.0</td>\n",
       "      <td>0.0</td>\n",
       "      <td>...</td>\n",
       "      <td>0.0</td>\n",
       "      <td>0.0</td>\n",
       "      <td>0.0</td>\n",
       "      <td>0.0</td>\n",
       "      <td>0.0</td>\n",
       "      <td>0.0</td>\n",
       "      <td>0.0</td>\n",
       "      <td>0.0</td>\n",
       "      <td>0.0</td>\n",
       "      <td>0.0</td>\n",
       "    </tr>\n",
       "    <tr>\n",
       "      <th>ERR594329</th>\n",
       "      <td>0.0</td>\n",
       "      <td>0.0</td>\n",
       "      <td>0.0</td>\n",
       "      <td>0.0</td>\n",
       "      <td>0.0</td>\n",
       "      <td>0.0</td>\n",
       "      <td>0.0</td>\n",
       "      <td>0.0</td>\n",
       "      <td>0.0</td>\n",
       "      <td>0.0</td>\n",
       "      <td>...</td>\n",
       "      <td>1.0</td>\n",
       "      <td>1.0</td>\n",
       "      <td>1.0</td>\n",
       "      <td>1.0</td>\n",
       "      <td>1.0</td>\n",
       "      <td>1.0</td>\n",
       "      <td>0.0</td>\n",
       "      <td>0.0</td>\n",
       "      <td>1.0</td>\n",
       "      <td>0.0</td>\n",
       "    </tr>\n",
       "  </tbody>\n",
       "</table>\n",
       "<p>5 rows × 51711 columns</p>\n",
       "</div>"
      ],
      "text/plain": [
       "gene_id    fig|1123864.3.peg.102|VBISARClu237429_0102|  \\\n",
       "index                                                    \n",
       "ERR599095                                          0.0   \n",
       "ERR598955                                          0.0   \n",
       "ERR315856                                          0.0   \n",
       "ERR315857                                          0.0   \n",
       "ERR594329                                          0.0   \n",
       "\n",
       "gene_id    fig|1123864.3.peg.103|VBISARClu237429_0103|  \\\n",
       "index                                                    \n",
       "ERR599095                                          0.0   \n",
       "ERR598955                                          0.0   \n",
       "ERR315856                                          0.0   \n",
       "ERR315857                                          0.0   \n",
       "ERR594329                                          0.0   \n",
       "\n",
       "gene_id    fig|1123864.3.peg.105|VBISARClu237429_0105|  \\\n",
       "index                                                    \n",
       "ERR599095                                          0.0   \n",
       "ERR598955                                          0.0   \n",
       "ERR315856                                          0.0   \n",
       "ERR315857                                          0.0   \n",
       "ERR594329                                          0.0   \n",
       "\n",
       "gene_id    fig|1123864.3.peg.106|VBISARClu237429_0106|  \\\n",
       "index                                                    \n",
       "ERR599095                                          0.0   \n",
       "ERR598955                                          0.0   \n",
       "ERR315856                                          0.0   \n",
       "ERR315857                                          0.0   \n",
       "ERR594329                                          0.0   \n",
       "\n",
       "gene_id    fig|1123864.3.peg.108|VBISARClu237429_0108|  \\\n",
       "index                                                    \n",
       "ERR599095                                          0.0   \n",
       "ERR598955                                          0.0   \n",
       "ERR315856                                          0.0   \n",
       "ERR315857                                          0.0   \n",
       "ERR594329                                          0.0   \n",
       "\n",
       "gene_id    fig|1123864.3.peg.109|VBISARClu237429_0109|  \\\n",
       "index                                                    \n",
       "ERR599095                                          0.0   \n",
       "ERR598955                                          0.0   \n",
       "ERR315856                                          0.0   \n",
       "ERR315857                                          0.0   \n",
       "ERR594329                                          0.0   \n",
       "\n",
       "gene_id    fig|1123864.3.peg.111|VBISARClu237429_0111|  \\\n",
       "index                                                    \n",
       "ERR599095                                          0.0   \n",
       "ERR598955                                          0.0   \n",
       "ERR315856                                          0.0   \n",
       "ERR315857                                          0.0   \n",
       "ERR594329                                          0.0   \n",
       "\n",
       "gene_id    fig|1123864.3.peg.112|VBISARClu237429_0112|  \\\n",
       "index                                                    \n",
       "ERR599095                                          0.0   \n",
       "ERR598955                                          0.0   \n",
       "ERR315856                                          0.0   \n",
       "ERR315857                                          0.0   \n",
       "ERR594329                                          0.0   \n",
       "\n",
       "gene_id    fig|1123864.3.peg.115|VBISARClu237429_0115|  \\\n",
       "index                                                    \n",
       "ERR599095                                          0.0   \n",
       "ERR598955                                          0.0   \n",
       "ERR315856                                          0.0   \n",
       "ERR315857                                          0.0   \n",
       "ERR594329                                          0.0   \n",
       "\n",
       "gene_id    fig|1123864.3.peg.116|VBISARClu237429_0116|  \\\n",
       "index                                                    \n",
       "ERR599095                                          0.0   \n",
       "ERR598955                                          0.0   \n",
       "ERR315856                                          0.0   \n",
       "ERR315857                                          0.0   \n",
       "ERR594329                                          0.0   \n",
       "\n",
       "gene_id                ...               scf7180009409913_26157_27140_26  \\\n",
       "index                  ...                                                 \n",
       "ERR599095              ...                                           1.0   \n",
       "ERR598955              ...                                           0.0   \n",
       "ERR315856              ...                                           1.0   \n",
       "ERR315857              ...                                           0.0   \n",
       "ERR594329              ...                                           1.0   \n",
       "\n",
       "gene_id    scf7180009409913_27144_28913_27  scf7180009409913_28976_30082_28  \\\n",
       "index                                                                         \n",
       "ERR599095                              1.0                              1.0   \n",
       "ERR598955                              0.0                              0.0   \n",
       "ERR315856                              1.0                              1.0   \n",
       "ERR315857                              0.0                              0.0   \n",
       "ERR594329                              1.0                              1.0   \n",
       "\n",
       "gene_id    scf7180009409913_30060_31295_29  scf7180009409913_31282_32319_30  \\\n",
       "index                                                                         \n",
       "ERR599095                              1.0                              1.0   \n",
       "ERR598955                              0.0                              0.0   \n",
       "ERR315856                              1.0                              1.0   \n",
       "ERR315857                              0.0                              0.0   \n",
       "ERR594329                              1.0                              1.0   \n",
       "\n",
       "gene_id    scf7180009409913_32383_33123_31  scf7180009409913_33125_33334_32  \\\n",
       "index                                                                         \n",
       "ERR599095                              1.0                              0.0   \n",
       "ERR598955                              0.0                              0.0   \n",
       "ERR315856                              1.0                              0.0   \n",
       "ERR315857                              0.0                              0.0   \n",
       "ERR594329                              1.0                              0.0   \n",
       "\n",
       "gene_id    scf7180009409913_4750_2468_4  scf7180009409913_5274_4753_5  \\\n",
       "index                                                                   \n",
       "ERR599095                           0.0                           0.0   \n",
       "ERR598955                           0.0                           0.0   \n",
       "ERR315856                           0.0                           0.0   \n",
       "ERR315857                           0.0                           0.0   \n",
       "ERR594329                           0.0                           1.0   \n",
       "\n",
       "gene_id    scf7180009409913_5681_8779_6  \n",
       "index                                    \n",
       "ERR599095                           0.0  \n",
       "ERR598955                           0.0  \n",
       "ERR315856                           0.0  \n",
       "ERR315857                           0.0  \n",
       "ERR594329                           0.0  \n",
       "\n",
       "[5 rows x 51711 columns]"
      ]
     },
     "execution_count": 57,
     "metadata": {},
     "output_type": "execute_result"
    }
   ],
   "source": [
    "def binarize_matrix(df, threshold=0.37):\n",
    "    new_df = df.copy()\n",
    "    new_df[new_df > threshold] = 1\n",
    "    new_df[new_df <= threshold] = 0\n",
    "    return new_df\n",
    "\n",
    "normalized_37 = binarize_matrix(normalized, threshold=0.37)\n",
    "normalized_37.head()"
   ]
  },
  {
   "cell_type": "code",
   "execution_count": 58,
   "metadata": {
    "collapsed": false
   },
   "outputs": [
    {
     "data": {
      "text/plain": [
       "(198, 51711)"
      ]
     },
     "execution_count": 58,
     "metadata": {},
     "output_type": "execute_result"
    }
   ],
   "source": [
    "normalized.shape"
   ]
  },
  {
   "cell_type": "code",
   "execution_count": 59,
   "metadata": {
    "collapsed": true
   },
   "outputs": [],
   "source": [
    "normalized_37.to_csv(\"GeneCoverageMatrix_Normalized037_Binary.csv\")"
   ]
  },
  {
   "cell_type": "code",
   "execution_count": null,
   "metadata": {
    "collapsed": true
   },
   "outputs": [],
   "source": []
  }
 ],
 "metadata": {
  "kernelspec": {
   "display_name": "Python 3",
   "language": "python",
   "name": "python3"
  },
  "language_info": {
   "codemirror_mode": {
    "name": "ipython",
    "version": 3
   },
   "file_extension": ".py",
   "mimetype": "text/x-python",
   "name": "python",
   "nbconvert_exporter": "python",
   "pygments_lexer": "ipython3",
   "version": "3.4.5"
  }
 },
 "nbformat": 4,
 "nbformat_minor": 2
}
