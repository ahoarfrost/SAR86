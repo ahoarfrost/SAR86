{
 "cells": [
  {
   "cell_type": "markdown",
   "metadata": {},
   "source": [
    "# get gene coverage for all the TARA runs"
   ]
  },
  {
   "cell_type": "code",
   "execution_count": 2,
   "metadata": {
    "collapsed": true
   },
   "outputs": [],
   "source": [
    "import pandas as pd"
   ]
  },
  {
   "cell_type": "code",
   "execution_count": 3,
   "metadata": {
    "collapsed": false
   },
   "outputs": [
    {
     "data": {
      "text/html": [
       "<div>\n",
       "<style>\n",
       "    .dataframe thead tr:only-child th {\n",
       "        text-align: right;\n",
       "    }\n",
       "\n",
       "    .dataframe thead th {\n",
       "        text-align: left;\n",
       "    }\n",
       "\n",
       "    .dataframe tbody tr th {\n",
       "        vertical-align: top;\n",
       "    }\n",
       "</style>\n",
       "<table border=\"1\" class=\"dataframe\">\n",
       "  <thead>\n",
       "    <tr style=\"text-align: right;\">\n",
       "      <th></th>\n",
       "      <th>run_id</th>\n",
       "      <th>tara_label</th>\n",
       "    </tr>\n",
       "  </thead>\n",
       "  <tbody>\n",
       "    <tr>\n",
       "      <th>0</th>\n",
       "      <td>ERR598993</td>\n",
       "      <td>TARA_018_SRF_0.22-1.6</td>\n",
       "    </tr>\n",
       "    <tr>\n",
       "      <th>1</th>\n",
       "      <td>ERR599140</td>\n",
       "      <td>TARA_018_SRF_0.22-1.6</td>\n",
       "    </tr>\n",
       "    <tr>\n",
       "      <th>2</th>\n",
       "      <td>ERR315859</td>\n",
       "      <td>TARA_023_DCM_0.22-1.6</td>\n",
       "    </tr>\n",
       "    <tr>\n",
       "      <th>3</th>\n",
       "      <td>ERR315860</td>\n",
       "      <td>TARA_023_DCM_0.22-1.6</td>\n",
       "    </tr>\n",
       "    <tr>\n",
       "      <th>4</th>\n",
       "      <td>ERR315858</td>\n",
       "      <td>TARA_023_SRF_0.22-1.6</td>\n",
       "    </tr>\n",
       "  </tbody>\n",
       "</table>\n",
       "</div>"
      ],
      "text/plain": [
       "      run_id             tara_label\n",
       "0  ERR598993  TARA_018_SRF_0.22-1.6\n",
       "1  ERR599140  TARA_018_SRF_0.22-1.6\n",
       "2  ERR315859  TARA_023_DCM_0.22-1.6\n",
       "3  ERR315860  TARA_023_DCM_0.22-1.6\n",
       "4  ERR315858  TARA_023_SRF_0.22-1.6"
      ]
     },
     "execution_count": 3,
     "metadata": {},
     "output_type": "execute_result"
    }
   ],
   "source": [
    "#list run ids\n",
    "run_keys = pd.read_csv(\"runs_samples_keys.csv\")\n",
    "run_keys.head()"
   ]
  },
  {
   "cell_type": "code",
   "execution_count": 4,
   "metadata": {
    "collapsed": false
   },
   "outputs": [
    {
     "name": "stdout",
     "output_type": "stream",
     "text": [
      "processing run ERR598993...\n",
      "processing run ERR599140...\n",
      "processing run ERR315859...\n",
      "processing run ERR315860...\n",
      "processing run ERR315858...\n",
      "processing run ERR315861...\n",
      "processing run ERR598951...\n",
      "processing run ERR599043...\n",
      "processing run ERR318618...\n",
      "processing run ERR318619...\n",
      "processing run ERR318620...\n",
      "processing run ERR318621...\n",
      "processing run ERR315862...\n",
      "processing run ERR315863...\n",
      "processing run ERR598969...\n",
      "processing run ERR599106...\n",
      "processing run ERR599061...\n",
      "processing run ERR599097...\n",
      "processing run ERR599041...\n",
      "processing run ERR599116...\n",
      "processing run ERR599155...\n",
      "processing run ERR599049...\n",
      "processing run ERR599134...\n",
      "processing run ERR594334...\n",
      "processing run ERR598966...\n",
      "processing run ERR599143...\n",
      "processing run ERR594312...\n",
      "processing run ERR599109...\n",
      "processing run ERR599167...\n",
      "processing run ERR594330...\n",
      "processing run ERR599102...\n",
      "processing run ERR599158...\n",
      "processing run ERR599145...\n",
      "processing run ERR594346...\n",
      "processing run ERR599037...\n",
      "processing run ERR599172...\n",
      "processing run ERR594327...\n",
      "processing run ERR599075...\n",
      "processing run ERR599141...\n",
      "processing run ERR599045...\n",
      "processing run ERR599054...\n",
      "processing run ERR594314...\n",
      "processing run ERR599019...\n",
      "processing run ERR599138...\n",
      "processing run ERR599002...\n",
      "processing run ERR599016...\n",
      "processing run ERR599098...\n",
      "processing run ERR599139...\n",
      "processing run ERR599026...\n",
      "processing run ERR594324...\n",
      "processing run ERR598972...\n",
      "processing run ERR599023...\n",
      "processing run ERR599025...\n",
      "processing run ERR599021...\n",
      "processing run ERR599164...\n",
      "processing run ERR598970...\n",
      "processing run ERR599088...\n",
      "processing run ERR599150...\n",
      "processing run ERR598982...\n",
      "processing run ERR599107...\n",
      "processing run ERR598973...\n",
      "processing run ERR599068...\n",
      "processing run ERR599173...\n",
      "processing run ERR598994...\n",
      "processing run ERR599144...\n",
      "processing run ERR594313...\n",
      "processing run ERR594325...\n",
      "processing run ERR599017...\n",
      "processing run ERR599056...\n",
      "processing run ERR599103...\n",
      "processing run ERR594294...\n",
      "processing run ERR594348...\n",
      "processing run ERR598947...\n",
      "processing run ERR599131...\n",
      "processing run ERR594302...\n",
      "processing run ERR599129...\n",
      "processing run ERR599171...\n",
      "processing run ERR599174...\n",
      "processing run ERR594318...\n",
      "processing run ERR594297...\n",
      "processing run ERR599044...\n",
      "processing run ERR599149...\n",
      "processing run ERR594299...\n",
      "processing run ERR594308...\n",
      "processing run ERR594331...\n",
      "processing run ERR599135...\n",
      "processing run ERR599165...\n",
      "processing run ERR594349...\n",
      "processing run ERR594335...\n",
      "processing run ERR599133...\n",
      "processing run ERR599137...\n",
      "processing run ERR599040...\n",
      "processing run ERR599148...\n",
      "processing run ERR594321...\n",
      "processing run ERR594298...\n",
      "processing run ERR599000...\n",
      "processing run ERR599154...\n",
      "processing run ERR594333...\n",
      "processing run ERR599010...\n",
      "processing run ERR599126...\n",
      "processing run ERR594310...\n",
      "processing run ERR594286...\n",
      "processing run ERR599046...\n",
      "processing run ERR599101...\n",
      "processing run ERR594336...\n",
      "processing run ERR594303...\n",
      "processing run ERR599124...\n",
      "processing run ERR599159...\n",
      "processing run ERR594289...\n",
      "processing run ERR599006...\n",
      "processing run ERR599022...\n",
      "processing run ERR594340...\n",
      "processing run ERR594332...\n",
      "processing run ERR599027...\n",
      "processing run ERR599122...\n",
      "processing run ERR599009...\n",
      "processing run ERR599035...\n",
      "processing run ERR598945...\n",
      "processing run ERR599059...\n",
      "processing run ERR599104...\n",
      "processing run ERR599121...\n",
      "processing run ERR599090...\n",
      "processing run ERR599176...\n",
      "processing run ERR598965...\n",
      "processing run ERR599064...\n",
      "processing run ERR598967...\n",
      "processing run ERR599042...\n",
      "processing run ERR599079...\n",
      "processing run ERR599071...\n",
      "processing run ERR599085...\n",
      "processing run ERR599093...\n",
      "processing run ERR599120...\n",
      "processing run ERR599081...\n",
      "processing run ERR599113...\n",
      "processing run ERR598946...\n",
      "processing run ERR598953...\n",
      "processing run ERR598981...\n",
      "processing run ERR599063...\n",
      "processing run ERR599163...\n",
      "processing run ERR599169...\n",
      "processing run ERR598962...\n",
      "processing run ERR599007...\n",
      "processing run ERR599168...\n",
      "processing run ERR599055...\n",
      "processing run ERR599128...\n",
      "processing run ERR599132...\n",
      "processing run ERR598943...\n",
      "processing run ERR598978...\n",
      "processing run ERR599020...\n",
      "processing run ERR599039...\n",
      "processing run ERR598961...\n",
      "processing run ERR599086...\n",
      "processing run ERR599077...\n",
      "processing run ERR598957...\n",
      "processing run ERR599072...\n",
      "processing run ERR598954...\n",
      "processing run ERR594284...\n",
      "processing run ERR598948...\n",
      "processing run ERR594304...\n",
      "processing run ERR594301...\n",
      "processing run ERR594309...\n",
      "processing run ERR598999...\n",
      "processing run ERR599033...\n",
      "processing run ERR599083...\n",
      "processing run ERR599096...\n",
      "processing run ERR594305...\n",
      "processing run ERR594322...\n",
      "processing run ERR594293...\n",
      "processing run ERR598956...\n",
      "processing run ERR598998...\n",
      "processing run ERR599117...\n",
      "processing run ERR599157...\n",
      "processing run ERR594337...\n",
      "processing run ERR594319...\n",
      "processing run ERR599160...\n",
      "processing run ERR594326...\n",
      "processing run ERR594347...\n",
      "processing run ERR594285...\n",
      "processing run ERR598988...\n",
      "processing run ERR599084...\n",
      "processing run ERR599089...\n",
      "processing run ERR599161...\n",
      "processing run ERR594343...\n",
      "processing run ERR594338...\n",
      "processing run ERR594287...\n",
      "processing run ERR599036...\n",
      "processing run ERR599069...\n",
      "processing run ERR599080...\n",
      "processing run ERR599151...\n",
      "processing run ERR594311...\n",
      "processing run ERR594296...\n",
      "processing run ERR594341...\n",
      "processing run ERR599156...\n",
      "processing run ERR594342...\n",
      "processing run ERR594300...\n",
      "processing run ERR594344...\n",
      "processing run ERR599066...\n",
      "processing run ERR599091...\n",
      "processing run ERR599114...\n",
      "processing run ERR599119...\n",
      "processing run ERR594339...\n",
      "processing run ERR594323...\n",
      "processing run ERR599032...\n",
      "processing run ERR599038...\n",
      "processing run ERR598995...\n",
      "processing run ERR599142...\n",
      "processing run ERR598942...\n",
      "processing run ERR599052...\n",
      "processing run ERR598987...\n",
      "processing run ERR599070...\n",
      "processing run ERR599099...\n",
      "processing run ERR599147...\n",
      "processing run ERR599015...\n",
      "processing run ERR599076...\n",
      "processing run ERR599127...\n",
      "processing run ERR599152...\n",
      "processing run ERR598989...\n",
      "processing run ERR599162...\n",
      "processing run ERR599029...\n",
      "processing run ERR599100...\n",
      "processing run ERR598985...\n",
      "processing run ERR599136...\n",
      "processing run ERR599166...\n",
      "processing run ERR598983...\n",
      "processing run ERR599123...\n",
      "processing run ERR598958...\n",
      "processing run ERR598964...\n",
      "processing run ERR598963...\n",
      "processing run ERR598996...\n",
      "processing run ERR599170...\n",
      "processing run ERR598986...\n",
      "processing run ERR598976...\n",
      "processing run ERR598944...\n",
      "processing run ERR599001...\n",
      "processing run ERR599078...\n"
     ]
    },
    {
     "data": {
      "text/html": [
       "<div>\n",
       "<style>\n",
       "    .dataframe thead tr:only-child th {\n",
       "        text-align: right;\n",
       "    }\n",
       "\n",
       "    .dataframe thead th {\n",
       "        text-align: left;\n",
       "    }\n",
       "\n",
       "    .dataframe tbody tr th {\n",
       "        vertical-align: top;\n",
       "    }\n",
       "</style>\n",
       "<table border=\"1\" class=\"dataframe\">\n",
       "  <thead>\n",
       "    <tr style=\"text-align: right;\">\n",
       "      <th>gene_id</th>\n",
       "      <th>fig|1123864.3.peg.102|VBISARClu237429_0102|</th>\n",
       "      <th>fig|1123864.3.peg.103|VBISARClu237429_0103|</th>\n",
       "      <th>fig|1123864.3.peg.105|VBISARClu237429_0105|</th>\n",
       "      <th>fig|1123864.3.peg.106|VBISARClu237429_0106|</th>\n",
       "      <th>fig|1123864.3.peg.108|VBISARClu237429_0108|</th>\n",
       "      <th>fig|1123864.3.peg.109|VBISARClu237429_0109|</th>\n",
       "      <th>fig|1123864.3.peg.111|VBISARClu237429_0111|</th>\n",
       "      <th>fig|1123864.3.peg.112|VBISARClu237429_0112|</th>\n",
       "      <th>fig|1123864.3.peg.115|VBISARClu237429_0115|</th>\n",
       "      <th>fig|1123864.3.peg.116|VBISARClu237429_0116|</th>\n",
       "      <th>...</th>\n",
       "      <th>scf7180009409913_26157_27140_26</th>\n",
       "      <th>scf7180009409913_27144_28913_27</th>\n",
       "      <th>scf7180009409913_28976_30082_28</th>\n",
       "      <th>scf7180009409913_30060_31295_29</th>\n",
       "      <th>scf7180009409913_31282_32319_30</th>\n",
       "      <th>scf7180009409913_32383_33123_31</th>\n",
       "      <th>scf7180009409913_33125_33334_32</th>\n",
       "      <th>scf7180009409913_4750_2468_4</th>\n",
       "      <th>scf7180009409913_5274_4753_5</th>\n",
       "      <th>scf7180009409913_5681_8779_6</th>\n",
       "    </tr>\n",
       "    <tr>\n",
       "      <th>index</th>\n",
       "      <th></th>\n",
       "      <th></th>\n",
       "      <th></th>\n",
       "      <th></th>\n",
       "      <th></th>\n",
       "      <th></th>\n",
       "      <th></th>\n",
       "      <th></th>\n",
       "      <th></th>\n",
       "      <th></th>\n",
       "      <th></th>\n",
       "      <th></th>\n",
       "      <th></th>\n",
       "      <th></th>\n",
       "      <th></th>\n",
       "      <th></th>\n",
       "      <th></th>\n",
       "      <th></th>\n",
       "      <th></th>\n",
       "      <th></th>\n",
       "      <th></th>\n",
       "    </tr>\n",
       "  </thead>\n",
       "  <tbody>\n",
       "    <tr>\n",
       "      <th>ERR598993</th>\n",
       "      <td>0.0</td>\n",
       "      <td>0.0</td>\n",
       "      <td>0.0</td>\n",
       "      <td>0.0</td>\n",
       "      <td>0.0</td>\n",
       "      <td>0.0</td>\n",
       "      <td>0.0</td>\n",
       "      <td>0.0</td>\n",
       "      <td>0.0</td>\n",
       "      <td>0.0</td>\n",
       "      <td>...</td>\n",
       "      <td>2.822154</td>\n",
       "      <td>1.450282</td>\n",
       "      <td>0.708220</td>\n",
       "      <td>1.809871</td>\n",
       "      <td>2.198459</td>\n",
       "      <td>2.862348</td>\n",
       "      <td>0.0</td>\n",
       "      <td>0.086290</td>\n",
       "      <td>0.386973</td>\n",
       "      <td>0.000000</td>\n",
       "    </tr>\n",
       "    <tr>\n",
       "      <th>ERR599140</th>\n",
       "      <td>0.0</td>\n",
       "      <td>0.0</td>\n",
       "      <td>0.0</td>\n",
       "      <td>0.0</td>\n",
       "      <td>0.0</td>\n",
       "      <td>0.0</td>\n",
       "      <td>0.0</td>\n",
       "      <td>0.0</td>\n",
       "      <td>0.0</td>\n",
       "      <td>0.0</td>\n",
       "      <td>...</td>\n",
       "      <td>0.091463</td>\n",
       "      <td>0.209040</td>\n",
       "      <td>0.036134</td>\n",
       "      <td>0.567152</td>\n",
       "      <td>0.327553</td>\n",
       "      <td>0.000000</td>\n",
       "      <td>0.0</td>\n",
       "      <td>0.149803</td>\n",
       "      <td>0.000000</td>\n",
       "      <td>0.000000</td>\n",
       "    </tr>\n",
       "    <tr>\n",
       "      <th>ERR315859</th>\n",
       "      <td>0.0</td>\n",
       "      <td>0.0</td>\n",
       "      <td>0.0</td>\n",
       "      <td>0.0</td>\n",
       "      <td>0.0</td>\n",
       "      <td>0.0</td>\n",
       "      <td>0.0</td>\n",
       "      <td>0.0</td>\n",
       "      <td>0.0</td>\n",
       "      <td>0.0</td>\n",
       "      <td>...</td>\n",
       "      <td>9.934959</td>\n",
       "      <td>9.546893</td>\n",
       "      <td>2.859079</td>\n",
       "      <td>10.380259</td>\n",
       "      <td>10.408478</td>\n",
       "      <td>4.033738</td>\n",
       "      <td>0.0</td>\n",
       "      <td>1.509855</td>\n",
       "      <td>2.544061</td>\n",
       "      <td>0.024524</td>\n",
       "    </tr>\n",
       "    <tr>\n",
       "      <th>ERR315860</th>\n",
       "      <td>0.0</td>\n",
       "      <td>0.0</td>\n",
       "      <td>0.0</td>\n",
       "      <td>0.0</td>\n",
       "      <td>0.0</td>\n",
       "      <td>0.0</td>\n",
       "      <td>0.0</td>\n",
       "      <td>0.0</td>\n",
       "      <td>0.0</td>\n",
       "      <td>0.0</td>\n",
       "      <td>...</td>\n",
       "      <td>9.479675</td>\n",
       "      <td>9.985311</td>\n",
       "      <td>2.558266</td>\n",
       "      <td>10.725728</td>\n",
       "      <td>10.827553</td>\n",
       "      <td>3.801619</td>\n",
       "      <td>0.0</td>\n",
       "      <td>1.275953</td>\n",
       "      <td>1.844828</td>\n",
       "      <td>0.226847</td>\n",
       "    </tr>\n",
       "    <tr>\n",
       "      <th>ERR315858</th>\n",
       "      <td>0.0</td>\n",
       "      <td>0.0</td>\n",
       "      <td>0.0</td>\n",
       "      <td>0.0</td>\n",
       "      <td>0.0</td>\n",
       "      <td>0.0</td>\n",
       "      <td>0.0</td>\n",
       "      <td>0.0</td>\n",
       "      <td>0.0</td>\n",
       "      <td>0.0</td>\n",
       "      <td>...</td>\n",
       "      <td>2.816057</td>\n",
       "      <td>2.340678</td>\n",
       "      <td>2.094851</td>\n",
       "      <td>4.508091</td>\n",
       "      <td>4.132948</td>\n",
       "      <td>0.582996</td>\n",
       "      <td>0.0</td>\n",
       "      <td>0.544021</td>\n",
       "      <td>0.413793</td>\n",
       "      <td>0.260407</td>\n",
       "    </tr>\n",
       "  </tbody>\n",
       "</table>\n",
       "<p>5 rows × 51711 columns</p>\n",
       "</div>"
      ],
      "text/plain": [
       "gene_id    fig|1123864.3.peg.102|VBISARClu237429_0102|  \\\n",
       "index                                                    \n",
       "ERR598993                                          0.0   \n",
       "ERR599140                                          0.0   \n",
       "ERR315859                                          0.0   \n",
       "ERR315860                                          0.0   \n",
       "ERR315858                                          0.0   \n",
       "\n",
       "gene_id    fig|1123864.3.peg.103|VBISARClu237429_0103|  \\\n",
       "index                                                    \n",
       "ERR598993                                          0.0   \n",
       "ERR599140                                          0.0   \n",
       "ERR315859                                          0.0   \n",
       "ERR315860                                          0.0   \n",
       "ERR315858                                          0.0   \n",
       "\n",
       "gene_id    fig|1123864.3.peg.105|VBISARClu237429_0105|  \\\n",
       "index                                                    \n",
       "ERR598993                                          0.0   \n",
       "ERR599140                                          0.0   \n",
       "ERR315859                                          0.0   \n",
       "ERR315860                                          0.0   \n",
       "ERR315858                                          0.0   \n",
       "\n",
       "gene_id    fig|1123864.3.peg.106|VBISARClu237429_0106|  \\\n",
       "index                                                    \n",
       "ERR598993                                          0.0   \n",
       "ERR599140                                          0.0   \n",
       "ERR315859                                          0.0   \n",
       "ERR315860                                          0.0   \n",
       "ERR315858                                          0.0   \n",
       "\n",
       "gene_id    fig|1123864.3.peg.108|VBISARClu237429_0108|  \\\n",
       "index                                                    \n",
       "ERR598993                                          0.0   \n",
       "ERR599140                                          0.0   \n",
       "ERR315859                                          0.0   \n",
       "ERR315860                                          0.0   \n",
       "ERR315858                                          0.0   \n",
       "\n",
       "gene_id    fig|1123864.3.peg.109|VBISARClu237429_0109|  \\\n",
       "index                                                    \n",
       "ERR598993                                          0.0   \n",
       "ERR599140                                          0.0   \n",
       "ERR315859                                          0.0   \n",
       "ERR315860                                          0.0   \n",
       "ERR315858                                          0.0   \n",
       "\n",
       "gene_id    fig|1123864.3.peg.111|VBISARClu237429_0111|  \\\n",
       "index                                                    \n",
       "ERR598993                                          0.0   \n",
       "ERR599140                                          0.0   \n",
       "ERR315859                                          0.0   \n",
       "ERR315860                                          0.0   \n",
       "ERR315858                                          0.0   \n",
       "\n",
       "gene_id    fig|1123864.3.peg.112|VBISARClu237429_0112|  \\\n",
       "index                                                    \n",
       "ERR598993                                          0.0   \n",
       "ERR599140                                          0.0   \n",
       "ERR315859                                          0.0   \n",
       "ERR315860                                          0.0   \n",
       "ERR315858                                          0.0   \n",
       "\n",
       "gene_id    fig|1123864.3.peg.115|VBISARClu237429_0115|  \\\n",
       "index                                                    \n",
       "ERR598993                                          0.0   \n",
       "ERR599140                                          0.0   \n",
       "ERR315859                                          0.0   \n",
       "ERR315860                                          0.0   \n",
       "ERR315858                                          0.0   \n",
       "\n",
       "gene_id    fig|1123864.3.peg.116|VBISARClu237429_0116|  \\\n",
       "index                                                    \n",
       "ERR598993                                          0.0   \n",
       "ERR599140                                          0.0   \n",
       "ERR315859                                          0.0   \n",
       "ERR315860                                          0.0   \n",
       "ERR315858                                          0.0   \n",
       "\n",
       "gene_id                ...               scf7180009409913_26157_27140_26  \\\n",
       "index                  ...                                                 \n",
       "ERR598993              ...                                      2.822154   \n",
       "ERR599140              ...                                      0.091463   \n",
       "ERR315859              ...                                      9.934959   \n",
       "ERR315860              ...                                      9.479675   \n",
       "ERR315858              ...                                      2.816057   \n",
       "\n",
       "gene_id    scf7180009409913_27144_28913_27  scf7180009409913_28976_30082_28  \\\n",
       "index                                                                         \n",
       "ERR598993                         1.450282                         0.708220   \n",
       "ERR599140                         0.209040                         0.036134   \n",
       "ERR315859                         9.546893                         2.859079   \n",
       "ERR315860                         9.985311                         2.558266   \n",
       "ERR315858                         2.340678                         2.094851   \n",
       "\n",
       "gene_id    scf7180009409913_30060_31295_29  scf7180009409913_31282_32319_30  \\\n",
       "index                                                                         \n",
       "ERR598993                         1.809871                         2.198459   \n",
       "ERR599140                         0.567152                         0.327553   \n",
       "ERR315859                        10.380259                        10.408478   \n",
       "ERR315860                        10.725728                        10.827553   \n",
       "ERR315858                         4.508091                         4.132948   \n",
       "\n",
       "gene_id    scf7180009409913_32383_33123_31  scf7180009409913_33125_33334_32  \\\n",
       "index                                                                         \n",
       "ERR598993                         2.862348                              0.0   \n",
       "ERR599140                         0.000000                              0.0   \n",
       "ERR315859                         4.033738                              0.0   \n",
       "ERR315860                         3.801619                              0.0   \n",
       "ERR315858                         0.582996                              0.0   \n",
       "\n",
       "gene_id    scf7180009409913_4750_2468_4  scf7180009409913_5274_4753_5  \\\n",
       "index                                                                   \n",
       "ERR598993                      0.086290                      0.386973   \n",
       "ERR599140                      0.149803                      0.000000   \n",
       "ERR315859                      1.509855                      2.544061   \n",
       "ERR315860                      1.275953                      1.844828   \n",
       "ERR315858                      0.544021                      0.413793   \n",
       "\n",
       "gene_id    scf7180009409913_5681_8779_6  \n",
       "index                                    \n",
       "ERR598993                      0.000000  \n",
       "ERR599140                      0.000000  \n",
       "ERR315859                      0.024524  \n",
       "ERR315860                      0.226847  \n",
       "ERR315858                      0.260407  \n",
       "\n",
       "[5 rows x 51711 columns]"
      ]
     },
     "execution_count": 4,
     "metadata": {},
     "output_type": "execute_result"
    }
   ],
   "source": [
    "coverage = pd.DataFrame()\n",
    "\n",
    "for run_id in run_keys['run_id']:\n",
    "    print \"processing run %s...\" % run_id\n",
    "    #read in genes file\n",
    "    genes_path = '~/Projects/SAR86/satellite_models/get_gene_data/sar86_genes/'\n",
    "    file_name = run_id+'.SAR86.genes'\n",
    "    cnv = pd.read_csv(genes_path+file_name,delimiter='\\t')\n",
    "    #drop copy_number column \n",
    "    cnv = cnv.drop('copy_number', axis=1)\n",
    "    #pivot dataframe\n",
    "    cnv['index'] = run_id \n",
    "    pivoted = cnv.pivot(index='index',columns='gene_id',values='coverage')\n",
    "    #append to copy_number dataframe\n",
    "    if len(coverage)==0:\n",
    "        coverage = pivoted\n",
    "    else:\n",
    "        coverage = coverage.append(pivoted)\n",
    "\n",
    "coverage.head()"
   ]
  },
  {
   "cell_type": "code",
   "execution_count": 5,
   "metadata": {
    "collapsed": false
   },
   "outputs": [
    {
     "data": {
      "text/plain": [
       "(235, 51711)"
      ]
     },
     "execution_count": 5,
     "metadata": {},
     "output_type": "execute_result"
    }
   ],
   "source": [
    "coverage.shape"
   ]
  },
  {
   "cell_type": "code",
   "execution_count": 11,
   "metadata": {
    "collapsed": true
   },
   "outputs": [],
   "source": [
    "coverage.to_csv('GeneCoverageMatrix.csv',index_label=\"run_id\")"
   ]
  },
  {
   "cell_type": "markdown",
   "metadata": {},
   "source": [
    "# normalize coverage to scale to 1 for each TARA site\n",
    "\n",
    "(divide each row by the row's mean)"
   ]
  },
  {
   "cell_type": "code",
   "execution_count": 6,
   "metadata": {
    "collapsed": false
   },
   "outputs": [],
   "source": [
    "def scale_rows_to_one(df):\n",
    "    #mean of each row if axis is 1, mean of each column if axis is 0\n",
    "    rowmeans = df.mean(axis=1, skipna=True)\n",
    "    #divide each row by its mean\n",
    "    norm = df.div(rowmeans, axis=0)\n",
    "    return norm"
   ]
  },
  {
   "cell_type": "code",
   "execution_count": 7,
   "metadata": {
    "collapsed": false
   },
   "outputs": [
    {
     "data": {
      "text/html": [
       "<div>\n",
       "<style>\n",
       "    .dataframe thead tr:only-child th {\n",
       "        text-align: right;\n",
       "    }\n",
       "\n",
       "    .dataframe thead th {\n",
       "        text-align: left;\n",
       "    }\n",
       "\n",
       "    .dataframe tbody tr th {\n",
       "        vertical-align: top;\n",
       "    }\n",
       "</style>\n",
       "<table border=\"1\" class=\"dataframe\">\n",
       "  <thead>\n",
       "    <tr style=\"text-align: right;\">\n",
       "      <th>gene_id</th>\n",
       "      <th>fig|1123864.3.peg.102|VBISARClu237429_0102|</th>\n",
       "      <th>fig|1123864.3.peg.103|VBISARClu237429_0103|</th>\n",
       "      <th>fig|1123864.3.peg.105|VBISARClu237429_0105|</th>\n",
       "      <th>fig|1123864.3.peg.106|VBISARClu237429_0106|</th>\n",
       "      <th>fig|1123864.3.peg.108|VBISARClu237429_0108|</th>\n",
       "      <th>fig|1123864.3.peg.109|VBISARClu237429_0109|</th>\n",
       "      <th>fig|1123864.3.peg.111|VBISARClu237429_0111|</th>\n",
       "      <th>fig|1123864.3.peg.112|VBISARClu237429_0112|</th>\n",
       "      <th>fig|1123864.3.peg.115|VBISARClu237429_0115|</th>\n",
       "      <th>fig|1123864.3.peg.116|VBISARClu237429_0116|</th>\n",
       "      <th>...</th>\n",
       "      <th>scf7180009409913_26157_27140_26</th>\n",
       "      <th>scf7180009409913_27144_28913_27</th>\n",
       "      <th>scf7180009409913_28976_30082_28</th>\n",
       "      <th>scf7180009409913_30060_31295_29</th>\n",
       "      <th>scf7180009409913_31282_32319_30</th>\n",
       "      <th>scf7180009409913_32383_33123_31</th>\n",
       "      <th>scf7180009409913_33125_33334_32</th>\n",
       "      <th>scf7180009409913_4750_2468_4</th>\n",
       "      <th>scf7180009409913_5274_4753_5</th>\n",
       "      <th>scf7180009409913_5681_8779_6</th>\n",
       "    </tr>\n",
       "    <tr>\n",
       "      <th>index</th>\n",
       "      <th></th>\n",
       "      <th></th>\n",
       "      <th></th>\n",
       "      <th></th>\n",
       "      <th></th>\n",
       "      <th></th>\n",
       "      <th></th>\n",
       "      <th></th>\n",
       "      <th></th>\n",
       "      <th></th>\n",
       "      <th></th>\n",
       "      <th></th>\n",
       "      <th></th>\n",
       "      <th></th>\n",
       "      <th></th>\n",
       "      <th></th>\n",
       "      <th></th>\n",
       "      <th></th>\n",
       "      <th></th>\n",
       "      <th></th>\n",
       "      <th></th>\n",
       "    </tr>\n",
       "  </thead>\n",
       "  <tbody>\n",
       "    <tr>\n",
       "      <th>ERR598993</th>\n",
       "      <td>0.0</td>\n",
       "      <td>0.0</td>\n",
       "      <td>0.0</td>\n",
       "      <td>0.0</td>\n",
       "      <td>0.0</td>\n",
       "      <td>0.0</td>\n",
       "      <td>0.0</td>\n",
       "      <td>0.0</td>\n",
       "      <td>0.0</td>\n",
       "      <td>0.0</td>\n",
       "      <td>...</td>\n",
       "      <td>0.301286</td>\n",
       "      <td>0.154828</td>\n",
       "      <td>0.075608</td>\n",
       "      <td>0.193217</td>\n",
       "      <td>0.234702</td>\n",
       "      <td>0.305577</td>\n",
       "      <td>0.0</td>\n",
       "      <td>0.009212</td>\n",
       "      <td>0.041312</td>\n",
       "      <td>0.000000</td>\n",
       "    </tr>\n",
       "    <tr>\n",
       "      <th>ERR599140</th>\n",
       "      <td>0.0</td>\n",
       "      <td>0.0</td>\n",
       "      <td>0.0</td>\n",
       "      <td>0.0</td>\n",
       "      <td>0.0</td>\n",
       "      <td>0.0</td>\n",
       "      <td>0.0</td>\n",
       "      <td>0.0</td>\n",
       "      <td>0.0</td>\n",
       "      <td>0.0</td>\n",
       "      <td>...</td>\n",
       "      <td>0.065191</td>\n",
       "      <td>0.148994</td>\n",
       "      <td>0.025755</td>\n",
       "      <td>0.404241</td>\n",
       "      <td>0.233466</td>\n",
       "      <td>0.000000</td>\n",
       "      <td>0.0</td>\n",
       "      <td>0.106773</td>\n",
       "      <td>0.000000</td>\n",
       "      <td>0.000000</td>\n",
       "    </tr>\n",
       "    <tr>\n",
       "      <th>ERR315859</th>\n",
       "      <td>0.0</td>\n",
       "      <td>0.0</td>\n",
       "      <td>0.0</td>\n",
       "      <td>0.0</td>\n",
       "      <td>0.0</td>\n",
       "      <td>0.0</td>\n",
       "      <td>0.0</td>\n",
       "      <td>0.0</td>\n",
       "      <td>0.0</td>\n",
       "      <td>0.0</td>\n",
       "      <td>...</td>\n",
       "      <td>1.997034</td>\n",
       "      <td>1.919028</td>\n",
       "      <td>0.574706</td>\n",
       "      <td>2.086544</td>\n",
       "      <td>2.092216</td>\n",
       "      <td>0.810825</td>\n",
       "      <td>0.0</td>\n",
       "      <td>0.303497</td>\n",
       "      <td>0.511384</td>\n",
       "      <td>0.004930</td>\n",
       "    </tr>\n",
       "    <tr>\n",
       "      <th>ERR315860</th>\n",
       "      <td>0.0</td>\n",
       "      <td>0.0</td>\n",
       "      <td>0.0</td>\n",
       "      <td>0.0</td>\n",
       "      <td>0.0</td>\n",
       "      <td>0.0</td>\n",
       "      <td>0.0</td>\n",
       "      <td>0.0</td>\n",
       "      <td>0.0</td>\n",
       "      <td>0.0</td>\n",
       "      <td>...</td>\n",
       "      <td>1.946510</td>\n",
       "      <td>2.050334</td>\n",
       "      <td>0.525302</td>\n",
       "      <td>2.202368</td>\n",
       "      <td>2.223276</td>\n",
       "      <td>0.780606</td>\n",
       "      <td>0.0</td>\n",
       "      <td>0.261998</td>\n",
       "      <td>0.378808</td>\n",
       "      <td>0.046580</td>\n",
       "    </tr>\n",
       "    <tr>\n",
       "      <th>ERR315858</th>\n",
       "      <td>0.0</td>\n",
       "      <td>0.0</td>\n",
       "      <td>0.0</td>\n",
       "      <td>0.0</td>\n",
       "      <td>0.0</td>\n",
       "      <td>0.0</td>\n",
       "      <td>0.0</td>\n",
       "      <td>0.0</td>\n",
       "      <td>0.0</td>\n",
       "      <td>0.0</td>\n",
       "      <td>...</td>\n",
       "      <td>0.875441</td>\n",
       "      <td>0.727658</td>\n",
       "      <td>0.651237</td>\n",
       "      <td>1.401452</td>\n",
       "      <td>1.284830</td>\n",
       "      <td>0.181239</td>\n",
       "      <td>0.0</td>\n",
       "      <td>0.169122</td>\n",
       "      <td>0.128638</td>\n",
       "      <td>0.080954</td>\n",
       "    </tr>\n",
       "  </tbody>\n",
       "</table>\n",
       "<p>5 rows × 51711 columns</p>\n",
       "</div>"
      ],
      "text/plain": [
       "gene_id    fig|1123864.3.peg.102|VBISARClu237429_0102|  \\\n",
       "index                                                    \n",
       "ERR598993                                          0.0   \n",
       "ERR599140                                          0.0   \n",
       "ERR315859                                          0.0   \n",
       "ERR315860                                          0.0   \n",
       "ERR315858                                          0.0   \n",
       "\n",
       "gene_id    fig|1123864.3.peg.103|VBISARClu237429_0103|  \\\n",
       "index                                                    \n",
       "ERR598993                                          0.0   \n",
       "ERR599140                                          0.0   \n",
       "ERR315859                                          0.0   \n",
       "ERR315860                                          0.0   \n",
       "ERR315858                                          0.0   \n",
       "\n",
       "gene_id    fig|1123864.3.peg.105|VBISARClu237429_0105|  \\\n",
       "index                                                    \n",
       "ERR598993                                          0.0   \n",
       "ERR599140                                          0.0   \n",
       "ERR315859                                          0.0   \n",
       "ERR315860                                          0.0   \n",
       "ERR315858                                          0.0   \n",
       "\n",
       "gene_id    fig|1123864.3.peg.106|VBISARClu237429_0106|  \\\n",
       "index                                                    \n",
       "ERR598993                                          0.0   \n",
       "ERR599140                                          0.0   \n",
       "ERR315859                                          0.0   \n",
       "ERR315860                                          0.0   \n",
       "ERR315858                                          0.0   \n",
       "\n",
       "gene_id    fig|1123864.3.peg.108|VBISARClu237429_0108|  \\\n",
       "index                                                    \n",
       "ERR598993                                          0.0   \n",
       "ERR599140                                          0.0   \n",
       "ERR315859                                          0.0   \n",
       "ERR315860                                          0.0   \n",
       "ERR315858                                          0.0   \n",
       "\n",
       "gene_id    fig|1123864.3.peg.109|VBISARClu237429_0109|  \\\n",
       "index                                                    \n",
       "ERR598993                                          0.0   \n",
       "ERR599140                                          0.0   \n",
       "ERR315859                                          0.0   \n",
       "ERR315860                                          0.0   \n",
       "ERR315858                                          0.0   \n",
       "\n",
       "gene_id    fig|1123864.3.peg.111|VBISARClu237429_0111|  \\\n",
       "index                                                    \n",
       "ERR598993                                          0.0   \n",
       "ERR599140                                          0.0   \n",
       "ERR315859                                          0.0   \n",
       "ERR315860                                          0.0   \n",
       "ERR315858                                          0.0   \n",
       "\n",
       "gene_id    fig|1123864.3.peg.112|VBISARClu237429_0112|  \\\n",
       "index                                                    \n",
       "ERR598993                                          0.0   \n",
       "ERR599140                                          0.0   \n",
       "ERR315859                                          0.0   \n",
       "ERR315860                                          0.0   \n",
       "ERR315858                                          0.0   \n",
       "\n",
       "gene_id    fig|1123864.3.peg.115|VBISARClu237429_0115|  \\\n",
       "index                                                    \n",
       "ERR598993                                          0.0   \n",
       "ERR599140                                          0.0   \n",
       "ERR315859                                          0.0   \n",
       "ERR315860                                          0.0   \n",
       "ERR315858                                          0.0   \n",
       "\n",
       "gene_id    fig|1123864.3.peg.116|VBISARClu237429_0116|  \\\n",
       "index                                                    \n",
       "ERR598993                                          0.0   \n",
       "ERR599140                                          0.0   \n",
       "ERR315859                                          0.0   \n",
       "ERR315860                                          0.0   \n",
       "ERR315858                                          0.0   \n",
       "\n",
       "gene_id                ...               scf7180009409913_26157_27140_26  \\\n",
       "index                  ...                                                 \n",
       "ERR598993              ...                                      0.301286   \n",
       "ERR599140              ...                                      0.065191   \n",
       "ERR315859              ...                                      1.997034   \n",
       "ERR315860              ...                                      1.946510   \n",
       "ERR315858              ...                                      0.875441   \n",
       "\n",
       "gene_id    scf7180009409913_27144_28913_27  scf7180009409913_28976_30082_28  \\\n",
       "index                                                                         \n",
       "ERR598993                         0.154828                         0.075608   \n",
       "ERR599140                         0.148994                         0.025755   \n",
       "ERR315859                         1.919028                         0.574706   \n",
       "ERR315860                         2.050334                         0.525302   \n",
       "ERR315858                         0.727658                         0.651237   \n",
       "\n",
       "gene_id    scf7180009409913_30060_31295_29  scf7180009409913_31282_32319_30  \\\n",
       "index                                                                         \n",
       "ERR598993                         0.193217                         0.234702   \n",
       "ERR599140                         0.404241                         0.233466   \n",
       "ERR315859                         2.086544                         2.092216   \n",
       "ERR315860                         2.202368                         2.223276   \n",
       "ERR315858                         1.401452                         1.284830   \n",
       "\n",
       "gene_id    scf7180009409913_32383_33123_31  scf7180009409913_33125_33334_32  \\\n",
       "index                                                                         \n",
       "ERR598993                         0.305577                              0.0   \n",
       "ERR599140                         0.000000                              0.0   \n",
       "ERR315859                         0.810825                              0.0   \n",
       "ERR315860                         0.780606                              0.0   \n",
       "ERR315858                         0.181239                              0.0   \n",
       "\n",
       "gene_id    scf7180009409913_4750_2468_4  scf7180009409913_5274_4753_5  \\\n",
       "index                                                                   \n",
       "ERR598993                      0.009212                      0.041312   \n",
       "ERR599140                      0.106773                      0.000000   \n",
       "ERR315859                      0.303497                      0.511384   \n",
       "ERR315860                      0.261998                      0.378808   \n",
       "ERR315858                      0.169122                      0.128638   \n",
       "\n",
       "gene_id    scf7180009409913_5681_8779_6  \n",
       "index                                    \n",
       "ERR598993                      0.000000  \n",
       "ERR599140                      0.000000  \n",
       "ERR315859                      0.004930  \n",
       "ERR315860                      0.046580  \n",
       "ERR315858                      0.080954  \n",
       "\n",
       "[5 rows x 51711 columns]"
      ]
     },
     "execution_count": 7,
     "metadata": {},
     "output_type": "execute_result"
    }
   ],
   "source": [
    "normalized = scale_rows_to_one(df=coverage)\n",
    "normalized.head()"
   ]
  },
  {
   "cell_type": "code",
   "execution_count": 8,
   "metadata": {
    "collapsed": true
   },
   "outputs": [],
   "source": [
    "normalized.to_csv(\"GeneCoverageMatrix_Normalized.csv\")"
   ]
  },
  {
   "cell_type": "markdown",
   "metadata": {},
   "source": [
    "### make some histograms of per-sample gene depth"
   ]
  },
  {
   "cell_type": "code",
   "execution_count": 10,
   "metadata": {
    "collapsed": true
   },
   "outputs": [],
   "source": [
    "import matplotlib.pyplot as plt\n",
    "%matplotlib inline"
   ]
  },
  {
   "cell_type": "code",
   "execution_count": 106,
   "metadata": {
    "collapsed": false
   },
   "outputs": [
    {
     "data": {
      "text/plain": [
       "(array([ 526.,  506.,  460.,  408.,  401.,  511.,  478.,  403.,  206.,\n",
       "         145.,  152.,  107.,   90.,   79.,   95.,   68.,   89.,   98.,\n",
       "         106.,  120.,  147.,  151.,  167.,  199.,  216.,  221.,  193.,\n",
       "         186.,  156.,  104.,   80.,   59.,   47.,   37.,   39.,   26.,\n",
       "          19.,   27.,   15.,   14.,   14.,    5.,    7.,    5.,    6.,\n",
       "           4.,    1.,    2.,    1.,    5.]),\n",
       " array([  1.5 ,   1.87,   2.24,   2.61,   2.98,   3.35,   3.72,   4.09,\n",
       "          4.46,   4.83,   5.2 ,   5.57,   5.94,   6.31,   6.68,   7.05,\n",
       "          7.42,   7.79,   8.16,   8.53,   8.9 ,   9.27,   9.64,  10.01,\n",
       "         10.38,  10.75,  11.12,  11.49,  11.86,  12.23,  12.6 ,  12.97,\n",
       "         13.34,  13.71,  14.08,  14.45,  14.82,  15.19,  15.56,  15.93,\n",
       "         16.3 ,  16.67,  17.04,  17.41,  17.78,  18.15,  18.52,  18.89,\n",
       "         19.26,  19.63,  20.  ]),\n",
       " <a list of 50 Patch objects>)"
      ]
     },
     "execution_count": 106,
     "metadata": {},
     "output_type": "execute_result"
    },
    {
     "data": {
      "image/png": "[encoded data removed]",
      "text/plain": [
       "<matplotlib.figure.Figure at 0x125f39cd0>"
      ]
     },
     "metadata": {},
     "output_type": "display_data"
    }
   ],
   "source": [
    "plt.hist(normalized.loc['ERR598993',:], bins=50, range=(1.5,20))"
   ]
  },
  {
   "cell_type": "code",
   "execution_count": 81,
   "metadata": {
    "collapsed": false
   },
   "outputs": [
    {
     "data": {
      "text/html": [
       "<div>\n",
       "<style>\n",
       "    .dataframe thead tr:only-child th {\n",
       "        text-align: right;\n",
       "    }\n",
       "\n",
       "    .dataframe thead th {\n",
       "        text-align: left;\n",
       "    }\n",
       "\n",
       "    .dataframe tbody tr th {\n",
       "        vertical-align: top;\n",
       "    }\n",
       "</style>\n",
       "<table border=\"1\" class=\"dataframe\">\n",
       "  <thead>\n",
       "    <tr style=\"text-align: right;\">\n",
       "      <th></th>\n",
       "      <th>run_id</th>\n",
       "      <th>tara_label</th>\n",
       "    </tr>\n",
       "  </thead>\n",
       "  <tbody>\n",
       "    <tr>\n",
       "      <th>1</th>\n",
       "      <td>ERR599140</td>\n",
       "      <td>TARA_018_SRF_0.22-1.6</td>\n",
       "    </tr>\n",
       "  </tbody>\n",
       "</table>\n",
       "</div>"
      ],
      "text/plain": [
       "      run_id             tara_label\n",
       "1  ERR599140  TARA_018_SRF_0.22-1.6"
      ]
     },
     "execution_count": 81,
     "metadata": {},
     "output_type": "execute_result"
    }
   ],
   "source": [
    "run_keys[run_keys['run_id']=='ERR599140']"
   ]
  },
  {
   "cell_type": "code",
   "execution_count": 103,
   "metadata": {
    "collapsed": false
   },
   "outputs": [
    {
     "data": {
      "text/plain": [
       "(array([ 1231.,   703.,   551.,   456.,   459.,   459.,   400.,   444.,\n",
       "          333.,   289.,   193.,   166.,   127.,   105.,    98.,   116.,\n",
       "           88.,   110.,   116.,   130.,   136.,   144.,   158.,   149.,\n",
       "          183.,   137.,   176.,   173.,   138.,   127.,   120.,   107.,\n",
       "           68.,    66.,    51.,    32.,    27.,    31.,    24.,    17.,\n",
       "           14.,    15.,    10.,     6.,     6.,     7.,     2.,     3.,\n",
       "            3.,     0.]),\n",
       " array([  1.  ,   1.38,   1.76,   2.14,   2.52,   2.9 ,   3.28,   3.66,\n",
       "          4.04,   4.42,   4.8 ,   5.18,   5.56,   5.94,   6.32,   6.7 ,\n",
       "          7.08,   7.46,   7.84,   8.22,   8.6 ,   8.98,   9.36,   9.74,\n",
       "         10.12,  10.5 ,  10.88,  11.26,  11.64,  12.02,  12.4 ,  12.78,\n",
       "         13.16,  13.54,  13.92,  14.3 ,  14.68,  15.06,  15.44,  15.82,\n",
       "         16.2 ,  16.58,  16.96,  17.34,  17.72,  18.1 ,  18.48,  18.86,\n",
       "         19.24,  19.62,  20.  ]),\n",
       " <a list of 50 Patch objects>)"
      ]
     },
     "execution_count": 103,
     "metadata": {},
     "output_type": "execute_result"
    },
    {
     "data": {
      "image/png": "[encoded data removed]",
      "text/plain": [
       "<matplotlib.figure.Figure at 0x125519950>"
      ]
     },
     "metadata": {},
     "output_type": "display_data"
    }
   ],
   "source": [
    "plt.hist(normalized.loc['ERR599140',:], bins=50, range=(1,20))"
   ]
  },
  {
   "cell_type": "code",
   "execution_count": 112,
   "metadata": {
    "collapsed": false
   },
   "outputs": [
    {
     "data": {
      "text/plain": [
       "(array([ 500.,  434.,  391.,  405.,  373.,  346.,  377.,  376.,  394.,\n",
       "         371.,  420.,  369.,  312.,  262.,  228.,  147.,  126.,  104.,\n",
       "          87.,   78.,   78.,   61.,   67.,   67.,   68.,   41.,   48.,\n",
       "          52.,   55.,   46.,   49.,   35.,   42.,   48.,   41.,   48.,\n",
       "          36.,   43.,   28.,   35.,   29.,   30.,   25.,   17.,   14.,\n",
       "          15.,   11.,    8.,    4.,    5.]),\n",
       " array([  2.  ,   2.36,   2.72,   3.08,   3.44,   3.8 ,   4.16,   4.52,\n",
       "          4.88,   5.24,   5.6 ,   5.96,   6.32,   6.68,   7.04,   7.4 ,\n",
       "          7.76,   8.12,   8.48,   8.84,   9.2 ,   9.56,   9.92,  10.28,\n",
       "         10.64,  11.  ,  11.36,  11.72,  12.08,  12.44,  12.8 ,  13.16,\n",
       "         13.52,  13.88,  14.24,  14.6 ,  14.96,  15.32,  15.68,  16.04,\n",
       "         16.4 ,  16.76,  17.12,  17.48,  17.84,  18.2 ,  18.56,  18.92,\n",
       "         19.28,  19.64,  20.  ]),\n",
       " <a list of 50 Patch objects>)"
      ]
     },
     "execution_count": 112,
     "metadata": {},
     "output_type": "execute_result"
    },
    {
     "data": {
      "image/png": "[encoded data removed]",
      "text/plain": [
       "<matplotlib.figure.Figure at 0x128a24710>"
      ]
     },
     "metadata": {},
     "output_type": "display_data"
    }
   ],
   "source": [
    "plt.hist(normalized.loc['ERR315859',:], bins=50, range=(2,20))"
   ]
  },
  {
   "cell_type": "code",
   "execution_count": 116,
   "metadata": {
    "collapsed": false
   },
   "outputs": [
    {
     "data": {
      "text/plain": [
       "(array([ 1013.,   908.,   620.,   528.,   472.,   416.,   378.,   374.,\n",
       "          397.,   367.,   413.,   411.,   416.,   415.,   325.,   292.,\n",
       "          227.,   154.,   128.,    99.,    88.,    68.,    81.,    63.,\n",
       "           70.,    58.,    60.,    54.,    56.,    55.,    45.,    53.,\n",
       "           52.,    46.,    42.,    38.,    43.,    49.,    43.,    28.,\n",
       "           24.,    34.,    33.,    14.,    18.,    12.,     8.,    15.,\n",
       "            7.,    11.]),\n",
       " array([  1.  ,   1.38,   1.76,   2.14,   2.52,   2.9 ,   3.28,   3.66,\n",
       "          4.04,   4.42,   4.8 ,   5.18,   5.56,   5.94,   6.32,   6.7 ,\n",
       "          7.08,   7.46,   7.84,   8.22,   8.6 ,   8.98,   9.36,   9.74,\n",
       "         10.12,  10.5 ,  10.88,  11.26,  11.64,  12.02,  12.4 ,  12.78,\n",
       "         13.16,  13.54,  13.92,  14.3 ,  14.68,  15.06,  15.44,  15.82,\n",
       "         16.2 ,  16.58,  16.96,  17.34,  17.72,  18.1 ,  18.48,  18.86,\n",
       "         19.24,  19.62,  20.  ]),\n",
       " <a list of 50 Patch objects>)"
      ]
     },
     "execution_count": 116,
     "metadata": {},
     "output_type": "execute_result"
    },
    {
     "data": {
      "image/png": "[encoded data removed]",
      "text/plain": [
       "<matplotlib.figure.Figure at 0x129712990>"
      ]
     },
     "metadata": {},
     "output_type": "display_data"
    }
   ],
   "source": [
    "plt.hist(normalized.loc['ERR315860',:], bins=50, range=(1,20))"
   ]
  },
  {
   "cell_type": "code",
   "execution_count": 172,
   "metadata": {
    "collapsed": false
   },
   "outputs": [
    {
     "data": {
      "text/plain": [
       "(array([ 597.,  559.,  502.,  465.,  417.,  408.,  358.,  336.,  313.,\n",
       "         270.,  275.,  262.,  219.,  217.,  171.,  143.,  129.,  143.,\n",
       "         110.,   95.,  104.,   82.,   77.,   62.,   60.,   44.,   36.,\n",
       "          49.,   57.,   49.,   59.,   46.,   42.,   46.,   35.,   32.,\n",
       "          37.,   54.,   42.,   40.,   38.,   33.,   33.,   25.,   19.,\n",
       "          23.,   14.,   12.,    9.,   15.]),\n",
       " array([  2.  ,   2.36,   2.72,   3.08,   3.44,   3.8 ,   4.16,   4.52,\n",
       "          4.88,   5.24,   5.6 ,   5.96,   6.32,   6.68,   7.04,   7.4 ,\n",
       "          7.76,   8.12,   8.48,   8.84,   9.2 ,   9.56,   9.92,  10.28,\n",
       "         10.64,  11.  ,  11.36,  11.72,  12.08,  12.44,  12.8 ,  13.16,\n",
       "         13.52,  13.88,  14.24,  14.6 ,  14.96,  15.32,  15.68,  16.04,\n",
       "         16.4 ,  16.76,  17.12,  17.48,  17.84,  18.2 ,  18.56,  18.92,\n",
       "         19.28,  19.64,  20.  ]),\n",
       " <a list of 50 Patch objects>)"
      ]
     },
     "execution_count": 172,
     "metadata": {},
     "output_type": "execute_result"
    },
    {
     "data": {
      "image/png": "[encoded data removed]",
      "text/plain": [
       "<matplotlib.figure.Figure at 0x133765910>"
      ]
     },
     "metadata": {},
     "output_type": "display_data"
    }
   ],
   "source": [
    "plt.hist(normalized.loc['ERR315858',:], bins=50, range=(2,20))"
   ]
  },
  {
   "cell_type": "code",
   "execution_count": 124,
   "metadata": {
    "collapsed": false
   },
   "outputs": [
    {
     "data": {
      "text/plain": [
       "0      ERR598993\n",
       "1      ERR599140\n",
       "2      ERR315859\n",
       "3      ERR315860\n",
       "4      ERR315858\n",
       "5      ERR315861\n",
       "6      ERR598951\n",
       "7      ERR599043\n",
       "8      ERR318618\n",
       "9      ERR318619\n",
       "10     ERR318620\n",
       "11     ERR318621\n",
       "12     ERR315862\n",
       "13     ERR315863\n",
       "14     ERR598969\n",
       "15     ERR599106\n",
       "16     ERR599061\n",
       "17     ERR599097\n",
       "18     ERR599041\n",
       "19     ERR599116\n",
       "20     ERR599155\n",
       "21     ERR599049\n",
       "22     ERR599134\n",
       "23     ERR594334\n",
       "24     ERR598966\n",
       "25     ERR599143\n",
       "26     ERR594312\n",
       "27     ERR599109\n",
       "28     ERR599167\n",
       "29     ERR594330\n",
       "         ...    \n",
       "205    ERR599142\n",
       "206    ERR598942\n",
       "207    ERR599052\n",
       "208    ERR598987\n",
       "209    ERR599070\n",
       "210    ERR599099\n",
       "211    ERR599147\n",
       "212    ERR599015\n",
       "213    ERR599076\n",
       "214    ERR599127\n",
       "215    ERR599152\n",
       "216    ERR598989\n",
       "217    ERR599162\n",
       "218    ERR599029\n",
       "219    ERR599100\n",
       "220    ERR598985\n",
       "221    ERR599136\n",
       "222    ERR599166\n",
       "223    ERR598983\n",
       "224    ERR599123\n",
       "225    ERR598958\n",
       "226    ERR598964\n",
       "227    ERR598963\n",
       "228    ERR598996\n",
       "229    ERR599170\n",
       "230    ERR598986\n",
       "231    ERR598976\n",
       "232    ERR598944\n",
       "233    ERR599001\n",
       "234    ERR599078\n",
       "Name: run_id, Length: 235, dtype: object"
      ]
     },
     "execution_count": 124,
     "metadata": {},
     "output_type": "execute_result"
    }
   ],
   "source": [
    "run_keys['run_id']"
   ]
  },
  {
   "cell_type": "code",
   "execution_count": 125,
   "metadata": {
    "collapsed": false
   },
   "outputs": [
    {
     "data": {
      "text/plain": [
       "(array([ 926.,  691.,  659.,  608.,  532.,  515.,  448.,  405.,  407.,\n",
       "         416.,  320.,  290.,  299.,  280.,  238.,  197.,  159.,  177.,\n",
       "         145.,  132.,  107.,   98.,   83.,   74.,   79.,   60.,   60.,\n",
       "          63.,   48.,   42.,   48.,   52.,   57.,   52.,   55.,   34.,\n",
       "          55.,   51.,   34.,   42.,   45.,   32.,   37.,   32.,   30.,\n",
       "          19.,   19.,   14.,    5.,    8.]),\n",
       " array([  1.  ,   1.38,   1.76,   2.14,   2.52,   2.9 ,   3.28,   3.66,\n",
       "          4.04,   4.42,   4.8 ,   5.18,   5.56,   5.94,   6.32,   6.7 ,\n",
       "          7.08,   7.46,   7.84,   8.22,   8.6 ,   8.98,   9.36,   9.74,\n",
       "         10.12,  10.5 ,  10.88,  11.26,  11.64,  12.02,  12.4 ,  12.78,\n",
       "         13.16,  13.54,  13.92,  14.3 ,  14.68,  15.06,  15.44,  15.82,\n",
       "         16.2 ,  16.58,  16.96,  17.34,  17.72,  18.1 ,  18.48,  18.86,\n",
       "         19.24,  19.62,  20.  ]),\n",
       " <a list of 50 Patch objects>)"
      ]
     },
     "execution_count": 125,
     "metadata": {},
     "output_type": "execute_result"
    },
    {
     "data": {
      "image/png": "[encoded data removed]",
      "text/plain": [
       "<matplotlib.figure.Figure at 0x12ae7f8d0>"
      ]
     },
     "metadata": {},
     "output_type": "display_data"
    }
   ],
   "source": [
    "plt.hist(normalized.loc['ERR315861',:], bins=50, range=(1,20))"
   ]
  },
  {
   "cell_type": "code",
   "execution_count": 128,
   "metadata": {
    "collapsed": false
   },
   "outputs": [
    {
     "data": {
      "text/plain": [
       "(array([ 760.,  650.,  571.,  472.,  403.,  406.,  429.,  440.,  425.,\n",
       "         414.,  395.,  344.,  294.,  272.,  227.,  216.,  213.,  180.,\n",
       "         165.,  129.,  110.,  115.,  102.,   74.,   61.,   57.,   50.,\n",
       "          61.,   69.,   67.,   70.,   83.,   80.,   76.,   54.,   60.,\n",
       "          55.,   54.,   42.,   35.,   33.,   28.,   21.,   21.,   14.,\n",
       "          17.,   10.,    7.,   10.,    5.]),\n",
       " array([  1.  ,   1.38,   1.76,   2.14,   2.52,   2.9 ,   3.28,   3.66,\n",
       "          4.04,   4.42,   4.8 ,   5.18,   5.56,   5.94,   6.32,   6.7 ,\n",
       "          7.08,   7.46,   7.84,   8.22,   8.6 ,   8.98,   9.36,   9.74,\n",
       "         10.12,  10.5 ,  10.88,  11.26,  11.64,  12.02,  12.4 ,  12.78,\n",
       "         13.16,  13.54,  13.92,  14.3 ,  14.68,  15.06,  15.44,  15.82,\n",
       "         16.2 ,  16.58,  16.96,  17.34,  17.72,  18.1 ,  18.48,  18.86,\n",
       "         19.24,  19.62,  20.  ]),\n",
       " <a list of 50 Patch objects>)"
      ]
     },
     "execution_count": 128,
     "metadata": {},
     "output_type": "execute_result"
    },
    {
     "data": {
      "image/png": "[encoded data removed]",
      "text/plain": [
       "<matplotlib.figure.Figure at 0x155530bd0>"
      ]
     },
     "metadata": {},
     "output_type": "display_data"
    }
   ],
   "source": [
    "plt.hist(normalized.loc['ERR598951',:], bins=50, range=(1,20))"
   ]
  },
  {
   "cell_type": "code",
   "execution_count": 160,
   "metadata": {
    "collapsed": false
   },
   "outputs": [
    {
     "data": {
      "text/plain": [
       "(array([ 1144.,   755.,   774.,   620.,   381.,   349.,   368.,   430.,\n",
       "          491.,   448.,   483.,   376.,   374.,   300.,   287.,   216.,\n",
       "          208.,   184.,   204.,   163.,   168.,   124.,    71.,    56.,\n",
       "           51.,    57.,    75.,    61.,    71.,    69.,    78.,    72.,\n",
       "           80.,    74.,    72.,    79.,    84.,    58.,    47.,    32.,\n",
       "           16.,    20.,    21.,    18.,    10.,     7.,     8.,    14.,\n",
       "            4.,     3.]),\n",
       " array([  0.6  ,   0.988,   1.376,   1.764,   2.152,   2.54 ,   2.928,\n",
       "          3.316,   3.704,   4.092,   4.48 ,   4.868,   5.256,   5.644,\n",
       "          6.032,   6.42 ,   6.808,   7.196,   7.584,   7.972,   8.36 ,\n",
       "          8.748,   9.136,   9.524,   9.912,  10.3  ,  10.688,  11.076,\n",
       "         11.464,  11.852,  12.24 ,  12.628,  13.016,  13.404,  13.792,\n",
       "         14.18 ,  14.568,  14.956,  15.344,  15.732,  16.12 ,  16.508,\n",
       "         16.896,  17.284,  17.672,  18.06 ,  18.448,  18.836,  19.224,\n",
       "         19.612,  20.   ]),\n",
       " <a list of 50 Patch objects>)"
      ]
     },
     "execution_count": 160,
     "metadata": {},
     "output_type": "execute_result"
    },
    {
     "data": {
      "image/png": "[encoded data removed]",
      "text/plain": [
       "<matplotlib.figure.Figure at 0x12bcc5650>"
      ]
     },
     "metadata": {},
     "output_type": "display_data"
    }
   ],
   "source": [
    "plt.hist(normalized.loc['ERR599043',:], bins=50, range=(0.6,20))"
   ]
  },
  {
   "cell_type": "code",
   "execution_count": 130,
   "metadata": {
    "collapsed": false
   },
   "outputs": [
    {
     "data": {
      "text/plain": [
       "(array([ 868.,  785.,  791.,  729.,  564.,  476.,  433.,  412.,  484.,\n",
       "         525.,  576.,  561.,  438.,  366.,  312.,  274.,  231.,  233.,\n",
       "         223.,  236.,  228.,  207.,  193.,  177.,   99.,   55.,   32.,\n",
       "          19.,   10.,   12.,    4.,    2.,    1.,    0.,    0.,    1.,\n",
       "           1.,    0.,    0.,    0.,    1.,    1.,    1.,    0.,    0.,\n",
       "           0.,    0.,    1.,    0.,    1.]),\n",
       " array([  1.  ,   1.38,   1.76,   2.14,   2.52,   2.9 ,   3.28,   3.66,\n",
       "          4.04,   4.42,   4.8 ,   5.18,   5.56,   5.94,   6.32,   6.7 ,\n",
       "          7.08,   7.46,   7.84,   8.22,   8.6 ,   8.98,   9.36,   9.74,\n",
       "         10.12,  10.5 ,  10.88,  11.26,  11.64,  12.02,  12.4 ,  12.78,\n",
       "         13.16,  13.54,  13.92,  14.3 ,  14.68,  15.06,  15.44,  15.82,\n",
       "         16.2 ,  16.58,  16.96,  17.34,  17.72,  18.1 ,  18.48,  18.86,\n",
       "         19.24,  19.62,  20.  ]),\n",
       " <a list of 50 Patch objects>)"
      ]
     },
     "execution_count": 130,
     "metadata": {},
     "output_type": "execute_result"
    },
    {
     "data": {
      "image/png": "[encoded data removed]",
      "text/plain": [
       "<matplotlib.figure.Figure at 0x156178f90>"
      ]
     },
     "metadata": {},
     "output_type": "display_data"
    }
   ],
   "source": [
    "plt.hist(normalized.loc['ERR318618',:], bins=50, range=(1,20))"
   ]
  },
  {
   "cell_type": "code",
   "execution_count": 132,
   "metadata": {
    "collapsed": false
   },
   "outputs": [
    {
     "data": {
      "text/plain": [
       "(array([  1.10400000e+03,   8.99000000e+02,   7.36000000e+02,\n",
       "          7.26000000e+02,   6.30000000e+02,   5.71000000e+02,\n",
       "          5.54000000e+02,   5.12000000e+02,   4.78000000e+02,\n",
       "          4.97000000e+02,   4.09000000e+02,   4.17000000e+02,\n",
       "          3.72000000e+02,   3.39000000e+02,   2.97000000e+02,\n",
       "          2.62000000e+02,   2.48000000e+02,   2.25000000e+02,\n",
       "          2.29000000e+02,   1.73000000e+02,   1.38000000e+02,\n",
       "          1.47000000e+02,   1.13000000e+02,   8.90000000e+01,\n",
       "          8.20000000e+01,   8.30000000e+01,   6.20000000e+01,\n",
       "          4.70000000e+01,   4.20000000e+01,   2.80000000e+01,\n",
       "          2.10000000e+01,   2.00000000e+01,   1.20000000e+01,\n",
       "          1.60000000e+01,   7.00000000e+00,   5.00000000e+00,\n",
       "          7.00000000e+00,   9.00000000e+00,   2.00000000e+00,\n",
       "          4.00000000e+00,   4.00000000e+00,   2.00000000e+00,\n",
       "          0.00000000e+00,   0.00000000e+00,   1.00000000e+00,\n",
       "          2.00000000e+00,   1.00000000e+00,   0.00000000e+00,\n",
       "          0.00000000e+00,   1.00000000e+00]),\n",
       " array([  1.  ,   1.38,   1.76,   2.14,   2.52,   2.9 ,   3.28,   3.66,\n",
       "          4.04,   4.42,   4.8 ,   5.18,   5.56,   5.94,   6.32,   6.7 ,\n",
       "          7.08,   7.46,   7.84,   8.22,   8.6 ,   8.98,   9.36,   9.74,\n",
       "         10.12,  10.5 ,  10.88,  11.26,  11.64,  12.02,  12.4 ,  12.78,\n",
       "         13.16,  13.54,  13.92,  14.3 ,  14.68,  15.06,  15.44,  15.82,\n",
       "         16.2 ,  16.58,  16.96,  17.34,  17.72,  18.1 ,  18.48,  18.86,\n",
       "         19.24,  19.62,  20.  ]),\n",
       " <a list of 50 Patch objects>)"
      ]
     },
     "execution_count": 132,
     "metadata": {},
     "output_type": "execute_result"
    },
    {
     "data": {
      "image/png": "[encoded data removed]",
      "text/plain": [
       "<matplotlib.figure.Figure at 0x156a33410>"
      ]
     },
     "metadata": {},
     "output_type": "display_data"
    }
   ],
   "source": [
    "plt.hist(normalized.loc['ERR318621',:], bins=50, range=(1,20))"
   ]
  },
  {
   "cell_type": "code",
   "execution_count": 133,
   "metadata": {
    "collapsed": false
   },
   "outputs": [
    {
     "data": {
      "text/plain": [
       "(array([  1.01600000e+03,   9.13000000e+02,   7.41000000e+02,\n",
       "          6.75000000e+02,   6.34000000e+02,   5.97000000e+02,\n",
       "          5.85000000e+02,   5.39000000e+02,   5.03000000e+02,\n",
       "          4.69000000e+02,   4.31000000e+02,   3.80000000e+02,\n",
       "          3.67000000e+02,   3.24000000e+02,   3.34000000e+02,\n",
       "          2.89000000e+02,   2.50000000e+02,   2.04000000e+02,\n",
       "          2.12000000e+02,   1.74000000e+02,   1.60000000e+02,\n",
       "          1.51000000e+02,   1.11000000e+02,   1.01000000e+02,\n",
       "          8.30000000e+01,   8.00000000e+01,   5.50000000e+01,\n",
       "          3.10000000e+01,   4.20000000e+01,   2.30000000e+01,\n",
       "          2.20000000e+01,   1.80000000e+01,   2.30000000e+01,\n",
       "          1.20000000e+01,   4.00000000e+00,   4.00000000e+00,\n",
       "          4.00000000e+00,   6.00000000e+00,   1.00000000e+00,\n",
       "          2.00000000e+00,   1.00000000e+00,   2.00000000e+00,\n",
       "          2.00000000e+00,   1.00000000e+00,   1.00000000e+00,\n",
       "          3.00000000e+00,   0.00000000e+00,   0.00000000e+00,\n",
       "          1.00000000e+00,   0.00000000e+00]),\n",
       " array([  1.  ,   1.38,   1.76,   2.14,   2.52,   2.9 ,   3.28,   3.66,\n",
       "          4.04,   4.42,   4.8 ,   5.18,   5.56,   5.94,   6.32,   6.7 ,\n",
       "          7.08,   7.46,   7.84,   8.22,   8.6 ,   8.98,   9.36,   9.74,\n",
       "         10.12,  10.5 ,  10.88,  11.26,  11.64,  12.02,  12.4 ,  12.78,\n",
       "         13.16,  13.54,  13.92,  14.3 ,  14.68,  15.06,  15.44,  15.82,\n",
       "         16.2 ,  16.58,  16.96,  17.34,  17.72,  18.1 ,  18.48,  18.86,\n",
       "         19.24,  19.62,  20.  ]),\n",
       " <a list of 50 Patch objects>)"
      ]
     },
     "execution_count": 133,
     "metadata": {},
     "output_type": "execute_result"
    },
    {
     "data": {
      "image/png": "[encoded data removed]",
      "text/plain": [
       "<matplotlib.figure.Figure at 0x156d8f4d0>"
      ]
     },
     "metadata": {},
     "output_type": "display_data"
    }
   ],
   "source": [
    "plt.hist(normalized.loc['ERR318619',:], bins=50, range=(1,20))"
   ]
  },
  {
   "cell_type": "code",
   "execution_count": 156,
   "metadata": {
    "collapsed": false
   },
   "outputs": [
    {
     "data": {
      "text/plain": [
       "(array([  1.97100000e+03,   1.02000000e+03,   8.05000000e+02,\n",
       "          8.24000000e+02,   8.25000000e+02,   6.46000000e+02,\n",
       "          5.35000000e+02,   4.29000000e+02,   4.26000000e+02,\n",
       "          4.78000000e+02,   5.24000000e+02,   5.99000000e+02,\n",
       "          5.74000000e+02,   4.73000000e+02,   4.23000000e+02,\n",
       "          3.44000000e+02,   2.92000000e+02,   2.43000000e+02,\n",
       "          2.41000000e+02,   2.35000000e+02,   2.20000000e+02,\n",
       "          2.30000000e+02,   2.20000000e+02,   1.97000000e+02,\n",
       "          1.65000000e+02,   1.03000000e+02,   6.30000000e+01,\n",
       "          2.50000000e+01,   1.40000000e+01,   5.00000000e+00,\n",
       "          6.00000000e+00,   1.00000000e+00,   2.00000000e+00,\n",
       "          0.00000000e+00,   1.00000000e+00,   0.00000000e+00,\n",
       "          1.00000000e+00,   2.00000000e+00,   0.00000000e+00,\n",
       "          3.00000000e+00,   0.00000000e+00,   0.00000000e+00,\n",
       "          0.00000000e+00,   0.00000000e+00,   0.00000000e+00,\n",
       "          1.00000000e+00,   1.00000000e+00,   1.00000000e+00,\n",
       "          1.00000000e+00,   0.00000000e+00]),\n",
       " array([  0.37  ,   0.7626,   1.1552,   1.5478,   1.9404,   2.333 ,\n",
       "          2.7256,   3.1182,   3.5108,   3.9034,   4.296 ,   4.6886,\n",
       "          5.0812,   5.4738,   5.8664,   6.259 ,   6.6516,   7.0442,\n",
       "          7.4368,   7.8294,   8.222 ,   8.6146,   9.0072,   9.3998,\n",
       "          9.7924,  10.185 ,  10.5776,  10.9702,  11.3628,  11.7554,\n",
       "         12.148 ,  12.5406,  12.9332,  13.3258,  13.7184,  14.111 ,\n",
       "         14.5036,  14.8962,  15.2888,  15.6814,  16.074 ,  16.4666,\n",
       "         16.8592,  17.2518,  17.6444,  18.037 ,  18.4296,  18.8222,\n",
       "         19.2148,  19.6074,  20.    ]),\n",
       " <a list of 50 Patch objects>)"
      ]
     },
     "execution_count": 156,
     "metadata": {},
     "output_type": "execute_result"
    },
    {
     "data": {
      "image/png": "[encoded data removed]",
      "text/plain": [
       "<matplotlib.figure.Figure at 0x15b651a90>"
      ]
     },
     "metadata": {},
     "output_type": "display_data"
    }
   ],
   "source": [
    "plt.hist(normalized.loc['ERR318620',:], bins=50, range=(0.37,20))"
   ]
  },
  {
   "cell_type": "code",
   "execution_count": 166,
   "metadata": {
    "collapsed": false
   },
   "outputs": [
    {
     "data": {
      "text/plain": [
       "(array([ 1751.,  1184.,   900.,   835.,   677.,   595.,   524.,   459.,\n",
       "          398.,   377.,   317.,   298.,   272.,   279.,   231.,   184.,\n",
       "          196.,   199.,   173.,   142.,   139.,   129.,   113.,    99.,\n",
       "          108.,    91.,    79.,    67.,    66.,    63.,    54.,    54.,\n",
       "           51.,    42.,    36.,    34.,    37.,    32.,    22.,    17.,\n",
       "           10.,    18.,    14.,    18.,    23.,    17.,    16.,    12.,\n",
       "           16.,     6.]),\n",
       " array([  0.37  ,   0.7626,   1.1552,   1.5478,   1.9404,   2.333 ,\n",
       "          2.7256,   3.1182,   3.5108,   3.9034,   4.296 ,   4.6886,\n",
       "          5.0812,   5.4738,   5.8664,   6.259 ,   6.6516,   7.0442,\n",
       "          7.4368,   7.8294,   8.222 ,   8.6146,   9.0072,   9.3998,\n",
       "          9.7924,  10.185 ,  10.5776,  10.9702,  11.3628,  11.7554,\n",
       "         12.148 ,  12.5406,  12.9332,  13.3258,  13.7184,  14.111 ,\n",
       "         14.5036,  14.8962,  15.2888,  15.6814,  16.074 ,  16.4666,\n",
       "         16.8592,  17.2518,  17.6444,  18.037 ,  18.4296,  18.8222,\n",
       "         19.2148,  19.6074,  20.    ]),\n",
       " <a list of 50 Patch objects>)"
      ]
     },
     "execution_count": 166,
     "metadata": {},
     "output_type": "execute_result"
    },
    {
     "data": {
      "image/png": "[encoded data removed]",
      "text/plain": [
       "<matplotlib.figure.Figure at 0x132a01e10>"
      ]
     },
     "metadata": {},
     "output_type": "display_data"
    }
   ],
   "source": [
    "plt.hist(normalized.loc['ERR315862',:], bins=50, range=(0.37,20))"
   ]
  },
  {
   "cell_type": "code",
   "execution_count": 136,
   "metadata": {
    "collapsed": false
   },
   "outputs": [
    {
     "data": {
      "text/plain": [
       "(array([ 1076.,   656.,   602.,   579.,   579.,   619.,   559.,   539.,\n",
       "          474.,   455.,   347.,   296.,   246.,   184.,   176.,   166.,\n",
       "          160.,   167.,   132.,   137.,   124.,   124.,   114.,   107.,\n",
       "          115.,   111.,    85.,    73.,    61.,    69.,    49.,    56.,\n",
       "           46.,    39.,    31.,    49.,    43.,    40.,    40.,    27.,\n",
       "           34.,    30.,    24.,    12.,    14.,    11.,     4.,     5.,\n",
       "            5.,     4.]),\n",
       " array([  1.  ,   1.38,   1.76,   2.14,   2.52,   2.9 ,   3.28,   3.66,\n",
       "          4.04,   4.42,   4.8 ,   5.18,   5.56,   5.94,   6.32,   6.7 ,\n",
       "          7.08,   7.46,   7.84,   8.22,   8.6 ,   8.98,   9.36,   9.74,\n",
       "         10.12,  10.5 ,  10.88,  11.26,  11.64,  12.02,  12.4 ,  12.78,\n",
       "         13.16,  13.54,  13.92,  14.3 ,  14.68,  15.06,  15.44,  15.82,\n",
       "         16.2 ,  16.58,  16.96,  17.34,  17.72,  18.1 ,  18.48,  18.86,\n",
       "         19.24,  19.62,  20.  ]),\n",
       " <a list of 50 Patch objects>)"
      ]
     },
     "execution_count": 136,
     "metadata": {},
     "output_type": "execute_result"
    },
    {
     "data": {
      "image/png": "[encoded data removed]",
      "text/plain": [
       "<matplotlib.figure.Figure at 0x1580433d0>"
      ]
     },
     "metadata": {},
     "output_type": "display_data"
    }
   ],
   "source": [
    "plt.hist(normalized.loc['ERR315863',:], bins=50, range=(1,20))"
   ]
  },
  {
   "cell_type": "code",
   "execution_count": 137,
   "metadata": {
    "collapsed": true
   },
   "outputs": [],
   "source": [
    "import numpy as np"
   ]
  },
  {
   "cell_type": "code",
   "execution_count": 145,
   "metadata": {
    "collapsed": false
   },
   "outputs": [
    {
     "data": {
      "text/plain": [
       "(array([  0.00000000e+00,   0.00000000e+00,   0.00000000e+00,\n",
       "          0.00000000e+00,   0.00000000e+00,   0.00000000e+00,\n",
       "          1.00000000e+00,   1.30000000e+01,   5.00000000e+01,\n",
       "          1.60000000e+02,   4.00000000e+02,   6.80000000e+02,\n",
       "          8.20000000e+02,   1.03200000e+03,   1.15400000e+03,\n",
       "          1.21500000e+03,   1.17000000e+03,   1.09700000e+03,\n",
       "          9.23000000e+02,   8.59000000e+02,   8.52000000e+02,\n",
       "          9.09000000e+02,   1.12000000e+03,   1.05300000e+03,\n",
       "          1.21600000e+03,   1.26900000e+03,   1.19300000e+03,\n",
       "          1.70400000e+03,   2.13100000e+03,   1.38600000e+03,\n",
       "          1.19500000e+03,   6.95000000e+02,   1.31000000e+02,\n",
       "          1.20000000e+01,   3.00000000e+00,   0.00000000e+00,\n",
       "          0.00000000e+00,   0.00000000e+00,   1.00000000e+00,\n",
       "          1.00000000e+00,   0.00000000e+00,   0.00000000e+00,\n",
       "          0.00000000e+00,   0.00000000e+00,   0.00000000e+00,\n",
       "          0.00000000e+00,   0.00000000e+00,   0.00000000e+00,\n",
       "          0.00000000e+00,   0.00000000e+00]),\n",
       " array([-10. ,  -9.6,  -9.2,  -8.8,  -8.4,  -8. ,  -7.6,  -7.2,  -6.8,\n",
       "         -6.4,  -6. ,  -5.6,  -5.2,  -4.8,  -4.4,  -4. ,  -3.6,  -3.2,\n",
       "         -2.8,  -2.4,  -2. ,  -1.6,  -1.2,  -0.8,  -0.4,   0. ,   0.4,\n",
       "          0.8,   1.2,   1.6,   2. ,   2.4,   2.8,   3.2,   3.6,   4. ,\n",
       "          4.4,   4.8,   5.2,   5.6,   6. ,   6.4,   6.8,   7.2,   7.6,\n",
       "          8. ,   8.4,   8.8,   9.2,   9.6,  10. ]),\n",
       " <a list of 50 Patch objects>)"
      ]
     },
     "execution_count": 145,
     "metadata": {},
     "output_type": "execute_result"
    },
    {
     "data": {
      "image/png": "[encoded data removed]",
      "text/plain": [
       "<matplotlib.figure.Figure at 0x1592cb710>"
      ]
     },
     "metadata": {},
     "output_type": "display_data"
    }
   ],
   "source": [
    "plt.hist(np.log(normalized.loc['ERR315863',:]+0.00000000000001), bins=50, range=(-10,10))"
   ]
  },
  {
   "cell_type": "code",
   "execution_count": 148,
   "metadata": {
    "collapsed": false
   },
   "outputs": [
    {
     "data": {
      "text/plain": [
       "(array([  0.00000000e+00,   0.00000000e+00,   0.00000000e+00,\n",
       "          0.00000000e+00,   0.00000000e+00,   6.00000000e+00,\n",
       "          2.40000000e+01,   9.50000000e+01,   2.41000000e+02,\n",
       "          4.29000000e+02,   6.05000000e+02,   8.17000000e+02,\n",
       "          8.76000000e+02,   1.02400000e+03,   1.02500000e+03,\n",
       "          1.07700000e+03,   1.00100000e+03,   8.89000000e+02,\n",
       "          9.46000000e+02,   8.75000000e+02,   8.80000000e+02,\n",
       "          9.24000000e+02,   9.49000000e+02,   9.69000000e+02,\n",
       "          1.02700000e+03,   1.24100000e+03,   1.45200000e+03,\n",
       "          1.53300000e+03,   1.51700000e+03,   1.43200000e+03,\n",
       "          1.10700000e+03,   5.76000000e+02,   2.16000000e+02,\n",
       "          7.20000000e+01,   1.20000000e+01,   2.00000000e+00,\n",
       "          0.00000000e+00,   0.00000000e+00,   0.00000000e+00,\n",
       "          0.00000000e+00,   0.00000000e+00,   0.00000000e+00,\n",
       "          0.00000000e+00,   1.00000000e+00,   0.00000000e+00,\n",
       "          0.00000000e+00,   0.00000000e+00,   0.00000000e+00,\n",
       "          0.00000000e+00,   0.00000000e+00]),\n",
       " array([-10. ,  -9.6,  -9.2,  -8.8,  -8.4,  -8. ,  -7.6,  -7.2,  -6.8,\n",
       "         -6.4,  -6. ,  -5.6,  -5.2,  -4.8,  -4.4,  -4. ,  -3.6,  -3.2,\n",
       "         -2.8,  -2.4,  -2. ,  -1.6,  -1.2,  -0.8,  -0.4,   0. ,   0.4,\n",
       "          0.8,   1.2,   1.6,   2. ,   2.4,   2.8,   3.2,   3.6,   4. ,\n",
       "          4.4,   4.8,   5.2,   5.6,   6. ,   6.4,   6.8,   7.2,   7.6,\n",
       "          8. ,   8.4,   8.8,   9.2,   9.6,  10. ]),\n",
       " <a list of 50 Patch objects>)"
      ]
     },
     "execution_count": 148,
     "metadata": {},
     "output_type": "execute_result"
    },
    {
     "data": {
      "image/png": "[encoded data removed]",
      "text/plain": [
       "<matplotlib.figure.Figure at 0x159bfb550>"
      ]
     },
     "metadata": {},
     "output_type": "display_data"
    }
   ],
   "source": [
    "plt.hist(np.log(normalized.loc['ERR315862',:]+0.00000000000001), bins=50, range=(-10,10))"
   ]
  },
  {
   "cell_type": "code",
   "execution_count": 164,
   "metadata": {
    "collapsed": false
   },
   "outputs": [
    {
     "data": {
      "text/plain": [
       "(array([  480.,   495.,   602.,   693.,   647.,   718.,   733.,   787.,\n",
       "          749.,   719.,   755.,   756.,   783.,   725.,   676.,   597.,\n",
       "          596.,   571.,   630.,   689.,   677.,   558.,   530.,   422.,\n",
       "          449.,   449.,   517.,   654.,   602.,   428.,   589.,   860.,\n",
       "         1067.,   984.,   795.,   713.,   330.,   451.,   451.,   108.,\n",
       "            7.,     5.,     0.,     2.,     0.,     0.,     0.,     0.,\n",
       "            0.,     0.]),\n",
       " array([-5. , -4.8, -4.6, -4.4, -4.2, -4. , -3.8, -3.6, -3.4, -3.2, -3. ,\n",
       "        -2.8, -2.6, -2.4, -2.2, -2. , -1.8, -1.6, -1.4, -1.2, -1. , -0.8,\n",
       "        -0.6, -0.4, -0.2,  0. ,  0.2,  0.4,  0.6,  0.8,  1. ,  1.2,  1.4,\n",
       "         1.6,  1.8,  2. ,  2.2,  2.4,  2.6,  2.8,  3. ,  3.2,  3.4,  3.6,\n",
       "         3.8,  4. ,  4.2,  4.4,  4.6,  4.8,  5. ]),\n",
       " <a list of 50 Patch objects>)"
      ]
     },
     "execution_count": 164,
     "metadata": {},
     "output_type": "execute_result"
    },
    {
     "data": {
      "image/png": "[encoded data removed]",
      "text/plain": [
       "<matplotlib.figure.Figure at 0x13256bb90>"
      ]
     },
     "metadata": {},
     "output_type": "display_data"
    }
   ],
   "source": [
    "plt.hist(np.log(normalized.loc['ERR599043',:]+0.00000000000001), bins=50, range=(-5,5))"
   ]
  },
  {
   "cell_type": "markdown",
   "metadata": {},
   "source": [
    "### okay so the cut off is not obvious\n",
    "\n",
    "It looks to me like particularly where there's a really clear modal/bimodal/(trimodal?) distribution, a cutoff of e^-1 looks pretty good, like it more or less bisects the peak in the very small numbers (e^-3, e^-4...) and the definitely-signal peak in the higher numbers. But, sometimes it looks like it's closer to e^0, or could be a smaller number...\n",
    "\n",
    "So, I'm going to write up the normalization steps as a function and maybe try training all my models using coverage data with different cutoff levels. While I troubleshoot, I'll use a cutoff of e^-1 (=0.37)."
   ]
  },
  {
   "cell_type": "code",
   "execution_count": 12,
   "metadata": {
    "collapsed": false
   },
   "outputs": [
    {
     "data": {
      "text/plain": [
       "(array([  29.,   81.,  108.,   89.,  115.,  107.,   74.,   92.,   64.,\n",
       "          48.,   41.,   30.,   36.,   30.,   21.,   19.,   16.,   12.,\n",
       "          10.,   11.,   10.,    4.,    1.,    4.,    4.,    2.,    1.,\n",
       "           1.,    2.,    5.,    1.,    0.,    1.,    1.,    2.,    0.,\n",
       "           1.,    2.,    3.,    1.,    0.,    2.,    0.,    0.,    0.,\n",
       "           1.,    0.,    1.,    0.,    0.]),\n",
       " array([  0.5 ,   0.89,   1.28,   1.67,   2.06,   2.45,   2.84,   3.23,\n",
       "          3.62,   4.01,   4.4 ,   4.79,   5.18,   5.57,   5.96,   6.35,\n",
       "          6.74,   7.13,   7.52,   7.91,   8.3 ,   8.69,   9.08,   9.47,\n",
       "          9.86,  10.25,  10.64,  11.03,  11.42,  11.81,  12.2 ,  12.59,\n",
       "         12.98,  13.37,  13.76,  14.15,  14.54,  14.93,  15.32,  15.71,\n",
       "         16.1 ,  16.49,  16.88,  17.27,  17.66,  18.05,  18.44,  18.83,\n",
       "         19.22,  19.61,  20.  ]),\n",
       " <a list of 50 Patch objects>)"
      ]
     },
     "execution_count": 12,
     "metadata": {},
     "output_type": "execute_result"
    },
    {
     "data": {
      "image/png": "[encoded data removed]",
      "text/plain": [
       "<matplotlib.figure.Figure at 0x111932610>"
      ]
     },
     "metadata": {},
     "output_type": "display_data"
    }
   ],
   "source": [
    "plt.hist(normalized.loc['ERR594312',:], bins=50, range=(0.5,20))"
   ]
  },
  {
   "cell_type": "code",
   "execution_count": 52,
   "metadata": {
    "collapsed": false
   },
   "outputs": [
    {
     "data": {
      "text/plain": [
       "(array([  3.23400000e+03,   2.19900000e+03,   1.55900000e+03,\n",
       "          1.12200000e+03,   7.56000000e+02,   6.29000000e+02,\n",
       "          5.30000000e+02,   4.59000000e+02,   3.60000000e+02,\n",
       "          3.27000000e+02,   3.19000000e+02,   2.97000000e+02,\n",
       "          2.82000000e+02,   2.68000000e+02,   2.61000000e+02,\n",
       "          2.43000000e+02,   2.01000000e+02,   1.90000000e+02,\n",
       "          1.90000000e+02,   1.41000000e+02,   1.07000000e+02,\n",
       "          7.20000000e+01,   5.30000000e+01,   4.20000000e+01,\n",
       "          2.60000000e+01,   1.70000000e+01,   1.20000000e+01,\n",
       "          1.10000000e+01,   8.00000000e+00,   5.00000000e+00,\n",
       "          4.00000000e+00,   7.00000000e+00,   5.00000000e+00,\n",
       "          5.00000000e+00,   6.00000000e+00,   3.00000000e+00,\n",
       "          4.00000000e+00,   1.00000000e+00,   4.00000000e+00,\n",
       "          1.00000000e+00,   2.00000000e+00,   1.00000000e+00,\n",
       "          0.00000000e+00,   1.00000000e+00,   1.00000000e+00,\n",
       "          2.00000000e+00,   1.00000000e+00,   1.00000000e+00,\n",
       "          0.00000000e+00,   3.00000000e+00]),\n",
       " array([  1.  ,   1.38,   1.76,   2.14,   2.52,   2.9 ,   3.28,   3.66,\n",
       "          4.04,   4.42,   4.8 ,   5.18,   5.56,   5.94,   6.32,   6.7 ,\n",
       "          7.08,   7.46,   7.84,   8.22,   8.6 ,   8.98,   9.36,   9.74,\n",
       "         10.12,  10.5 ,  10.88,  11.26,  11.64,  12.02,  12.4 ,  12.78,\n",
       "         13.16,  13.54,  13.92,  14.3 ,  14.68,  15.06,  15.44,  15.82,\n",
       "         16.2 ,  16.58,  16.96,  17.34,  17.72,  18.1 ,  18.48,  18.86,\n",
       "         19.24,  19.62,  20.  ]),\n",
       " <a list of 50 Patch objects>)"
      ]
     },
     "execution_count": 52,
     "metadata": {},
     "output_type": "execute_result"
    },
    {
     "data": {
      "image/png": "[encoded data removed]",
      "text/plain": [
       "<matplotlib.figure.Figure at 0x127071a50>"
      ]
     },
     "metadata": {},
     "output_type": "display_data"
    }
   ],
   "source": [
    "plt.hist(normalized.loc['ERR598982',:], bins=50, range=(1,20))"
   ]
  },
  {
   "cell_type": "markdown",
   "metadata": {},
   "source": [
    "## convert to presence/absence\n",
    "\n",
    "use 0.37 as cutoff at least initially (which is e^-1)"
   ]
  },
  {
   "cell_type": "code",
   "execution_count": 190,
   "metadata": {
    "collapsed": false
   },
   "outputs": [
    {
     "data": {
      "text/html": [
       "<div>\n",
       "<style>\n",
       "    .dataframe thead tr:only-child th {\n",
       "        text-align: right;\n",
       "    }\n",
       "\n",
       "    .dataframe thead th {\n",
       "        text-align: left;\n",
       "    }\n",
       "\n",
       "    .dataframe tbody tr th {\n",
       "        vertical-align: top;\n",
       "    }\n",
       "</style>\n",
       "<table border=\"1\" class=\"dataframe\">\n",
       "  <thead>\n",
       "    <tr style=\"text-align: right;\">\n",
       "      <th>gene_id</th>\n",
       "      <th>fig|1123864.3.peg.102|VBISARClu237429_0102|</th>\n",
       "      <th>fig|1123864.3.peg.103|VBISARClu237429_0103|</th>\n",
       "      <th>fig|1123864.3.peg.105|VBISARClu237429_0105|</th>\n",
       "      <th>fig|1123864.3.peg.106|VBISARClu237429_0106|</th>\n",
       "      <th>fig|1123864.3.peg.108|VBISARClu237429_0108|</th>\n",
       "      <th>fig|1123864.3.peg.109|VBISARClu237429_0109|</th>\n",
       "      <th>fig|1123864.3.peg.111|VBISARClu237429_0111|</th>\n",
       "      <th>fig|1123864.3.peg.112|VBISARClu237429_0112|</th>\n",
       "      <th>fig|1123864.3.peg.115|VBISARClu237429_0115|</th>\n",
       "      <th>fig|1123864.3.peg.116|VBISARClu237429_0116|</th>\n",
       "      <th>...</th>\n",
       "      <th>scf7180009409913_26157_27140_26</th>\n",
       "      <th>scf7180009409913_27144_28913_27</th>\n",
       "      <th>scf7180009409913_28976_30082_28</th>\n",
       "      <th>scf7180009409913_30060_31295_29</th>\n",
       "      <th>scf7180009409913_31282_32319_30</th>\n",
       "      <th>scf7180009409913_32383_33123_31</th>\n",
       "      <th>scf7180009409913_33125_33334_32</th>\n",
       "      <th>scf7180009409913_4750_2468_4</th>\n",
       "      <th>scf7180009409913_5274_4753_5</th>\n",
       "      <th>scf7180009409913_5681_8779_6</th>\n",
       "    </tr>\n",
       "    <tr>\n",
       "      <th>index</th>\n",
       "      <th></th>\n",
       "      <th></th>\n",
       "      <th></th>\n",
       "      <th></th>\n",
       "      <th></th>\n",
       "      <th></th>\n",
       "      <th></th>\n",
       "      <th></th>\n",
       "      <th></th>\n",
       "      <th></th>\n",
       "      <th></th>\n",
       "      <th></th>\n",
       "      <th></th>\n",
       "      <th></th>\n",
       "      <th></th>\n",
       "      <th></th>\n",
       "      <th></th>\n",
       "      <th></th>\n",
       "      <th></th>\n",
       "      <th></th>\n",
       "      <th></th>\n",
       "    </tr>\n",
       "  </thead>\n",
       "  <tbody>\n",
       "    <tr>\n",
       "      <th>ERR598993</th>\n",
       "      <td>0.0</td>\n",
       "      <td>0.0</td>\n",
       "      <td>0.0</td>\n",
       "      <td>0.0</td>\n",
       "      <td>0.0</td>\n",
       "      <td>0.0</td>\n",
       "      <td>0.0</td>\n",
       "      <td>0.0</td>\n",
       "      <td>0.0</td>\n",
       "      <td>0.0</td>\n",
       "      <td>...</td>\n",
       "      <td>0.0</td>\n",
       "      <td>0.0</td>\n",
       "      <td>0.0</td>\n",
       "      <td>0.0</td>\n",
       "      <td>0.0</td>\n",
       "      <td>0.0</td>\n",
       "      <td>0.0</td>\n",
       "      <td>0.0</td>\n",
       "      <td>0.0</td>\n",
       "      <td>0.0</td>\n",
       "    </tr>\n",
       "    <tr>\n",
       "      <th>ERR599140</th>\n",
       "      <td>0.0</td>\n",
       "      <td>0.0</td>\n",
       "      <td>0.0</td>\n",
       "      <td>0.0</td>\n",
       "      <td>0.0</td>\n",
       "      <td>0.0</td>\n",
       "      <td>0.0</td>\n",
       "      <td>0.0</td>\n",
       "      <td>0.0</td>\n",
       "      <td>0.0</td>\n",
       "      <td>...</td>\n",
       "      <td>0.0</td>\n",
       "      <td>0.0</td>\n",
       "      <td>0.0</td>\n",
       "      <td>1.0</td>\n",
       "      <td>0.0</td>\n",
       "      <td>0.0</td>\n",
       "      <td>0.0</td>\n",
       "      <td>0.0</td>\n",
       "      <td>0.0</td>\n",
       "      <td>0.0</td>\n",
       "    </tr>\n",
       "    <tr>\n",
       "      <th>ERR315859</th>\n",
       "      <td>0.0</td>\n",
       "      <td>0.0</td>\n",
       "      <td>0.0</td>\n",
       "      <td>0.0</td>\n",
       "      <td>0.0</td>\n",
       "      <td>0.0</td>\n",
       "      <td>0.0</td>\n",
       "      <td>0.0</td>\n",
       "      <td>0.0</td>\n",
       "      <td>0.0</td>\n",
       "      <td>...</td>\n",
       "      <td>1.0</td>\n",
       "      <td>1.0</td>\n",
       "      <td>1.0</td>\n",
       "      <td>1.0</td>\n",
       "      <td>1.0</td>\n",
       "      <td>1.0</td>\n",
       "      <td>0.0</td>\n",
       "      <td>0.0</td>\n",
       "      <td>1.0</td>\n",
       "      <td>0.0</td>\n",
       "    </tr>\n",
       "    <tr>\n",
       "      <th>ERR315860</th>\n",
       "      <td>0.0</td>\n",
       "      <td>0.0</td>\n",
       "      <td>0.0</td>\n",
       "      <td>0.0</td>\n",
       "      <td>0.0</td>\n",
       "      <td>0.0</td>\n",
       "      <td>0.0</td>\n",
       "      <td>0.0</td>\n",
       "      <td>0.0</td>\n",
       "      <td>0.0</td>\n",
       "      <td>...</td>\n",
       "      <td>1.0</td>\n",
       "      <td>1.0</td>\n",
       "      <td>1.0</td>\n",
       "      <td>1.0</td>\n",
       "      <td>1.0</td>\n",
       "      <td>1.0</td>\n",
       "      <td>0.0</td>\n",
       "      <td>0.0</td>\n",
       "      <td>1.0</td>\n",
       "      <td>0.0</td>\n",
       "    </tr>\n",
       "    <tr>\n",
       "      <th>ERR315858</th>\n",
       "      <td>0.0</td>\n",
       "      <td>0.0</td>\n",
       "      <td>0.0</td>\n",
       "      <td>0.0</td>\n",
       "      <td>0.0</td>\n",
       "      <td>0.0</td>\n",
       "      <td>0.0</td>\n",
       "      <td>0.0</td>\n",
       "      <td>0.0</td>\n",
       "      <td>0.0</td>\n",
       "      <td>...</td>\n",
       "      <td>1.0</td>\n",
       "      <td>1.0</td>\n",
       "      <td>1.0</td>\n",
       "      <td>1.0</td>\n",
       "      <td>1.0</td>\n",
       "      <td>0.0</td>\n",
       "      <td>0.0</td>\n",
       "      <td>0.0</td>\n",
       "      <td>0.0</td>\n",
       "      <td>0.0</td>\n",
       "    </tr>\n",
       "  </tbody>\n",
       "</table>\n",
       "<p>5 rows × 51711 columns</p>\n",
       "</div>"
      ],
      "text/plain": [
       "gene_id    fig|1123864.3.peg.102|VBISARClu237429_0102|  \\\n",
       "index                                                    \n",
       "ERR598993                                          0.0   \n",
       "ERR599140                                          0.0   \n",
       "ERR315859                                          0.0   \n",
       "ERR315860                                          0.0   \n",
       "ERR315858                                          0.0   \n",
       "\n",
       "gene_id    fig|1123864.3.peg.103|VBISARClu237429_0103|  \\\n",
       "index                                                    \n",
       "ERR598993                                          0.0   \n",
       "ERR599140                                          0.0   \n",
       "ERR315859                                          0.0   \n",
       "ERR315860                                          0.0   \n",
       "ERR315858                                          0.0   \n",
       "\n",
       "gene_id    fig|1123864.3.peg.105|VBISARClu237429_0105|  \\\n",
       "index                                                    \n",
       "ERR598993                                          0.0   \n",
       "ERR599140                                          0.0   \n",
       "ERR315859                                          0.0   \n",
       "ERR315860                                          0.0   \n",
       "ERR315858                                          0.0   \n",
       "\n",
       "gene_id    fig|1123864.3.peg.106|VBISARClu237429_0106|  \\\n",
       "index                                                    \n",
       "ERR598993                                          0.0   \n",
       "ERR599140                                          0.0   \n",
       "ERR315859                                          0.0   \n",
       "ERR315860                                          0.0   \n",
       "ERR315858                                          0.0   \n",
       "\n",
       "gene_id    fig|1123864.3.peg.108|VBISARClu237429_0108|  \\\n",
       "index                                                    \n",
       "ERR598993                                          0.0   \n",
       "ERR599140                                          0.0   \n",
       "ERR315859                                          0.0   \n",
       "ERR315860                                          0.0   \n",
       "ERR315858                                          0.0   \n",
       "\n",
       "gene_id    fig|1123864.3.peg.109|VBISARClu237429_0109|  \\\n",
       "index                                                    \n",
       "ERR598993                                          0.0   \n",
       "ERR599140                                          0.0   \n",
       "ERR315859                                          0.0   \n",
       "ERR315860                                          0.0   \n",
       "ERR315858                                          0.0   \n",
       "\n",
       "gene_id    fig|1123864.3.peg.111|VBISARClu237429_0111|  \\\n",
       "index                                                    \n",
       "ERR598993                                          0.0   \n",
       "ERR599140                                          0.0   \n",
       "ERR315859                                          0.0   \n",
       "ERR315860                                          0.0   \n",
       "ERR315858                                          0.0   \n",
       "\n",
       "gene_id    fig|1123864.3.peg.112|VBISARClu237429_0112|  \\\n",
       "index                                                    \n",
       "ERR598993                                          0.0   \n",
       "ERR599140                                          0.0   \n",
       "ERR315859                                          0.0   \n",
       "ERR315860                                          0.0   \n",
       "ERR315858                                          0.0   \n",
       "\n",
       "gene_id    fig|1123864.3.peg.115|VBISARClu237429_0115|  \\\n",
       "index                                                    \n",
       "ERR598993                                          0.0   \n",
       "ERR599140                                          0.0   \n",
       "ERR315859                                          0.0   \n",
       "ERR315860                                          0.0   \n",
       "ERR315858                                          0.0   \n",
       "\n",
       "gene_id    fig|1123864.3.peg.116|VBISARClu237429_0116|  \\\n",
       "index                                                    \n",
       "ERR598993                                          0.0   \n",
       "ERR599140                                          0.0   \n",
       "ERR315859                                          0.0   \n",
       "ERR315860                                          0.0   \n",
       "ERR315858                                          0.0   \n",
       "\n",
       "gene_id                ...               scf7180009409913_26157_27140_26  \\\n",
       "index                  ...                                                 \n",
       "ERR598993              ...                                           0.0   \n",
       "ERR599140              ...                                           0.0   \n",
       "ERR315859              ...                                           1.0   \n",
       "ERR315860              ...                                           1.0   \n",
       "ERR315858              ...                                           1.0   \n",
       "\n",
       "gene_id    scf7180009409913_27144_28913_27  scf7180009409913_28976_30082_28  \\\n",
       "index                                                                         \n",
       "ERR598993                              0.0                              0.0   \n",
       "ERR599140                              0.0                              0.0   \n",
       "ERR315859                              1.0                              1.0   \n",
       "ERR315860                              1.0                              1.0   \n",
       "ERR315858                              1.0                              1.0   \n",
       "\n",
       "gene_id    scf7180009409913_30060_31295_29  scf7180009409913_31282_32319_30  \\\n",
       "index                                                                         \n",
       "ERR598993                              0.0                              0.0   \n",
       "ERR599140                              1.0                              0.0   \n",
       "ERR315859                              1.0                              1.0   \n",
       "ERR315860                              1.0                              1.0   \n",
       "ERR315858                              1.0                              1.0   \n",
       "\n",
       "gene_id    scf7180009409913_32383_33123_31  scf7180009409913_33125_33334_32  \\\n",
       "index                                                                         \n",
       "ERR598993                              0.0                              0.0   \n",
       "ERR599140                              0.0                              0.0   \n",
       "ERR315859                              1.0                              0.0   \n",
       "ERR315860                              1.0                              0.0   \n",
       "ERR315858                              0.0                              0.0   \n",
       "\n",
       "gene_id    scf7180009409913_4750_2468_4  scf7180009409913_5274_4753_5  \\\n",
       "index                                                                   \n",
       "ERR598993                           0.0                           0.0   \n",
       "ERR599140                           0.0                           0.0   \n",
       "ERR315859                           0.0                           1.0   \n",
       "ERR315860                           0.0                           1.0   \n",
       "ERR315858                           0.0                           0.0   \n",
       "\n",
       "gene_id    scf7180009409913_5681_8779_6  \n",
       "index                                    \n",
       "ERR598993                           0.0  \n",
       "ERR599140                           0.0  \n",
       "ERR315859                           0.0  \n",
       "ERR315860                           0.0  \n",
       "ERR315858                           0.0  \n",
       "\n",
       "[5 rows x 51711 columns]"
      ]
     },
     "execution_count": 190,
     "metadata": {},
     "output_type": "execute_result"
    }
   ],
   "source": [
    "def binarize_matrix(df, threshold=0.37):\n",
    "    new_df = df.copy()\n",
    "    new_df[new_df > 0.37] = 1\n",
    "    new_df[new_df <= 0.37] = 0\n",
    "    return new_df\n",
    "\n",
    "normalized_37 = binarize_matrix(normalized, threshold=0.37)\n",
    "normalized_37.head()"
   ]
  },
  {
   "cell_type": "code",
   "execution_count": 192,
   "metadata": {
    "collapsed": true
   },
   "outputs": [],
   "source": [
    "normalized_37.to_csv(\"GeneCoverageMatrix_Normalized037_Binary.csv\")"
   ]
  },
  {
   "cell_type": "code",
   "execution_count": null,
   "metadata": {
    "collapsed": true
   },
   "outputs": [],
   "source": []
  }
 ],
 "metadata": {
  "kernelspec": {
   "display_name": "Python 2",
   "language": "python",
   "name": "python2"
  },
  "language_info": {
   "codemirror_mode": {
    "name": "ipython",
    "version": 2
   },
   "file_extension": ".py",
   "mimetype": "text/x-python",
   "name": "python",
   "nbconvert_exporter": "python",
   "pygments_lexer": "ipython2",
   "version": "2.7.12"
  }
 },
 "nbformat": 4,
 "nbformat_minor": 2
}
