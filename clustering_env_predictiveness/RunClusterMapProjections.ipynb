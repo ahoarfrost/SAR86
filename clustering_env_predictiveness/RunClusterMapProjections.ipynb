{
 "cells": [
  {
   "cell_type": "code",
   "execution_count": 1,
   "metadata": {
    "collapsed": false
   },
   "outputs": [],
   "source": [
    "#import sys\n",
    "#sys.path.append('../model_projections/')\n",
    "\n",
    "from MapProjectionsFns import *"
   ]
  },
  {
   "cell_type": "code",
   "execution_count": 2,
   "metadata": {
    "collapsed": true
   },
   "outputs": [],
   "source": [
    "import netCDF4 as nc\n",
    "projections = nc.Dataset(\"envforprojections_2009.nc\", \"r+\", format=\"NETCDF4\")\n",
    "contemp = projections['contemporary']\n",
    "monthly = projections['monthly']\n",
    "annual = projections['annual']"
   ]
  },
  {
   "cell_type": "code",
   "execution_count": 3,
   "metadata": {
    "collapsed": true
   },
   "outputs": [],
   "source": [
    "#reorder into expected order \n",
    "general_feats = ['latitude', 'longitude', 'depth_sampled']\n",
    "satellite_feats = ['chl_satellite', 'sst_satellite', 'par_satellite', 'pic_satellite', 'poc_satellite', 'npp_satellite']\n",
    "monthly_feats = ['chla_monthly_historical', 'cloudfraction_monthly_historical', 'daylength_monthly_historical', \n",
    "                 'dustflux_monthly_historical', 'solarinsolation_monthly_historical', 'pycnoclinedepth_monthly_historical',\n",
    "                 'thermoclinedepth_monthly_historical', 'nitrate_monthly_historical', 'npratio_monthly_historical',\n",
    "                 'oxygendissolved_monthly_historical', 'oxygensaturation_monthly_historical', 'oxygenutilization_monthly_historical',\n",
    "                 'phosphate_monthly_historical', 'salinity_monthly_historical', 'silicate_monthly_historical', 'oceantemp_monthly_historical'\n",
    "                ]\n",
    "annual_feats = ['chla_annual_historical', 'chla_annualrange_historical', 'cloudfraction_annual_historical', 'cloudfraction_annualstdev_historical',\n",
    "                'diffuseattenuation_annual_historical', 'par_annual_historical', 'salinity_annual_historical',\n",
    "                'thermoclinedepth_annualstdev_historical', 'nitrate_annual_historical', 'solarinsolation_annual_historical',\n",
    "                'distfromland_annual_historical', 'oxygendissolved_annual_historical', 'sst_annual_historical', \n",
    "                'pycnoclinedepth_annualstdev_historical', 'solarinsolation_annualstdev_historical', 'oceandepth_historical', \n",
    "                'dustflux_annual_historical', 'oxygensaturation_annual_historical', 'dustflux_annualstdev_historical', \n",
    "                'oxygenutilization_annual_historical', 'phosphate_annual_historical', 'silicate_annual_historical', \n",
    "                'calcite_annual_historical', 'oceantemp_annual_historical', 'ph_annual_historical'\n",
    "                ]\n",
    "\n",
    "feat_order = general_feats+satellite_feats+monthly_feats+annual_feats+['intercept']"
   ]
  },
  {
   "cell_type": "markdown",
   "metadata": {},
   "source": [
    "# create map projections"
   ]
  },
  {
   "cell_type": "code",
   "execution_count": 4,
   "metadata": {
    "collapsed": true
   },
   "outputs": [],
   "source": [
    "projnc = nc.Dataset(\"predictiveness_clusters_projections.nc\", \"w\", format=\"NETCDF4\")\n",
    "#projnc = nc.Dataset(\"predictiveclusters_projections_reruns.nc\", \"r+\", format=\"NETCDF4\")"
   ]
  },
  {
   "cell_type": "code",
   "execution_count": 14,
   "metadata": {
    "collapsed": true
   },
   "outputs": [],
   "source": [
    "def add_projection(contemp, monthly, annual, \n",
    "                   group_name, centroids, \n",
    "                   depth_sampled=-0.556543241, satellite_month=0, monthly_month=0, \n",
    "                   satellite_feats=satellite_feats, monthly_feats=monthly_feats, annual_feats=annual_feats):\n",
    "\n",
    "    #create k6 group in nc\n",
    "    print(\"creating netcdf group\",group_name,\"...\")\n",
    "    kGroup = projnc.createGroup(group_name)\n",
    "\n",
    "    #add dimensions - \n",
    "    #contemporary dims should be lat, lon, and time which will be unlimited (but for now 4 layers with quarterly months (Jan 2009, Apr 2009, July 2009, Oct 2009))\n",
    "    lat = kGroup.createDimension(\"lat\", 2160)\n",
    "    lon = kGroup.createDimension(\"lon\", 4320)\n",
    "\n",
    "    #create lat and lon and time variables as 64-bit floats and ints\n",
    "    latitudes = kGroup.createVariable(\"lat\",\"f8\",(\"lat\",))\n",
    "    longitudes = kGroup.createVariable(\"lon\",\"f8\",(\"lon\",))\n",
    "\n",
    "    #assign lat/lon values at 9km res to the lat/lon variables (same as contemp)\n",
    "    kGroup['lat'][:] = contemp['lat'][:]\n",
    "    kGroup['lon'][:] = contemp['lon'][:]\n",
    "\n",
    "    #extract predictions and add to nc\n",
    "    print(\"creating feature matrices...\")\n",
    "    feat_matrix = get_feat_matrices(contemp, monthly, annual, \n",
    "                                    depth_sampled=depth_sampled, satellite_month=satellite_month, \n",
    "                                    monthly_month=monthly_month, satellite_feats=satellite_feats, \n",
    "                                    monthly_feats=monthly_feats, annual_feats=annual_feats)\n",
    "    \n",
    "    for clust in centroids.columns:\n",
    "        print('---processing', clust, '---')\n",
    "        print(\"scoring the matrix...\")\n",
    "        testgene_scores = get_score_matrix(feat_matrix, weights=centroids[clust])\n",
    "        print(\"squishing through the sigmoid...\")\n",
    "        sigmoids = get_sigmoid_matrix(testgene_scores)\n",
    "        print(\"Eureka!\")\n",
    "        \n",
    "        #create a variable in our nc file for the sig if it doesn't exist, else just add data\n",
    "        if str(clust) in kGroup.variables:\n",
    "            kGroup[str(clust)][:] = sigmoids\n",
    "        else:\n",
    "            kGroup.createVariable(str(clust), \"f8\", (\"lat\", \"lon\"))\n",
    "            kGroup[str(clust)][:] = sigmoids"
   ]
  },
  {
   "cell_type": "markdown",
   "metadata": {
    "collapsed": true
   },
   "source": [
    "## k6"
   ]
  },
  {
   "cell_type": "code",
   "execution_count": 9,
   "metadata": {
    "collapsed": false
   },
   "outputs": [
    {
     "name": "stdout",
     "output_type": "stream",
     "text": [
      "creating netcdf group Jan2009_k6 ...\n",
      "---processing cluster1 ---\n",
      "creating feature matrices...\n",
      "getting general feats\n",
      "getting satellite feats\n",
      "getting monthly historical feats\n",
      "getting annual historical feats\n",
      "adding intercept\n",
      "DONE!\n",
      "scoring the matrix...\n",
      "squishing through the sigmoid...\n",
      "making predictions...\n",
      "Eureka!\n"
     ]
    },
    {
     "name": "stderr",
     "output_type": "stream",
     "text": [
      "/Users/Adrienne/Projects/SAR86/clustering_env_predictiveness/MapProjectionsFns.py:239: RuntimeWarning: invalid value encountered in greater_equal\n",
      "  prediction_matrix[prediction_matrix>=0.5] = 1\n",
      "/Users/Adrienne/Projects/SAR86/clustering_env_predictiveness/MapProjectionsFns.py:240: RuntimeWarning: invalid value encountered in less\n",
      "  prediction_matrix[prediction_matrix<0.5] = 0\n"
     ]
    },
    {
     "name": "stdout",
     "output_type": "stream",
     "text": [
      "---processing cluster2 ---\n",
      "creating feature matrices...\n",
      "getting general feats\n",
      "getting satellite feats\n",
      "getting monthly historical feats\n",
      "getting annual historical feats\n",
      "adding intercept\n",
      "DONE!\n",
      "scoring the matrix...\n",
      "squishing through the sigmoid...\n",
      "making predictions...\n",
      "Eureka!\n",
      "---processing cluster3 ---\n",
      "creating feature matrices...\n",
      "getting general feats\n",
      "getting satellite feats\n",
      "getting monthly historical feats\n",
      "getting annual historical feats\n",
      "adding intercept\n",
      "DONE!\n",
      "scoring the matrix...\n",
      "squishing through the sigmoid...\n",
      "making predictions...\n",
      "Eureka!\n",
      "---processing cluster4 ---\n",
      "creating feature matrices...\n",
      "getting general feats\n",
      "getting satellite feats\n",
      "getting monthly historical feats\n",
      "getting annual historical feats\n",
      "adding intercept\n",
      "DONE!\n",
      "scoring the matrix...\n",
      "squishing through the sigmoid...\n",
      "making predictions...\n",
      "Eureka!\n",
      "---processing cluster5 ---\n",
      "creating feature matrices...\n",
      "getting general feats\n",
      "getting satellite feats\n",
      "getting monthly historical feats\n",
      "getting annual historical feats\n",
      "adding intercept\n",
      "DONE!\n",
      "scoring the matrix...\n",
      "squishing through the sigmoid...\n",
      "making predictions...\n",
      "Eureka!\n",
      "---processing cluster6 ---\n",
      "creating feature matrices...\n",
      "getting general feats\n",
      "getting satellite feats\n",
      "getting monthly historical feats\n",
      "getting annual historical feats\n",
      "adding intercept\n",
      "DONE!\n",
      "scoring the matrix...\n",
      "squishing through the sigmoid...\n",
      "making predictions...\n",
      "Eureka!\n"
     ]
    }
   ],
   "source": [
    "centroids6 = pd.read_csv(\"centroidsk6.csv\", index_col=\"feature\")\n",
    "\n",
    "add_projection(contemp, monthly, annual, \n",
    "               group_name=\"Jan2009_k6\", centroids=centroids6, \n",
    "               depth_sampled=-0.556543241, satellite_month=0, monthly_month=0, \n",
    "               satellite_feats=satellite_feats, monthly_feats=monthly_feats, annual_feats=annual_feats)"
   ]
  },
  {
   "cell_type": "markdown",
   "metadata": {},
   "source": [
    "## k4"
   ]
  },
  {
   "cell_type": "code",
   "execution_count": 10,
   "metadata": {
    "collapsed": false
   },
   "outputs": [
    {
     "name": "stdout",
     "output_type": "stream",
     "text": [
      "creating netcdf group Jan2009_k4 ...\n",
      "---processing cluster1 ---\n",
      "creating feature matrices...\n",
      "getting general feats\n",
      "getting satellite feats\n",
      "getting monthly historical feats\n",
      "getting annual historical feats\n",
      "adding intercept\n",
      "DONE!\n",
      "scoring the matrix...\n",
      "squishing through the sigmoid...\n",
      "making predictions...\n",
      "Eureka!\n"
     ]
    },
    {
     "name": "stderr",
     "output_type": "stream",
     "text": [
      "/Users/Adrienne/Projects/SAR86/clustering_env_predictiveness/MapProjectionsFns.py:239: RuntimeWarning: invalid value encountered in greater_equal\n",
      "  prediction_matrix[prediction_matrix>=0.5] = 1\n",
      "/Users/Adrienne/Projects/SAR86/clustering_env_predictiveness/MapProjectionsFns.py:240: RuntimeWarning: invalid value encountered in less\n",
      "  prediction_matrix[prediction_matrix<0.5] = 0\n"
     ]
    },
    {
     "name": "stdout",
     "output_type": "stream",
     "text": [
      "---processing cluster2 ---\n",
      "creating feature matrices...\n",
      "getting general feats\n",
      "getting satellite feats\n",
      "getting monthly historical feats\n",
      "getting annual historical feats\n",
      "adding intercept\n",
      "DONE!\n",
      "scoring the matrix...\n",
      "squishing through the sigmoid...\n",
      "making predictions...\n",
      "Eureka!\n",
      "---processing cluster3 ---\n",
      "creating feature matrices...\n",
      "getting general feats\n",
      "getting satellite feats\n",
      "getting monthly historical feats\n",
      "getting annual historical feats\n",
      "adding intercept\n",
      "DONE!\n",
      "scoring the matrix...\n",
      "squishing through the sigmoid...\n",
      "making predictions...\n",
      "Eureka!\n",
      "---processing cluster4 ---\n",
      "creating feature matrices...\n",
      "getting general feats\n",
      "getting satellite feats\n",
      "getting monthly historical feats\n",
      "getting annual historical feats\n",
      "adding intercept\n",
      "DONE!\n",
      "scoring the matrix...\n",
      "squishing through the sigmoid...\n",
      "making predictions...\n",
      "Eureka!\n"
     ]
    }
   ],
   "source": [
    "centroids4 = pd.read_csv(\"centroidsk4.csv\", index_col=\"feature\")\n",
    "\n",
    "add_projection(contemp, monthly, annual, \n",
    "               group_name=\"Jan2009_k4\", centroids=centroids4, \n",
    "               depth_sampled=-0.556543241, satellite_month=0, monthly_month=0, \n",
    "               satellite_feats=satellite_feats, monthly_feats=monthly_feats, annual_feats=annual_feats)"
   ]
  },
  {
   "cell_type": "markdown",
   "metadata": {},
   "source": [
    "## k5"
   ]
  },
  {
   "cell_type": "code",
   "execution_count": 11,
   "metadata": {
    "collapsed": false
   },
   "outputs": [
    {
     "name": "stdout",
     "output_type": "stream",
     "text": [
      "creating netcdf group Jan2009_k5 ...\n",
      "---processing cluster1 ---\n",
      "creating feature matrices...\n",
      "getting general feats\n",
      "getting satellite feats\n",
      "getting monthly historical feats\n",
      "getting annual historical feats\n",
      "adding intercept\n",
      "DONE!\n",
      "scoring the matrix...\n",
      "squishing through the sigmoid...\n",
      "making predictions...\n",
      "Eureka!\n"
     ]
    },
    {
     "name": "stderr",
     "output_type": "stream",
     "text": [
      "/Users/Adrienne/Projects/SAR86/clustering_env_predictiveness/MapProjectionsFns.py:239: RuntimeWarning: invalid value encountered in greater_equal\n",
      "  prediction_matrix[prediction_matrix>=0.5] = 1\n",
      "/Users/Adrienne/Projects/SAR86/clustering_env_predictiveness/MapProjectionsFns.py:240: RuntimeWarning: invalid value encountered in less\n",
      "  prediction_matrix[prediction_matrix<0.5] = 0\n"
     ]
    },
    {
     "name": "stdout",
     "output_type": "stream",
     "text": [
      "---processing cluster2 ---\n",
      "creating feature matrices...\n",
      "getting general feats\n",
      "getting satellite feats\n",
      "getting monthly historical feats\n",
      "getting annual historical feats\n",
      "adding intercept\n",
      "DONE!\n",
      "scoring the matrix...\n",
      "squishing through the sigmoid...\n",
      "making predictions...\n",
      "Eureka!\n",
      "---processing cluster3 ---\n",
      "creating feature matrices...\n",
      "getting general feats\n",
      "getting satellite feats\n",
      "getting monthly historical feats\n",
      "getting annual historical feats\n",
      "adding intercept\n",
      "DONE!\n",
      "scoring the matrix...\n",
      "squishing through the sigmoid...\n",
      "making predictions...\n",
      "Eureka!\n",
      "---processing cluster4 ---\n",
      "creating feature matrices...\n",
      "getting general feats\n",
      "getting satellite feats\n",
      "getting monthly historical feats\n",
      "getting annual historical feats\n",
      "adding intercept\n",
      "DONE!\n",
      "scoring the matrix...\n",
      "squishing through the sigmoid...\n",
      "making predictions...\n",
      "Eureka!\n",
      "---processing cluster5 ---\n",
      "creating feature matrices...\n",
      "getting general feats\n",
      "getting satellite feats\n",
      "getting monthly historical feats\n",
      "getting annual historical feats\n",
      "adding intercept\n",
      "DONE!\n",
      "scoring the matrix...\n",
      "squishing through the sigmoid...\n",
      "making predictions...\n",
      "Eureka!\n"
     ]
    }
   ],
   "source": [
    "centroids5 = pd.read_csv(\"centroidsk5.csv\", index_col=\"feature\")\n",
    "\n",
    "add_projection(contemp, monthly, annual, \n",
    "               group_name=\"Jan2009_k5\", centroids=centroids5, \n",
    "               depth_sampled=-0.556543241, satellite_month=0, monthly_month=0, \n",
    "               satellite_feats=satellite_feats, monthly_feats=monthly_feats, annual_feats=annual_feats)"
   ]
  },
  {
   "cell_type": "markdown",
   "metadata": {},
   "source": [
    "## k7"
   ]
  },
  {
   "cell_type": "code",
   "execution_count": 12,
   "metadata": {
    "collapsed": false
   },
   "outputs": [
    {
     "name": "stdout",
     "output_type": "stream",
     "text": [
      "creating netcdf group Jan2009_k7 ...\n",
      "---processing cluster1 ---\n",
      "creating feature matrices...\n",
      "getting general feats\n",
      "getting satellite feats\n",
      "getting monthly historical feats\n",
      "getting annual historical feats\n",
      "adding intercept\n",
      "DONE!\n",
      "scoring the matrix...\n",
      "squishing through the sigmoid...\n",
      "making predictions...\n",
      "Eureka!\n"
     ]
    },
    {
     "name": "stderr",
     "output_type": "stream",
     "text": [
      "/Users/Adrienne/Projects/SAR86/clustering_env_predictiveness/MapProjectionsFns.py:239: RuntimeWarning: invalid value encountered in greater_equal\n",
      "  prediction_matrix[prediction_matrix>=0.5] = 1\n",
      "/Users/Adrienne/Projects/SAR86/clustering_env_predictiveness/MapProjectionsFns.py:240: RuntimeWarning: invalid value encountered in less\n",
      "  prediction_matrix[prediction_matrix<0.5] = 0\n"
     ]
    },
    {
     "name": "stdout",
     "output_type": "stream",
     "text": [
      "---processing cluster2 ---\n",
      "creating feature matrices...\n",
      "getting general feats\n",
      "getting satellite feats\n",
      "getting monthly historical feats\n",
      "getting annual historical feats\n",
      "adding intercept\n",
      "DONE!\n",
      "scoring the matrix...\n",
      "squishing through the sigmoid...\n",
      "making predictions...\n",
      "Eureka!\n",
      "---processing cluster3 ---\n",
      "creating feature matrices...\n",
      "getting general feats\n",
      "getting satellite feats\n",
      "getting monthly historical feats\n",
      "getting annual historical feats\n",
      "adding intercept\n",
      "DONE!\n",
      "scoring the matrix...\n",
      "squishing through the sigmoid...\n",
      "making predictions...\n",
      "Eureka!\n",
      "---processing cluster4 ---\n",
      "creating feature matrices...\n",
      "getting general feats\n",
      "getting satellite feats\n",
      "getting monthly historical feats\n",
      "getting annual historical feats\n",
      "adding intercept\n",
      "DONE!\n",
      "scoring the matrix...\n",
      "squishing through the sigmoid...\n",
      "making predictions...\n",
      "Eureka!\n",
      "---processing cluster5 ---\n",
      "creating feature matrices...\n",
      "getting general feats\n",
      "getting satellite feats\n",
      "getting monthly historical feats\n",
      "getting annual historical feats\n",
      "adding intercept\n",
      "DONE!\n",
      "scoring the matrix...\n",
      "squishing through the sigmoid...\n",
      "making predictions...\n",
      "Eureka!\n",
      "---processing cluster6 ---\n",
      "creating feature matrices...\n",
      "getting general feats\n",
      "getting satellite feats\n",
      "getting monthly historical feats\n",
      "getting annual historical feats\n",
      "adding intercept\n",
      "DONE!\n",
      "scoring the matrix...\n",
      "squishing through the sigmoid...\n",
      "making predictions...\n",
      "Eureka!\n",
      "---processing cluster7 ---\n",
      "creating feature matrices...\n",
      "getting general feats\n",
      "getting satellite feats\n",
      "getting monthly historical feats\n",
      "getting annual historical feats\n",
      "adding intercept\n",
      "DONE!\n",
      "scoring the matrix...\n",
      "squishing through the sigmoid...\n",
      "making predictions...\n",
      "Eureka!\n"
     ]
    }
   ],
   "source": [
    "centroids7 = pd.read_csv(\"centroidsk7.csv\", index_col=\"feature\")\n",
    "\n",
    "add_projection(contemp, monthly, annual, \n",
    "               group_name=\"Jan2009_k7\", centroids=centroids7, \n",
    "               depth_sampled=-0.556543241, satellite_month=0, monthly_month=0, \n",
    "               satellite_feats=satellite_feats, monthly_feats=monthly_feats, annual_feats=annual_feats)"
   ]
  },
  {
   "cell_type": "markdown",
   "metadata": {},
   "source": [
    "## k9"
   ]
  },
  {
   "cell_type": "code",
   "execution_count": 13,
   "metadata": {
    "collapsed": false
   },
   "outputs": [
    {
     "name": "stdout",
     "output_type": "stream",
     "text": [
      "creating netcdf group Jan2009_k9 ...\n",
      "---processing cluster1 ---\n",
      "creating feature matrices...\n",
      "getting general feats\n",
      "getting satellite feats\n",
      "getting monthly historical feats\n",
      "getting annual historical feats\n",
      "adding intercept\n",
      "DONE!\n",
      "scoring the matrix...\n",
      "squishing through the sigmoid...\n",
      "making predictions...\n"
     ]
    },
    {
     "name": "stderr",
     "output_type": "stream",
     "text": [
      "/Users/Adrienne/Projects/SAR86/clustering_env_predictiveness/MapProjectionsFns.py:239: RuntimeWarning: invalid value encountered in greater_equal\n",
      "  prediction_matrix[prediction_matrix>=0.5] = 1\n",
      "/Users/Adrienne/Projects/SAR86/clustering_env_predictiveness/MapProjectionsFns.py:240: RuntimeWarning: invalid value encountered in less\n",
      "  prediction_matrix[prediction_matrix<0.5] = 0\n"
     ]
    },
    {
     "name": "stdout",
     "output_type": "stream",
     "text": [
      "Eureka!\n",
      "---processing cluster2 ---\n",
      "creating feature matrices...\n",
      "getting general feats\n",
      "getting satellite feats\n",
      "getting monthly historical feats\n",
      "getting annual historical feats\n",
      "adding intercept\n",
      "DONE!\n",
      "scoring the matrix...\n",
      "squishing through the sigmoid...\n",
      "making predictions...\n",
      "Eureka!\n",
      "---processing cluster3 ---\n",
      "creating feature matrices...\n",
      "getting general feats\n",
      "getting satellite feats\n",
      "getting monthly historical feats\n",
      "getting annual historical feats\n",
      "adding intercept\n",
      "DONE!\n",
      "scoring the matrix...\n",
      "squishing through the sigmoid...\n",
      "making predictions...\n",
      "Eureka!\n",
      "---processing cluster4 ---\n",
      "creating feature matrices...\n",
      "getting general feats\n",
      "getting satellite feats\n",
      "getting monthly historical feats\n",
      "getting annual historical feats\n",
      "adding intercept\n",
      "DONE!\n",
      "scoring the matrix...\n",
      "squishing through the sigmoid...\n",
      "making predictions...\n",
      "Eureka!\n",
      "---processing cluster5 ---\n",
      "creating feature matrices...\n",
      "getting general feats\n",
      "getting satellite feats\n",
      "getting monthly historical feats\n",
      "getting annual historical feats\n",
      "adding intercept\n",
      "DONE!\n",
      "scoring the matrix...\n",
      "squishing through the sigmoid...\n",
      "making predictions...\n",
      "Eureka!\n",
      "---processing cluster6 ---\n",
      "creating feature matrices...\n",
      "getting general feats\n",
      "getting satellite feats\n",
      "getting monthly historical feats\n",
      "getting annual historical feats\n",
      "adding intercept\n",
      "DONE!\n",
      "scoring the matrix...\n",
      "squishing through the sigmoid...\n",
      "making predictions...\n",
      "Eureka!\n",
      "---processing cluster7 ---\n",
      "creating feature matrices...\n",
      "getting general feats\n",
      "getting satellite feats\n",
      "getting monthly historical feats\n",
      "getting annual historical feats\n",
      "adding intercept\n",
      "DONE!\n",
      "scoring the matrix...\n",
      "squishing through the sigmoid...\n",
      "making predictions...\n",
      "Eureka!\n",
      "---processing cluster8 ---\n",
      "creating feature matrices...\n",
      "getting general feats\n",
      "getting satellite feats\n",
      "getting monthly historical feats\n",
      "getting annual historical feats\n",
      "adding intercept\n",
      "DONE!\n",
      "scoring the matrix...\n",
      "squishing through the sigmoid...\n",
      "making predictions...\n",
      "Eureka!\n",
      "---processing cluster9 ---\n",
      "creating feature matrices...\n",
      "getting general feats\n",
      "getting satellite feats\n",
      "getting monthly historical feats\n",
      "getting annual historical feats\n",
      "adding intercept\n",
      "DONE!\n",
      "scoring the matrix...\n",
      "squishing through the sigmoid...\n",
      "making predictions...\n",
      "Eureka!\n"
     ]
    }
   ],
   "source": [
    "centroids9 = pd.read_csv(\"centroidsk9.csv\", index_col=\"feature\")\n",
    "\n",
    "add_projection(contemp, monthly, annual, \n",
    "               group_name=\"Jan2009_k9\", centroids=centroids9, \n",
    "               depth_sampled=-0.556543241, satellite_month=0, monthly_month=0, \n",
    "               satellite_feats=satellite_feats, monthly_feats=monthly_feats, annual_feats=annual_feats)"
   ]
  },
  {
   "cell_type": "markdown",
   "metadata": {},
   "source": [
    "## close and save"
   ]
  },
  {
   "cell_type": "code",
   "execution_count": 15,
   "metadata": {
    "collapsed": true
   },
   "outputs": [],
   "source": [
    "projnc.close()"
   ]
  },
  {
   "cell_type": "code",
   "execution_count": null,
   "metadata": {
    "collapsed": true
   },
   "outputs": [],
   "source": [
    "centroids"
   ]
  },
  {
   "cell_type": "code",
   "execution_count": 20,
   "metadata": {
    "collapsed": false
   },
   "outputs": [
    {
     "name": "stdout",
     "output_type": "stream",
     "text": [
      "cluster1\n",
      "feature\n",
      "sst_annual_historical          1.129485\n",
      "dustflux_monthly_historical   -0.494388\n",
      "longitude                      0.490295\n",
      "ph_annual_historical          -0.410091\n",
      "par_annual_historical         -0.401255\n",
      "Name: cluster1, dtype: float64\n",
      "cluster2\n",
      "feature\n",
      "dustflux_monthly_historical          -1.144733\n",
      "oceantemp_monthly_historical         -0.997688\n",
      "phosphate_annual_historical          -0.859224\n",
      "sst_annual_historical                 0.559622\n",
      "pycnoclinedepth_monthly_historical    0.488912\n",
      "Name: cluster2, dtype: float64\n",
      "cluster3\n",
      "feature\n",
      "intercept                            -0.497136\n",
      "oceantemp_monthly_historical         -0.484080\n",
      "pycnoclinedepth_monthly_historical    0.381975\n",
      "salinity_monthly_historical           0.345350\n",
      "pic_satellite                        -0.345302\n",
      "Name: cluster3, dtype: float64\n",
      "cluster4\n",
      "feature\n",
      "sst_annual_historical                    -1.251535\n",
      "intercept                                -1.002843\n",
      "solarinsolation_annualstdev_historical    0.759041\n",
      "cloudfraction_annual_historical           0.538043\n",
      "solarinsolation_annual_historical         0.530214\n",
      "Name: cluster4, dtype: float64\n",
      "cluster5\n",
      "feature\n",
      "diffuseattenuation_annual_historical   -2.483485\n",
      "longitude                               0.909220\n",
      "sst_annual_historical                   0.839846\n",
      "intercept                              -0.414796\n",
      "dustflux_monthly_historical            -0.411807\n",
      "Name: cluster5, dtype: float64\n",
      "cluster6\n",
      "feature\n",
      "longitude                                -1.010787\n",
      "intercept                                -0.863220\n",
      "par_annual_historical                     0.842113\n",
      "cloudfraction_monthly_historical         -0.721382\n",
      "solarinsolation_annualstdev_historical   -0.402588\n",
      "Name: cluster6, dtype: float64\n",
      "abs\n",
      "feature\n",
      "longitude                                 1.010787\n",
      "intercept                                 0.863220\n",
      "par_annual_historical                     0.842113\n",
      "cloudfraction_monthly_historical          0.721382\n",
      "solarinsolation_annualstdev_historical    0.402588\n",
      "Name: abs, dtype: float64\n"
     ]
    }
   ],
   "source": [
    "for clust in centroids6.columns:\n",
    "    print(clust)\n",
    "    centroids6['abs'] = np.abs(centroids6[clust])\n",
    "    print(centroids6.sort_values('abs', ascending=False)[clust][0:5])"
   ]
  },
  {
   "cell_type": "code",
   "execution_count": 25,
   "metadata": {
    "collapsed": false
   },
   "outputs": [
    {
     "name": "stdout",
     "output_type": "stream",
     "text": [
      "cluster1\n",
      "feature\n",
      "oceantemp_monthly_historical         -1.229621\n",
      "dustflux_monthly_historical          -0.749405\n",
      "phosphate_annual_historical          -0.662722\n",
      "pycnoclinedepth_monthly_historical    0.502970\n",
      "silicate_annual_historical           -0.402657\n",
      "intercept                            -0.395469\n",
      "sst_annual_historical                 0.359480\n",
      "nitrate_annual_historical            -0.356527\n",
      "salinity_monthly_historical           0.328024\n",
      "ph_annual_historical                 -0.296881\n",
      "Name: cluster1, dtype: float64\n",
      "cluster2\n",
      "feature\n",
      "longitude                                -1.006533\n",
      "intercept                                -0.860165\n",
      "par_annual_historical                     0.837770\n",
      "cloudfraction_monthly_historical         -0.716344\n",
      "solarinsolation_annualstdev_historical   -0.400064\n",
      "oceandepth_historical                    -0.357778\n",
      "chla_annualrange_historical              -0.212551\n",
      "dustflux_annualstdev_historical          -0.189754\n",
      "latitude                                 -0.173854\n",
      "salinity_annual_historical               -0.152908\n",
      "Name: cluster2, dtype: float64\n",
      "cluster3\n",
      "feature\n",
      "diffuseattenuation_annual_historical   -2.425814\n",
      "longitude                               0.916298\n",
      "sst_annual_historical                   0.869847\n",
      "dustflux_monthly_historical            -0.396801\n",
      "intercept                              -0.390381\n",
      "ph_annual_historical                   -0.298187\n",
      "phosphate_monthly_historical           -0.287502\n",
      "cloudfraction_monthly_historical        0.240449\n",
      "pycnoclinedepth_monthly_historical     -0.234583\n",
      "oxygendissolved_annual_historical      -0.183196\n",
      "Name: cluster3, dtype: float64\n",
      "cluster4\n",
      "feature\n",
      "sst_annual_historical                      0.950241\n",
      "dustflux_monthly_historical               -0.532879\n",
      "longitude                                  0.421757\n",
      "ph_annual_historical                      -0.408672\n",
      "thermoclinedepth_annualstdev_historical   -0.367978\n",
      "par_annual_historical                     -0.332718\n",
      "salinity_monthly_historical                0.270765\n",
      "phosphate_monthly_historical              -0.257536\n",
      "diffuseattenuation_annual_historical      -0.242395\n",
      "cloudfraction_annualstdev_historical       0.217300\n",
      "Name: cluster4, dtype: float64\n",
      "cluster5\n",
      "feature\n",
      "intercept                                -0.739576\n",
      "solarinsolation_annualstdev_historical    0.583253\n",
      "sst_annual_historical                    -0.488760\n",
      "pic_satellite                            -0.416385\n",
      "cloudfraction_annual_historical           0.413458\n",
      "silicate_annual_historical               -0.362359\n",
      "par_satellite                             0.305361\n",
      "pycnoclinedepth_monthly_historical        0.260376\n",
      "thermoclinedepth_monthly_historical      -0.259979\n",
      "daylength_monthly_historical             -0.246095\n",
      "Name: cluster5, dtype: float64\n",
      "abs\n",
      "feature\n",
      "intercept                                 0.739576\n",
      "solarinsolation_annualstdev_historical    0.583253\n",
      "sst_annual_historical                     0.488760\n",
      "pic_satellite                             0.416385\n",
      "cloudfraction_annual_historical           0.413458\n",
      "silicate_annual_historical                0.362359\n",
      "par_satellite                             0.305361\n",
      "pycnoclinedepth_monthly_historical        0.260376\n",
      "thermoclinedepth_monthly_historical       0.259979\n",
      "daylength_monthly_historical              0.246095\n",
      "Name: abs, dtype: float64\n"
     ]
    }
   ],
   "source": [
    "for clust in centroids5.columns:\n",
    "    print(clust)\n",
    "    centroids5['abs'] = np.abs(centroids5[clust])\n",
    "    print(centroids5.sort_values('abs', ascending=False)[clust][0:10])"
   ]
  },
  {
   "cell_type": "code",
   "execution_count": 23,
   "metadata": {
    "collapsed": false
   },
   "outputs": [
    {
     "name": "stdout",
     "output_type": "stream",
     "text": [
      "cluster1\n",
      "feature\n",
      "oceantemp_monthly_historical           -1.659877\n",
      "nitrate_annual_historical              -1.134866\n",
      "diffuseattenuation_annual_historical    0.681379\n",
      "silicate_annual_historical             -0.674376\n",
      "intercept                              -0.552039\n",
      "Name: cluster1, dtype: float64\n",
      "cluster2\n",
      "feature\n",
      "dustflux_monthly_historical          -1.146993\n",
      "oceantemp_monthly_historical         -1.000573\n",
      "phosphate_annual_historical          -0.873037\n",
      "sst_annual_historical                 0.563133\n",
      "pycnoclinedepth_monthly_historical    0.490135\n",
      "Name: cluster2, dtype: float64\n",
      "cluster3\n",
      "feature\n",
      "sst_annual_historical          1.269904\n",
      "dustflux_monthly_historical   -0.530354\n",
      "longitude                      0.472052\n",
      "par_annual_historical         -0.456367\n",
      "ph_annual_historical          -0.438842\n",
      "Name: cluster3, dtype: float64\n",
      "cluster4\n",
      "feature\n",
      "sst_annual_historical                    -1.237516\n",
      "intercept                                -1.000791\n",
      "solarinsolation_annualstdev_historical    0.775252\n",
      "cloudfraction_annual_historical           0.523602\n",
      "solarinsolation_annual_historical         0.518014\n",
      "Name: cluster4, dtype: float64\n",
      "cluster5\n",
      "feature\n",
      "intercept                            -0.394457\n",
      "salinity_monthly_historical           0.372978\n",
      "pycnoclinedepth_monthly_historical    0.345125\n",
      "pic_satellite                        -0.260871\n",
      "cloudfraction_annual_historical       0.251302\n",
      "Name: cluster5, dtype: float64\n",
      "cluster6\n",
      "feature\n",
      "diffuseattenuation_annual_historical   -2.488399\n",
      "longitude                               0.910981\n",
      "sst_annual_historical                   0.838526\n",
      "dustflux_monthly_historical            -0.414160\n",
      "intercept                              -0.411184\n",
      "Name: cluster6, dtype: float64\n",
      "cluster7\n",
      "feature\n",
      "longitude                                -1.039583\n",
      "intercept                                -0.879273\n",
      "par_annual_historical                     0.860979\n",
      "cloudfraction_monthly_historical         -0.742764\n",
      "solarinsolation_annualstdev_historical   -0.405100\n",
      "Name: cluster7, dtype: float64\n"
     ]
    }
   ],
   "source": [
    "for clust in centroids7.columns:\n",
    "    print(clust)\n",
    "    centroids7['abs'] = np.abs(centroids7[clust])\n",
    "    print(centroids7.sort_values('abs', ascending=False)[clust][0:5])"
   ]
  },
  {
   "cell_type": "code",
   "execution_count": 24,
   "metadata": {
    "collapsed": false
   },
   "outputs": [
    {
     "name": "stdout",
     "output_type": "stream",
     "text": [
      "cluster1\n",
      "feature\n",
      "sst_annual_historical                      0.835441\n",
      "dustflux_monthly_historical               -0.700363\n",
      "ph_annual_historical                      -0.397605\n",
      "longitude                                  0.363905\n",
      "thermoclinedepth_annualstdev_historical   -0.330468\n",
      "Name: cluster1, dtype: float64\n",
      "cluster2\n",
      "feature\n",
      "longitude                                -1.004915\n",
      "intercept                                -0.859995\n",
      "par_annual_historical                     0.837923\n",
      "cloudfraction_monthly_historical         -0.716320\n",
      "solarinsolation_annualstdev_historical   -0.400537\n",
      "Name: cluster2, dtype: float64\n",
      "cluster3\n",
      "feature\n",
      "diffuseattenuation_annual_historical   -2.325409\n",
      "longitude                               0.908290\n",
      "sst_annual_historical                   0.889108\n",
      "dustflux_monthly_historical            -0.388986\n",
      "intercept                              -0.352971\n",
      "Name: cluster3, dtype: float64\n",
      "cluster4\n",
      "feature\n",
      "intercept                                -0.702086\n",
      "solarinsolation_annualstdev_historical    0.490003\n",
      "silicate_annual_historical               -0.424636\n",
      "oceantemp_monthly_historical             -0.419085\n",
      "pic_satellite                            -0.413112\n",
      "Name: cluster4, dtype: float64\n"
     ]
    }
   ],
   "source": [
    "for clust in centroids4.columns:\n",
    "    print(clust)\n",
    "    centroids4['abs'] = np.abs(centroids4[clust])\n",
    "    print(centroids4.sort_values('abs', ascending=False)[clust][0:5])"
   ]
  },
  {
   "cell_type": "code",
   "execution_count": null,
   "metadata": {
    "collapsed": true
   },
   "outputs": [],
   "source": []
  }
 ],
 "metadata": {
  "kernelspec": {
   "display_name": "Python 3",
   "language": "python",
   "name": "python3"
  },
  "language_info": {
   "codemirror_mode": {
    "name": "ipython",
    "version": 3
   },
   "file_extension": ".py",
   "mimetype": "text/x-python",
   "name": "python",
   "nbconvert_exporter": "python",
   "pygments_lexer": "ipython3",
   "version": "3.4.5"
  }
 },
 "nbformat": 4,
 "nbformat_minor": 2
}
